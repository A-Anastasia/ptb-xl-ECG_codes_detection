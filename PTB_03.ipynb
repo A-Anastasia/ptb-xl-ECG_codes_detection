{
  "cells": [
    {
      "cell_type": "code",
      "execution_count": 1,
      "metadata": {
        "colab": {
          "base_uri": "https://localhost:8080/"
        },
        "id": "ZyyaDQGGIfMO",
        "outputId": "d9b4653c-07a5-4b74-d9de-79fc6bb73568"
      },
      "outputs": [
        {
          "output_type": "stream",
          "name": "stdout",
          "text": [
            "Mounted at /content/gdrive\n"
          ]
        }
      ],
      "source": [
        "from google.colab import drive\n",
        "drive.mount('/content/gdrive')"
      ]
    },
    {
      "cell_type": "code",
      "source": [
        "!pip install neurokit2\n",
        "!pip install catboost\n",
        "!pip install lightgbm\n",
        "!pip install xgboost"
      ],
      "metadata": {
        "colab": {
          "base_uri": "https://localhost:8080/"
        },
        "id": "Gndj3o0du_ya",
        "outputId": "92f5533e-07c3-490e-a21c-97d4f408de51"
      },
      "execution_count": 2,
      "outputs": [
        {
          "output_type": "stream",
          "name": "stdout",
          "text": [
            "Looking in indexes: https://pypi.org/simple, https://us-python.pkg.dev/colab-wheels/public/simple/\n",
            "Collecting neurokit2\n",
            "  Downloading neurokit2-0.2.0-py2.py3-none-any.whl (1.2 MB)\n",
            "\u001b[K     |████████████████████████████████| 1.2 MB 4.3 MB/s \n",
            "\u001b[?25hRequirement already satisfied: numpy in /usr/local/lib/python3.7/dist-packages (from neurokit2) (1.21.6)\n",
            "Requirement already satisfied: pandas in /usr/local/lib/python3.7/dist-packages (from neurokit2) (1.3.5)\n",
            "Requirement already satisfied: matplotlib in /usr/local/lib/python3.7/dist-packages (from neurokit2) (3.2.2)\n",
            "Requirement already satisfied: scikit-learn>=1.0.0 in /usr/local/lib/python3.7/dist-packages (from neurokit2) (1.0.2)\n",
            "Requirement already satisfied: scipy in /usr/local/lib/python3.7/dist-packages (from neurokit2) (1.4.1)\n",
            "Requirement already satisfied: joblib>=0.11 in /usr/local/lib/python3.7/dist-packages (from scikit-learn>=1.0.0->neurokit2) (1.1.0)\n",
            "Requirement already satisfied: threadpoolctl>=2.0.0 in /usr/local/lib/python3.7/dist-packages (from scikit-learn>=1.0.0->neurokit2) (3.1.0)\n",
            "Requirement already satisfied: kiwisolver>=1.0.1 in /usr/local/lib/python3.7/dist-packages (from matplotlib->neurokit2) (1.4.3)\n",
            "Requirement already satisfied: cycler>=0.10 in /usr/local/lib/python3.7/dist-packages (from matplotlib->neurokit2) (0.11.0)\n",
            "Requirement already satisfied: python-dateutil>=2.1 in /usr/local/lib/python3.7/dist-packages (from matplotlib->neurokit2) (2.8.2)\n",
            "Requirement already satisfied: pyparsing!=2.0.4,!=2.1.2,!=2.1.6,>=2.0.1 in /usr/local/lib/python3.7/dist-packages (from matplotlib->neurokit2) (3.0.9)\n",
            "Requirement already satisfied: typing-extensions in /usr/local/lib/python3.7/dist-packages (from kiwisolver>=1.0.1->matplotlib->neurokit2) (4.1.1)\n",
            "Requirement already satisfied: six>=1.5 in /usr/local/lib/python3.7/dist-packages (from python-dateutil>=2.1->matplotlib->neurokit2) (1.15.0)\n",
            "Requirement already satisfied: pytz>=2017.3 in /usr/local/lib/python3.7/dist-packages (from pandas->neurokit2) (2022.1)\n",
            "Installing collected packages: neurokit2\n",
            "Successfully installed neurokit2-0.2.0\n",
            "Looking in indexes: https://pypi.org/simple, https://us-python.pkg.dev/colab-wheels/public/simple/\n",
            "Collecting catboost\n",
            "  Downloading catboost-1.0.6-cp37-none-manylinux1_x86_64.whl (76.6 MB)\n",
            "\u001b[K     |████████████████████████████████| 76.6 MB 1.2 MB/s \n",
            "\u001b[?25hRequirement already satisfied: plotly in /usr/local/lib/python3.7/dist-packages (from catboost) (5.5.0)\n",
            "Requirement already satisfied: scipy in /usr/local/lib/python3.7/dist-packages (from catboost) (1.4.1)\n",
            "Requirement already satisfied: graphviz in /usr/local/lib/python3.7/dist-packages (from catboost) (0.10.1)\n",
            "Requirement already satisfied: six in /usr/local/lib/python3.7/dist-packages (from catboost) (1.15.0)\n",
            "Requirement already satisfied: pandas>=0.24.0 in /usr/local/lib/python3.7/dist-packages (from catboost) (1.3.5)\n",
            "Requirement already satisfied: numpy>=1.16.0 in /usr/local/lib/python3.7/dist-packages (from catboost) (1.21.6)\n",
            "Requirement already satisfied: matplotlib in /usr/local/lib/python3.7/dist-packages (from catboost) (3.2.2)\n",
            "Requirement already satisfied: pytz>=2017.3 in /usr/local/lib/python3.7/dist-packages (from pandas>=0.24.0->catboost) (2022.1)\n",
            "Requirement already satisfied: python-dateutil>=2.7.3 in /usr/local/lib/python3.7/dist-packages (from pandas>=0.24.0->catboost) (2.8.2)\n",
            "Requirement already satisfied: cycler>=0.10 in /usr/local/lib/python3.7/dist-packages (from matplotlib->catboost) (0.11.0)\n",
            "Requirement already satisfied: pyparsing!=2.0.4,!=2.1.2,!=2.1.6,>=2.0.1 in /usr/local/lib/python3.7/dist-packages (from matplotlib->catboost) (3.0.9)\n",
            "Requirement already satisfied: kiwisolver>=1.0.1 in /usr/local/lib/python3.7/dist-packages (from matplotlib->catboost) (1.4.3)\n",
            "Requirement already satisfied: typing-extensions in /usr/local/lib/python3.7/dist-packages (from kiwisolver>=1.0.1->matplotlib->catboost) (4.1.1)\n",
            "Requirement already satisfied: tenacity>=6.2.0 in /usr/local/lib/python3.7/dist-packages (from plotly->catboost) (8.0.1)\n",
            "Installing collected packages: catboost\n",
            "Successfully installed catboost-1.0.6\n",
            "Looking in indexes: https://pypi.org/simple, https://us-python.pkg.dev/colab-wheels/public/simple/\n",
            "Requirement already satisfied: lightgbm in /usr/local/lib/python3.7/dist-packages (2.2.3)\n",
            "Requirement already satisfied: scikit-learn in /usr/local/lib/python3.7/dist-packages (from lightgbm) (1.0.2)\n",
            "Requirement already satisfied: numpy in /usr/local/lib/python3.7/dist-packages (from lightgbm) (1.21.6)\n",
            "Requirement already satisfied: scipy in /usr/local/lib/python3.7/dist-packages (from lightgbm) (1.4.1)\n",
            "Requirement already satisfied: joblib>=0.11 in /usr/local/lib/python3.7/dist-packages (from scikit-learn->lightgbm) (1.1.0)\n",
            "Requirement already satisfied: threadpoolctl>=2.0.0 in /usr/local/lib/python3.7/dist-packages (from scikit-learn->lightgbm) (3.1.0)\n",
            "Looking in indexes: https://pypi.org/simple, https://us-python.pkg.dev/colab-wheels/public/simple/\n",
            "Requirement already satisfied: xgboost in /usr/local/lib/python3.7/dist-packages (0.90)\n",
            "Requirement already satisfied: scipy in /usr/local/lib/python3.7/dist-packages (from xgboost) (1.4.1)\n",
            "Requirement already satisfied: numpy in /usr/local/lib/python3.7/dist-packages (from xgboost) (1.21.6)\n"
          ]
        }
      ]
    },
    {
      "cell_type": "code",
      "source": [
        "import pandas as pd\n",
        "from statistics import mean\n",
        "from scipy import stats\n",
        "import neurokit2 as nk\n",
        "import numpy as np\n",
        "import numpy \n",
        "\n",
        "from imblearn.over_sampling import BorderlineSMOTE\n",
        "from imblearn.over_sampling import KMeansSMOTE\n",
        "from collections import Counter\n",
        "from catboost import CatBoostClassifier\n",
        "from sklearn.model_selection import train_test_split\n",
        "#from imblearn.over_sampling import SMOTE \n",
        "from sklearn import metrics\n",
        "import matplotlib.pyplot as plt\n",
        "\n",
        "from sklearn.feature_selection import VarianceThreshold\n",
        "from sklearn.datasets import make_classification\n",
        "from lightgbm import LGBMClassifier\n",
        "\n",
        "# xgboost для классификации\n",
        "from xgboost import XGBClassifier"
      ],
      "metadata": {
        "id": "ybGv2a2Gu9tC"
      },
      "execution_count": 3,
      "outputs": []
    },
    {
      "cell_type": "code",
      "execution_count": null,
      "metadata": {
        "colab": {
          "base_uri": "https://localhost:8080/"
        },
        "id": "AMW-iNDrP4TD",
        "outputId": "15fada15-5ef7-4a78-cd98-98d11d45e351"
      },
      "outputs": [
        {
          "output_type": "stream",
          "name": "stdout",
          "text": [
            "<class 'pandas.core.frame.DataFrame'>\n",
            "Int64Index: 21837 entries, 1 to 21837\n",
            "Data columns (total 27 columns):\n",
            " #   Column                        Non-Null Count  Dtype  \n",
            "---  ------                        --------------  -----  \n",
            " 0   patient_id                    21837 non-null  float64\n",
            " 1   age                           21748 non-null  float64\n",
            " 2   sex                           21837 non-null  int64  \n",
            " 3   height                        6983 non-null   float64\n",
            " 4   weight                        9429 non-null   float64\n",
            " 5   nurse                         20328 non-null  float64\n",
            " 6   site                          21819 non-null  float64\n",
            " 7   device                        21837 non-null  object \n",
            " 8   recording_date                21837 non-null  object \n",
            " 9   report                        21837 non-null  object \n",
            " 10  scp_codes                     21837 non-null  object \n",
            " 11  heart_axis                    13332 non-null  object \n",
            " 12  infarction_stadium1           5626 non-null   object \n",
            " 13  infarction_stadium2           103 non-null    object \n",
            " 14  validated_by                  12426 non-null  float64\n",
            " 15  second_opinion                21837 non-null  bool   \n",
            " 16  initial_autogenerated_report  21837 non-null  bool   \n",
            " 17  validated_by_human            21837 non-null  bool   \n",
            " 18  baseline_drift                1607 non-null   object \n",
            " 19  static_noise                  3262 non-null   object \n",
            " 20  burst_noise                   613 non-null    object \n",
            " 21  electrodes_problems           30 non-null     object \n",
            " 22  extra_beats                   1954 non-null   object \n",
            " 23  pacemaker                     293 non-null    object \n",
            " 24  strat_fold                    21837 non-null  int64  \n",
            " 25  filename_lr                   21837 non-null  object \n",
            " 26  filename_hr                   21837 non-null  object \n",
            "dtypes: bool(3), float64(7), int64(2), object(15)\n",
            "memory usage: 4.2+ MB\n"
          ]
        }
      ],
      "source": [
        "xl_df = pd.read_csv('/content/gdrive/MyDrive/ЭКГ/data/ptb-xl-a-large-publicly-available-electrocardiography-dataset-1.0.1/ptbxl_database.csv', index_col='ecg_id')\n",
        "xl_df.info()"
      ]
    },
    {
      "cell_type": "code",
      "source": [
        "xl_df.head()"
      ],
      "metadata": {
        "colab": {
          "base_uri": "https://localhost:8080/",
          "height": 452
        },
        "id": "US4rlQ6sl-R8",
        "outputId": "6516fdb9-19c8-4596-a4e5-91eb70a0d879"
      },
      "execution_count": null,
      "outputs": [
        {
          "output_type": "execute_result",
          "data": {
            "text/plain": [
              "        patient_id   age  sex  height  weight  nurse  site     device  \\\n",
              "ecg_id                                                                  \n",
              "1          15709.0  56.0    1     NaN    63.0    2.0   0.0  CS-12   E   \n",
              "2          13243.0  19.0    0     NaN    70.0    2.0   0.0  CS-12   E   \n",
              "3          20372.0  37.0    1     NaN    69.0    2.0   0.0  CS-12   E   \n",
              "4          17014.0  24.0    0     NaN    82.0    2.0   0.0  CS-12   E   \n",
              "5          17448.0  19.0    1     NaN    70.0    2.0   0.0  CS-12   E   \n",
              "\n",
              "             recording_date                                  report  ...  \\\n",
              "ecg_id                                                               ...   \n",
              "1       1984-11-09 09:17:34  sinusrhythmus periphere niederspannung  ...   \n",
              "2       1984-11-14 12:55:37     sinusbradykardie sonst normales ekg  ...   \n",
              "3       1984-11-15 12:49:10              sinusrhythmus normales ekg  ...   \n",
              "4       1984-11-15 13:44:57              sinusrhythmus normales ekg  ...   \n",
              "5       1984-11-17 10:43:15              sinusrhythmus normales ekg  ...   \n",
              "\n",
              "       validated_by_human  baseline_drift static_noise burst_noise  \\\n",
              "ecg_id                                                               \n",
              "1                    True             NaN    , I-V1,           NaN   \n",
              "2                    True             NaN          NaN         NaN   \n",
              "3                    True             NaN          NaN         NaN   \n",
              "4                    True    , II,III,AVF          NaN         NaN   \n",
              "5                    True   , III,AVR,AVF          NaN         NaN   \n",
              "\n",
              "        electrodes_problems  extra_beats  pacemaker  strat_fold  \\\n",
              "ecg_id                                                            \n",
              "1                       NaN          NaN        NaN           3   \n",
              "2                       NaN          NaN        NaN           2   \n",
              "3                       NaN          NaN        NaN           5   \n",
              "4                       NaN          NaN        NaN           3   \n",
              "5                       NaN          NaN        NaN           4   \n",
              "\n",
              "                      filename_lr                filename_hr  \n",
              "ecg_id                                                        \n",
              "1       records100/00000/00001_lr  records500/00000/00001_hr  \n",
              "2       records100/00000/00002_lr  records500/00000/00002_hr  \n",
              "3       records100/00000/00003_lr  records500/00000/00003_hr  \n",
              "4       records100/00000/00004_lr  records500/00000/00004_hr  \n",
              "5       records100/00000/00005_lr  records500/00000/00005_hr  \n",
              "\n",
              "[5 rows x 27 columns]"
            ],
            "text/html": [
              "\n",
              "  <div id=\"df-0bcbc6e1-0571-40d5-9282-3610b8f6ceff\">\n",
              "    <div class=\"colab-df-container\">\n",
              "      <div>\n",
              "<style scoped>\n",
              "    .dataframe tbody tr th:only-of-type {\n",
              "        vertical-align: middle;\n",
              "    }\n",
              "\n",
              "    .dataframe tbody tr th {\n",
              "        vertical-align: top;\n",
              "    }\n",
              "\n",
              "    .dataframe thead th {\n",
              "        text-align: right;\n",
              "    }\n",
              "</style>\n",
              "<table border=\"1\" class=\"dataframe\">\n",
              "  <thead>\n",
              "    <tr style=\"text-align: right;\">\n",
              "      <th></th>\n",
              "      <th>patient_id</th>\n",
              "      <th>age</th>\n",
              "      <th>sex</th>\n",
              "      <th>height</th>\n",
              "      <th>weight</th>\n",
              "      <th>nurse</th>\n",
              "      <th>site</th>\n",
              "      <th>device</th>\n",
              "      <th>recording_date</th>\n",
              "      <th>report</th>\n",
              "      <th>...</th>\n",
              "      <th>validated_by_human</th>\n",
              "      <th>baseline_drift</th>\n",
              "      <th>static_noise</th>\n",
              "      <th>burst_noise</th>\n",
              "      <th>electrodes_problems</th>\n",
              "      <th>extra_beats</th>\n",
              "      <th>pacemaker</th>\n",
              "      <th>strat_fold</th>\n",
              "      <th>filename_lr</th>\n",
              "      <th>filename_hr</th>\n",
              "    </tr>\n",
              "    <tr>\n",
              "      <th>ecg_id</th>\n",
              "      <th></th>\n",
              "      <th></th>\n",
              "      <th></th>\n",
              "      <th></th>\n",
              "      <th></th>\n",
              "      <th></th>\n",
              "      <th></th>\n",
              "      <th></th>\n",
              "      <th></th>\n",
              "      <th></th>\n",
              "      <th></th>\n",
              "      <th></th>\n",
              "      <th></th>\n",
              "      <th></th>\n",
              "      <th></th>\n",
              "      <th></th>\n",
              "      <th></th>\n",
              "      <th></th>\n",
              "      <th></th>\n",
              "      <th></th>\n",
              "      <th></th>\n",
              "    </tr>\n",
              "  </thead>\n",
              "  <tbody>\n",
              "    <tr>\n",
              "      <th>1</th>\n",
              "      <td>15709.0</td>\n",
              "      <td>56.0</td>\n",
              "      <td>1</td>\n",
              "      <td>NaN</td>\n",
              "      <td>63.0</td>\n",
              "      <td>2.0</td>\n",
              "      <td>0.0</td>\n",
              "      <td>CS-12   E</td>\n",
              "      <td>1984-11-09 09:17:34</td>\n",
              "      <td>sinusrhythmus periphere niederspannung</td>\n",
              "      <td>...</td>\n",
              "      <td>True</td>\n",
              "      <td>NaN</td>\n",
              "      <td>, I-V1,</td>\n",
              "      <td>NaN</td>\n",
              "      <td>NaN</td>\n",
              "      <td>NaN</td>\n",
              "      <td>NaN</td>\n",
              "      <td>3</td>\n",
              "      <td>records100/00000/00001_lr</td>\n",
              "      <td>records500/00000/00001_hr</td>\n",
              "    </tr>\n",
              "    <tr>\n",
              "      <th>2</th>\n",
              "      <td>13243.0</td>\n",
              "      <td>19.0</td>\n",
              "      <td>0</td>\n",
              "      <td>NaN</td>\n",
              "      <td>70.0</td>\n",
              "      <td>2.0</td>\n",
              "      <td>0.0</td>\n",
              "      <td>CS-12   E</td>\n",
              "      <td>1984-11-14 12:55:37</td>\n",
              "      <td>sinusbradykardie sonst normales ekg</td>\n",
              "      <td>...</td>\n",
              "      <td>True</td>\n",
              "      <td>NaN</td>\n",
              "      <td>NaN</td>\n",
              "      <td>NaN</td>\n",
              "      <td>NaN</td>\n",
              "      <td>NaN</td>\n",
              "      <td>NaN</td>\n",
              "      <td>2</td>\n",
              "      <td>records100/00000/00002_lr</td>\n",
              "      <td>records500/00000/00002_hr</td>\n",
              "    </tr>\n",
              "    <tr>\n",
              "      <th>3</th>\n",
              "      <td>20372.0</td>\n",
              "      <td>37.0</td>\n",
              "      <td>1</td>\n",
              "      <td>NaN</td>\n",
              "      <td>69.0</td>\n",
              "      <td>2.0</td>\n",
              "      <td>0.0</td>\n",
              "      <td>CS-12   E</td>\n",
              "      <td>1984-11-15 12:49:10</td>\n",
              "      <td>sinusrhythmus normales ekg</td>\n",
              "      <td>...</td>\n",
              "      <td>True</td>\n",
              "      <td>NaN</td>\n",
              "      <td>NaN</td>\n",
              "      <td>NaN</td>\n",
              "      <td>NaN</td>\n",
              "      <td>NaN</td>\n",
              "      <td>NaN</td>\n",
              "      <td>5</td>\n",
              "      <td>records100/00000/00003_lr</td>\n",
              "      <td>records500/00000/00003_hr</td>\n",
              "    </tr>\n",
              "    <tr>\n",
              "      <th>4</th>\n",
              "      <td>17014.0</td>\n",
              "      <td>24.0</td>\n",
              "      <td>0</td>\n",
              "      <td>NaN</td>\n",
              "      <td>82.0</td>\n",
              "      <td>2.0</td>\n",
              "      <td>0.0</td>\n",
              "      <td>CS-12   E</td>\n",
              "      <td>1984-11-15 13:44:57</td>\n",
              "      <td>sinusrhythmus normales ekg</td>\n",
              "      <td>...</td>\n",
              "      <td>True</td>\n",
              "      <td>, II,III,AVF</td>\n",
              "      <td>NaN</td>\n",
              "      <td>NaN</td>\n",
              "      <td>NaN</td>\n",
              "      <td>NaN</td>\n",
              "      <td>NaN</td>\n",
              "      <td>3</td>\n",
              "      <td>records100/00000/00004_lr</td>\n",
              "      <td>records500/00000/00004_hr</td>\n",
              "    </tr>\n",
              "    <tr>\n",
              "      <th>5</th>\n",
              "      <td>17448.0</td>\n",
              "      <td>19.0</td>\n",
              "      <td>1</td>\n",
              "      <td>NaN</td>\n",
              "      <td>70.0</td>\n",
              "      <td>2.0</td>\n",
              "      <td>0.0</td>\n",
              "      <td>CS-12   E</td>\n",
              "      <td>1984-11-17 10:43:15</td>\n",
              "      <td>sinusrhythmus normales ekg</td>\n",
              "      <td>...</td>\n",
              "      <td>True</td>\n",
              "      <td>, III,AVR,AVF</td>\n",
              "      <td>NaN</td>\n",
              "      <td>NaN</td>\n",
              "      <td>NaN</td>\n",
              "      <td>NaN</td>\n",
              "      <td>NaN</td>\n",
              "      <td>4</td>\n",
              "      <td>records100/00000/00005_lr</td>\n",
              "      <td>records500/00000/00005_hr</td>\n",
              "    </tr>\n",
              "  </tbody>\n",
              "</table>\n",
              "<p>5 rows × 27 columns</p>\n",
              "</div>\n",
              "      <button class=\"colab-df-convert\" onclick=\"convertToInteractive('df-0bcbc6e1-0571-40d5-9282-3610b8f6ceff')\"\n",
              "              title=\"Convert this dataframe to an interactive table.\"\n",
              "              style=\"display:none;\">\n",
              "        \n",
              "  <svg xmlns=\"http://www.w3.org/2000/svg\" height=\"24px\"viewBox=\"0 0 24 24\"\n",
              "       width=\"24px\">\n",
              "    <path d=\"M0 0h24v24H0V0z\" fill=\"none\"/>\n",
              "    <path d=\"M18.56 5.44l.94 2.06.94-2.06 2.06-.94-2.06-.94-.94-2.06-.94 2.06-2.06.94zm-11 1L8.5 8.5l.94-2.06 2.06-.94-2.06-.94L8.5 2.5l-.94 2.06-2.06.94zm10 10l.94 2.06.94-2.06 2.06-.94-2.06-.94-.94-2.06-.94 2.06-2.06.94z\"/><path d=\"M17.41 7.96l-1.37-1.37c-.4-.4-.92-.59-1.43-.59-.52 0-1.04.2-1.43.59L10.3 9.45l-7.72 7.72c-.78.78-.78 2.05 0 2.83L4 21.41c.39.39.9.59 1.41.59.51 0 1.02-.2 1.41-.59l7.78-7.78 2.81-2.81c.8-.78.8-2.07 0-2.86zM5.41 20L4 18.59l7.72-7.72 1.47 1.35L5.41 20z\"/>\n",
              "  </svg>\n",
              "      </button>\n",
              "      \n",
              "  <style>\n",
              "    .colab-df-container {\n",
              "      display:flex;\n",
              "      flex-wrap:wrap;\n",
              "      gap: 12px;\n",
              "    }\n",
              "\n",
              "    .colab-df-convert {\n",
              "      background-color: #E8F0FE;\n",
              "      border: none;\n",
              "      border-radius: 50%;\n",
              "      cursor: pointer;\n",
              "      display: none;\n",
              "      fill: #1967D2;\n",
              "      height: 32px;\n",
              "      padding: 0 0 0 0;\n",
              "      width: 32px;\n",
              "    }\n",
              "\n",
              "    .colab-df-convert:hover {\n",
              "      background-color: #E2EBFA;\n",
              "      box-shadow: 0px 1px 2px rgba(60, 64, 67, 0.3), 0px 1px 3px 1px rgba(60, 64, 67, 0.15);\n",
              "      fill: #174EA6;\n",
              "    }\n",
              "\n",
              "    [theme=dark] .colab-df-convert {\n",
              "      background-color: #3B4455;\n",
              "      fill: #D2E3FC;\n",
              "    }\n",
              "\n",
              "    [theme=dark] .colab-df-convert:hover {\n",
              "      background-color: #434B5C;\n",
              "      box-shadow: 0px 1px 3px 1px rgba(0, 0, 0, 0.15);\n",
              "      filter: drop-shadow(0px 1px 2px rgba(0, 0, 0, 0.3));\n",
              "      fill: #FFFFFF;\n",
              "    }\n",
              "  </style>\n",
              "\n",
              "      <script>\n",
              "        const buttonEl =\n",
              "          document.querySelector('#df-0bcbc6e1-0571-40d5-9282-3610b8f6ceff button.colab-df-convert');\n",
              "        buttonEl.style.display =\n",
              "          google.colab.kernel.accessAllowed ? 'block' : 'none';\n",
              "\n",
              "        async function convertToInteractive(key) {\n",
              "          const element = document.querySelector('#df-0bcbc6e1-0571-40d5-9282-3610b8f6ceff');\n",
              "          const dataTable =\n",
              "            await google.colab.kernel.invokeFunction('convertToInteractive',\n",
              "                                                     [key], {});\n",
              "          if (!dataTable) return;\n",
              "\n",
              "          const docLinkHtml = 'Like what you see? Visit the ' +\n",
              "            '<a target=\"_blank\" href=https://colab.research.google.com/notebooks/data_table.ipynb>data table notebook</a>'\n",
              "            + ' to learn more about interactive tables.';\n",
              "          element.innerHTML = '';\n",
              "          dataTable['output_type'] = 'display_data';\n",
              "          await google.colab.output.renderOutput(dataTable, element);\n",
              "          const docLink = document.createElement('div');\n",
              "          docLink.innerHTML = docLinkHtml;\n",
              "          element.appendChild(docLink);\n",
              "        }\n",
              "      </script>\n",
              "    </div>\n",
              "  </div>\n",
              "  "
            ]
          },
          "metadata": {},
          "execution_count": 5
        }
      ]
    },
    {
      "cell_type": "markdown",
      "source": [
        "## Обработка вср"
      ],
      "metadata": {
        "id": "IMNhMg7hfEUy"
      }
    },
    {
      "cell_type": "code",
      "execution_count": null,
      "metadata": {
        "id": "Jly-2HURWiHW",
        "colab": {
          "base_uri": "https://localhost:8080/"
        },
        "outputId": "8f0fb2a9-7a8d-41c0-b525-94f07900fa92"
      },
      "outputs": [
        {
          "output_type": "execute_result",
          "data": {
            "text/plain": [
              "СКО                16.944353\n",
              "CV                  1.802591\n",
              "skewness            0.035880\n",
              "kurtosis           -1.030679\n",
              "RMSDD              22.509257\n",
              "NN5O                0.000000\n",
              "pNN5O               0.000000\n",
              "SDSD                0.025066\n",
              "Rmax                0.519478\n",
              "Rmin                0.441581\n",
              "min_signal         -0.102287\n",
              "Rmax-min_signal     0.621765\n",
              "Name: 1, dtype: float64"
            ]
          },
          "metadata": {},
          "execution_count": 9
        }
      ],
      "source": [
        "\n",
        "def lenR_R1(rpeaks,ecg_data_path,ecg_signal):\n",
        "  #_, rpeaks = nk.ecg_peaks(ecg_signal, sampling_rate=D)\n",
        "  R=0\n",
        "  l=[]\n",
        "  Rmax=ecg_signal[rpeaks['ECG_R_Peaks'][0]]\n",
        "  Rmin=ecg_signal[rpeaks['ECG_R_Peaks'][0]]\n",
        "  for i in range(0,(len(rpeaks['ECG_R_Peaks'])-1)):\n",
        "    R = ((list(rpeaks['ECG_R_Peaks'])[i+1]) - (list(rpeaks['ECG_R_Peaks'])[i]))*(1/500)\n",
        "    l.append(R)\n",
        "  for i in range(1,(len(rpeaks['ECG_R_Peaks']))):\n",
        "    Rmax = max(ecg_signal[rpeaks['ECG_R_Peaks'][i]],Rmax)\n",
        "    Rmin = min(ecg_signal[rpeaks['ECG_R_Peaks'][i]],Rmin)\n",
        "  return l ,Rmax ,Rmin\n",
        "\n",
        "def spektral_metod(ecg_data_path,D):\n",
        "  rpeaks=pd.DataFrame()\n",
        "  Zone=['I', 'II', 'III', 'AVR', 'AVL', 'AVF', 'V1', 'V2', 'V3', 'V4', 'V5', 'V6']\n",
        "  ecg_signal = pd.read_csv(\"/content/gdrive/MyDrive/data/data500(I)/\"+str(ecg_data_path)+\".csv\")['I']\n",
        "  ecg_signal.head()\n",
        "  _, rpeaks = nk.ecg_peaks(ecg_signal, sampling_rate=D)\n",
        "  l,Rmax ,Rmin = lenR_R1(rpeaks,ecg_data_path,ecg_signal)\n",
        "  l=list(filter(None, l))\n",
        "  new_row = pd.Series(data={'СКО':None,'CV':None,'skewness':None,'kurtosis':None ,'RMSDD':None , 'NN5O':None,'pNN5O':None,'SDSD':None,'Rmax':None,'Rmin':None ,'min_signal':None,'Rmax-min_signal':None}, name=ecg_data_path)\n",
        "  if len(list(filter(None, l))) == 0 and len(np.diff(l)) == 0 : \n",
        "      print(\"Невозможно выделить RR\",ecg_data_path)    \n",
        "      return new_row\n",
        "  if len(np.diff(list(filter(None, l)))) < 2  : \n",
        "    plot = nk.events_plot(rpeaks['ECG_R_Peaks'], ecg_signal)\n",
        "    print(\"Мало RR\",ecg_data_path)\n",
        "    return new_row   \n",
        "  M = mean(l) #среднее значение интервалов RR;\n",
        "  СКО = np.std(l)\n",
        "  CV=(СКО/M)*100\n",
        "  skewness = stats.skew(l, bias=False)#Коэффициент асимметрии\n",
        "  kurtosis =stats.kurtosis(l, bias=False)#Коэффициент эксцесса\n",
        "  RMSDD = np.sqrt(sum(pow (np.diff(l),2))/len (l))\n",
        "  NN5O = len(np.diff(l)[abs(np.diff(l)>0.50)])\n",
        "  pNN5O=100.0*len(np.diff(l)[abs(np.diff(l) >0.50)])/len(np.diff(l))\n",
        "  SDSD=np.sqrt(sum((np.diff(l)-sum(np.diff(l))/ (len(l)-1))**2/(len(l)-2)))\n",
        "  min_signal=min(list(ecg_signal))\n",
        "  new_row = pd.Series(data={'СКО':СКО*1000,'CV':CV,'skewness':skewness,'kurtosis':kurtosis ,'RMSDD':RMSDD*1000 , 'NN5O':NN5O,'pNN5O':pNN5O,'SDSD':SDSD ,'Rmax':Rmax,'Rmin':Rmin,'min_signal':min_signal,'Rmax-min_signal':Rmax-min_signal}, name=(ecg_data_path))\n",
        "\n",
        "  #print(\"Cреднее квадратическое отклонение \",СКО,\"мс\")\n",
        "  #print(\"Коэффициент вариации \",CV,\"%\")\n",
        "  #print(\"Коэффициент асимметрии \",skewness,\"  & Коэффициент эксцесса \",kurtosis)\n",
        "  #print(\"RMSSD \",RMSDD,\"мс\")\n",
        "  #print(\"NN5O — \",NN5O,\"количиство пар\",\"pNN5O —\",pNN5O,\"%\")\n",
        "  #print(\"SDSD \",SDSD)\n",
        "  #return(СКО,CV,skewness,kurtosis,RMSDD,NN5O,pNN5O,SDSD)  \n",
        "  return new_row\n",
        "\n",
        "spektral_metod(1,500)"
      ]
    },
    {
      "cell_type": "code",
      "execution_count": null,
      "metadata": {
        "id": "ed88crNzXUwd"
      },
      "outputs": [],
      "source": [
        "data = {'СКО':[],\n",
        "     'CV':[],\n",
        "     'skewness':[],\n",
        "     'kurtosis':[],\n",
        "     'RMSDD':[],\n",
        "     'NN5O':[],\n",
        "     'pNN5O':[],\n",
        "     'SDSD':[],\n",
        "     'Rmax':[],\n",
        "     'Rmin':[],\n",
        "     'min_signal':[],\n",
        "    'Rmax-min_signal':[]\n",
        "     }\n",
        "\n",
        "#create dataframe\n",
        "dp = pd.DataFrame(data)\n",
        "D=500\n",
        "i=1\n",
        "n = (len(xl_df[\"patient_id\"]))\n",
        "print(n)\n",
        "while i < n+1: \n",
        "  new_row = spektral_metod(i,D)\n",
        "  dp = dp.append(new_row, ignore_index=False)\n",
        "  i=i+1\n",
        "\n",
        "dp.to_csv(\"/content/gdrive/MyDrive/data/\"+\"dp\"+\".csv\")"
      ]
    },
    {
      "cell_type": "code",
      "execution_count": null,
      "metadata": {
        "colab": {
          "base_uri": "https://localhost:8080/",
          "height": 206
        },
        "id": "vI3yFlw2zbmF",
        "outputId": "27e5c34e-c8b3-4fb5-afc8-08f4b7f4fd2b"
      },
      "outputs": [
        {
          "data": {
            "text/html": [
              "\n",
              "  <div id=\"df-41545f96-7470-4abc-b283-56dbed697cae\">\n",
              "    <div class=\"colab-df-container\">\n",
              "      <div>\n",
              "<style scoped>\n",
              "    .dataframe tbody tr th:only-of-type {\n",
              "        vertical-align: middle;\n",
              "    }\n",
              "\n",
              "    .dataframe tbody tr th {\n",
              "        vertical-align: top;\n",
              "    }\n",
              "\n",
              "    .dataframe thead th {\n",
              "        text-align: right;\n",
              "    }\n",
              "</style>\n",
              "<table border=\"1\" class=\"dataframe\">\n",
              "  <thead>\n",
              "    <tr style=\"text-align: right;\">\n",
              "      <th></th>\n",
              "      <th>Unnamed: 0</th>\n",
              "      <th>СКО</th>\n",
              "      <th>CV</th>\n",
              "      <th>skewness</th>\n",
              "      <th>kurtosis</th>\n",
              "      <th>RMSDD</th>\n",
              "      <th>NN5O</th>\n",
              "      <th>pNN5O</th>\n",
              "      <th>SDSD</th>\n",
              "      <th>Rmax</th>\n",
              "      <th>Rmin</th>\n",
              "      <th>min_signal</th>\n",
              "      <th>Rmax-min_signal</th>\n",
              "    </tr>\n",
              "  </thead>\n",
              "  <tbody>\n",
              "    <tr>\n",
              "      <th>0</th>\n",
              "      <td>1</td>\n",
              "      <td>16.944353</td>\n",
              "      <td>1.802591</td>\n",
              "      <td>0.035880</td>\n",
              "      <td>-1.030679</td>\n",
              "      <td>22.509257</td>\n",
              "      <td>0.0</td>\n",
              "      <td>0.0</td>\n",
              "      <td>0.025066</td>\n",
              "      <td>0.519478</td>\n",
              "      <td>0.441581</td>\n",
              "      <td>-0.102287</td>\n",
              "      <td>0.621765</td>\n",
              "    </tr>\n",
              "    <tr>\n",
              "      <th>1</th>\n",
              "      <td>2</td>\n",
              "      <td>76.993506</td>\n",
              "      <td>6.120311</td>\n",
              "      <td>0.210076</td>\n",
              "      <td>-1.940373</td>\n",
              "      <td>50.426750</td>\n",
              "      <td>0.0</td>\n",
              "      <td>0.0</td>\n",
              "      <td>0.054899</td>\n",
              "      <td>0.548533</td>\n",
              "      <td>0.042048</td>\n",
              "      <td>-0.240243</td>\n",
              "      <td>0.788776</td>\n",
              "    </tr>\n",
              "    <tr>\n",
              "      <th>2</th>\n",
              "      <td>3</td>\n",
              "      <td>18.517926</td>\n",
              "      <td>1.969061</td>\n",
              "      <td>0.530010</td>\n",
              "      <td>-0.679705</td>\n",
              "      <td>15.534907</td>\n",
              "      <td>0.0</td>\n",
              "      <td>0.0</td>\n",
              "      <td>0.017019</td>\n",
              "      <td>0.662726</td>\n",
              "      <td>0.466819</td>\n",
              "      <td>-0.112846</td>\n",
              "      <td>0.775572</td>\n",
              "    </tr>\n",
              "    <tr>\n",
              "      <th>3</th>\n",
              "      <td>4</td>\n",
              "      <td>43.702223</td>\n",
              "      <td>5.459056</td>\n",
              "      <td>-0.033127</td>\n",
              "      <td>-0.393498</td>\n",
              "      <td>33.742339</td>\n",
              "      <td>0.0</td>\n",
              "      <td>0.0</td>\n",
              "      <td>0.035456</td>\n",
              "      <td>0.397030</td>\n",
              "      <td>0.310811</td>\n",
              "      <td>-0.513963</td>\n",
              "      <td>0.910993</td>\n",
              "    </tr>\n",
              "    <tr>\n",
              "      <th>4</th>\n",
              "      <td>5</td>\n",
              "      <td>48.490824</td>\n",
              "      <td>5.356918</td>\n",
              "      <td>-0.002690</td>\n",
              "      <td>-1.079496</td>\n",
              "      <td>54.192250</td>\n",
              "      <td>0.0</td>\n",
              "      <td>0.0</td>\n",
              "      <td>0.060175</td>\n",
              "      <td>0.357298</td>\n",
              "      <td>0.310691</td>\n",
              "      <td>-0.213613</td>\n",
              "      <td>0.570912</td>\n",
              "    </tr>\n",
              "  </tbody>\n",
              "</table>\n",
              "</div>\n",
              "      <button class=\"colab-df-convert\" onclick=\"convertToInteractive('df-41545f96-7470-4abc-b283-56dbed697cae')\"\n",
              "              title=\"Convert this dataframe to an interactive table.\"\n",
              "              style=\"display:none;\">\n",
              "        \n",
              "  <svg xmlns=\"http://www.w3.org/2000/svg\" height=\"24px\"viewBox=\"0 0 24 24\"\n",
              "       width=\"24px\">\n",
              "    <path d=\"M0 0h24v24H0V0z\" fill=\"none\"/>\n",
              "    <path d=\"M18.56 5.44l.94 2.06.94-2.06 2.06-.94-2.06-.94-.94-2.06-.94 2.06-2.06.94zm-11 1L8.5 8.5l.94-2.06 2.06-.94-2.06-.94L8.5 2.5l-.94 2.06-2.06.94zm10 10l.94 2.06.94-2.06 2.06-.94-2.06-.94-.94-2.06-.94 2.06-2.06.94z\"/><path d=\"M17.41 7.96l-1.37-1.37c-.4-.4-.92-.59-1.43-.59-.52 0-1.04.2-1.43.59L10.3 9.45l-7.72 7.72c-.78.78-.78 2.05 0 2.83L4 21.41c.39.39.9.59 1.41.59.51 0 1.02-.2 1.41-.59l7.78-7.78 2.81-2.81c.8-.78.8-2.07 0-2.86zM5.41 20L4 18.59l7.72-7.72 1.47 1.35L5.41 20z\"/>\n",
              "  </svg>\n",
              "      </button>\n",
              "      \n",
              "  <style>\n",
              "    .colab-df-container {\n",
              "      display:flex;\n",
              "      flex-wrap:wrap;\n",
              "      gap: 12px;\n",
              "    }\n",
              "\n",
              "    .colab-df-convert {\n",
              "      background-color: #E8F0FE;\n",
              "      border: none;\n",
              "      border-radius: 50%;\n",
              "      cursor: pointer;\n",
              "      display: none;\n",
              "      fill: #1967D2;\n",
              "      height: 32px;\n",
              "      padding: 0 0 0 0;\n",
              "      width: 32px;\n",
              "    }\n",
              "\n",
              "    .colab-df-convert:hover {\n",
              "      background-color: #E2EBFA;\n",
              "      box-shadow: 0px 1px 2px rgba(60, 64, 67, 0.3), 0px 1px 3px 1px rgba(60, 64, 67, 0.15);\n",
              "      fill: #174EA6;\n",
              "    }\n",
              "\n",
              "    [theme=dark] .colab-df-convert {\n",
              "      background-color: #3B4455;\n",
              "      fill: #D2E3FC;\n",
              "    }\n",
              "\n",
              "    [theme=dark] .colab-df-convert:hover {\n",
              "      background-color: #434B5C;\n",
              "      box-shadow: 0px 1px 3px 1px rgba(0, 0, 0, 0.15);\n",
              "      filter: drop-shadow(0px 1px 2px rgba(0, 0, 0, 0.3));\n",
              "      fill: #FFFFFF;\n",
              "    }\n",
              "  </style>\n",
              "\n",
              "      <script>\n",
              "        const buttonEl =\n",
              "          document.querySelector('#df-41545f96-7470-4abc-b283-56dbed697cae button.colab-df-convert');\n",
              "        buttonEl.style.display =\n",
              "          google.colab.kernel.accessAllowed ? 'block' : 'none';\n",
              "\n",
              "        async function convertToInteractive(key) {\n",
              "          const element = document.querySelector('#df-41545f96-7470-4abc-b283-56dbed697cae');\n",
              "          const dataTable =\n",
              "            await google.colab.kernel.invokeFunction('convertToInteractive',\n",
              "                                                     [key], {});\n",
              "          if (!dataTable) return;\n",
              "\n",
              "          const docLinkHtml = 'Like what you see? Visit the ' +\n",
              "            '<a target=\"_blank\" href=https://colab.research.google.com/notebooks/data_table.ipynb>data table notebook</a>'\n",
              "            + ' to learn more about interactive tables.';\n",
              "          element.innerHTML = '';\n",
              "          dataTable['output_type'] = 'display_data';\n",
              "          await google.colab.output.renderOutput(dataTable, element);\n",
              "          const docLink = document.createElement('div');\n",
              "          docLink.innerHTML = docLinkHtml;\n",
              "          element.appendChild(docLink);\n",
              "        }\n",
              "      </script>\n",
              "    </div>\n",
              "  </div>\n",
              "  "
            ],
            "text/plain": [
              "   Unnamed: 0        СКО        CV  skewness  kurtosis      RMSDD  NN5O  \\\n",
              "0           1  16.944353  1.802591  0.035880 -1.030679  22.509257   0.0   \n",
              "1           2  76.993506  6.120311  0.210076 -1.940373  50.426750   0.0   \n",
              "2           3  18.517926  1.969061  0.530010 -0.679705  15.534907   0.0   \n",
              "3           4  43.702223  5.459056 -0.033127 -0.393498  33.742339   0.0   \n",
              "4           5  48.490824  5.356918 -0.002690 -1.079496  54.192250   0.0   \n",
              "\n",
              "   pNN5O      SDSD      Rmax      Rmin  min_signal  Rmax-min_signal  \n",
              "0    0.0  0.025066  0.519478  0.441581   -0.102287         0.621765  \n",
              "1    0.0  0.054899  0.548533  0.042048   -0.240243         0.788776  \n",
              "2    0.0  0.017019  0.662726  0.466819   -0.112846         0.775572  \n",
              "3    0.0  0.035456  0.397030  0.310811   -0.513963         0.910993  \n",
              "4    0.0  0.060175  0.357298  0.310691   -0.213613         0.570912  "
            ]
          },
          "execution_count": 18,
          "metadata": {},
          "output_type": "execute_result"
        }
      ],
      "source": [
        "dp = pd.read_csv(\"/content/gdrive/MyDrive/data/\"+\"dp\"+\".csv\")\n",
        "dp.head(5)"
      ]
    },
    {
      "cell_type": "markdown",
      "source": [
        "## Обработка сигнала - пики"
      ],
      "metadata": {
        "id": "j45DLX7a2kIQ"
      }
    },
    {
      "cell_type": "code",
      "source": [
        "def plot_signal(rpeaks,waves_dwt,ecg_signal):  \n",
        "  plot = nk.events_plot([rpeaks['ECG_R_Peaks'][0:2],\n",
        "                         waves_dwt['ECG_P_Onsets'][0:2],\n",
        "                         waves_dwt['ECG_P_Peaks'][0:2],\n",
        "                         waves_dwt['ECG_Q_Peaks'][0:2],\n",
        "                         waves_dwt['ECG_S_Peaks'][0:2],\n",
        "                         waves_dwt['ECG_T_Offsets'][0:2],\n",
        "                         waves_dwt['ECG_T_Peaks'][0:2]\n",
        "                         ], ecg_signal[500:1500])"
      ],
      "metadata": {
        "id": "NZL3du4_tYUp"
      },
      "execution_count": null,
      "outputs": []
    },
    {
      "cell_type": "code",
      "execution_count": null,
      "metadata": {
        "id": "YwGQEKOdvayU",
        "colab": {
          "base_uri": "https://localhost:8080/",
          "height": 491
        },
        "outputId": "d95ffeca-cf83-4108-a0b4-f981a6b88de7"
      },
      "outputs": [
        {
          "output_type": "stream",
          "name": "stderr",
          "text": [
            "/usr/local/lib/python3.7/dist-packages/pandas/core/frame.py:5244: SettingWithCopyWarning: \n",
            "A value is trying to be set on a copy of a slice from a DataFrame\n",
            "\n",
            "See the caveats in the documentation: https://pandas.pydata.org/pandas-docs/stable/user_guide/indexing.html#returning-a-view-versus-a-copy\n",
            "  method=method,\n"
          ]
        },
        {
          "output_type": "execute_result",
          "data": {
            "text/plain": [
              "P_min         0.013001\n",
              "P_max         0.157556\n",
              "Q            -0.082978\n",
              "S            -0.460277\n",
              "T_min         0.157556\n",
              "T_max         0.185359\n",
              "max_signal    0.610386\n",
              "Name: 16396, dtype: float64"
            ]
          },
          "metadata": {},
          "execution_count": 7
        },
        {
          "output_type": "display_data",
          "data": {
            "text/plain": [
              "<Figure size 432x288 with 1 Axes>"
            ],
            "image/png": "[encoded data removed]"
          },
          "metadata": {
            "needs_background": "light"
          }
        }
      ],
      "source": [
        "def min_sig(l,ecg_signal):\n",
        "  min =10\n",
        "  for i in l:\n",
        "    if i > 0:\n",
        "      if ecg_signal[i] < min: min =ecg_signal[i]\n",
        "  return min\n",
        "def max_sig(l,ecg_signal):\n",
        "  max =-10\n",
        "  for i in l:\n",
        "    if i > 0:\n",
        "      if ecg_signal[i] > max: max =ecg_signal[i]\n",
        "  return max\n",
        "def mean_sig(l,ecg_signal):\n",
        "  mean_l =[]\n",
        "  for i in l:\n",
        "    if i > 0 :\n",
        "      mean_l.append(ecg_signal[i])\n",
        "  if len(mean_l)>0 : \n",
        "    return mean(mean_l)\n",
        "  else : return None\n",
        "\n",
        "def PQST(ecg_data_path,D, show=True):\n",
        "  ecg_signal = pd.read_csv(\"/content/gdrive/MyDrive/data/data500(I)/\"+str(ecg_data_path)+\".csv\")['I']\n",
        "  _, rpeaks = nk.ecg_peaks(ecg_signal, sampling_rate=D)\n",
        "  rpeaks['ECG_R_Peaks']= rpeaks['ECG_R_Peaks'][:len(rpeaks['ECG_R_Peaks'])-1]\n",
        "  rpeaks['ECG_R_Peaks']=rpeaks['ECG_R_Peaks'][np.logical_not(np.isnan(rpeaks['ECG_R_Peaks']))]\n",
        "  if len(rpeaks['ECG_R_Peaks'])< 4 :\n",
        "    new_row = pd.Series(data={'P_min':None,'P_max':None,'Q':None ,'S': None,'T_min':None,'T_max':None,'max_signal':max(ecg_signal)}, name=(ecg_data_path))\n",
        "    return new_row\n",
        "  signal_dwt, waves_dwt = nk.ecg_delineate(ecg_signal, rpeaks, sampling_rate=1000, method=\"peak\", show_type='peaks',show=show)\n",
        "  # Visualize P-wave boundaries\n",
        "  signal_dwt, waves_dwt = nk.ecg_delineate(ecg_signal, rpeaks, sampling_rate=1000, method=\"peak\", show_type='bounds_P')\n",
        "  # Visualize R-wave boundaries\n",
        "  signal_dwt, waves_dwt = nk.ecg_delineate(ecg_signal, rpeaks, sampling_rate=1000, method=\"cwt\", show_type='bounds_R')\n",
        "  # visualize T-wave boundaries ?method=\"peak\" ?method=\"dwt\" , method=\"cwt\"\n",
        "  signal_dwt, waves_dwt = nk.ecg_delineate(ecg_signal, rpeaks, sampling_rate=1000, method=\"cwt\", show_type='bounds_T')\n",
        "  #if show:\n",
        "  #  plot_signal(rpeaks,waves_dwt,ecg_signal)\n",
        "  if len(waves_dwt['ECG_P_Peaks'])>0:\n",
        "    P_min ,P_max = min_sig(waves_dwt['ECG_P_Peaks'],ecg_signal),max_sig(waves_dwt['ECG_P_Peaks'],ecg_signal)\n",
        "  else :\n",
        "    P_min ,P_max = None,None\n",
        "  if len(waves_dwt['ECG_T_Peaks'])>0:\n",
        "    T_min,T_max = min_sig(waves_dwt['ECG_T_Peaks'],ecg_signal),max_sig(waves_dwt['ECG_T_Peaks'],ecg_signal)\n",
        "  else :\n",
        "    T_min,T_max = None,None\n",
        "  if len(waves_dwt['ECG_Q_Peaks'])>0 :Q=mean_sig(waves_dwt['ECG_Q_Peaks'],ecg_signal)\n",
        "  else:Q= None\n",
        "  if len(waves_dwt['ECG_S_Peaks'])>0 :S=mean_sig(waves_dwt['ECG_S_Peaks'],ecg_signal)\n",
        "  else:S= None\n",
        "  max_signal=max(ecg_signal)\n",
        "  new_row = pd.Series(data={'P_min':P_min,'P_max':P_max,'Q':Q ,'S': S,'T_min':T_min,'T_max':T_max,'max_signal':max_signal}, name=(ecg_data_path))\n",
        "  return new_row\n",
        "D=500\n",
        "PQST(16396,D, show=True)"
      ]
    },
    {
      "cell_type": "code",
      "execution_count": null,
      "metadata": {
        "id": "0-ogI2-tsZsM",
        "colab": {
          "base_uri": "https://localhost:8080/",
          "height": 1000
        },
        "outputId": "7d2dc483-addd-4eae-ecf8-87d5c9218182"
      },
      "outputs": [
        {
          "output_type": "stream",
          "name": "stderr",
          "text": [
            "/usr/local/lib/python3.7/dist-packages/pandas/core/frame.py:5244: SettingWithCopyWarning: \n",
            "A value is trying to be set on a copy of a slice from a DataFrame\n",
            "\n",
            "See the caveats in the documentation: https://pandas.pydata.org/pandas-docs/stable/user_guide/indexing.html#returning-a-view-versus-a-copy\n",
            "  method=method,\n",
            "/usr/local/lib/python3.7/dist-packages/pandas/core/frame.py:5244: SettingWithCopyWarning: \n",
            "A value is trying to be set on a copy of a slice from a DataFrame\n",
            "\n",
            "See the caveats in the documentation: https://pandas.pydata.org/pandas-docs/stable/user_guide/indexing.html#returning-a-view-versus-a-copy\n",
            "  method=method,\n",
            "/usr/local/lib/python3.7/dist-packages/pandas/core/frame.py:5244: SettingWithCopyWarning: \n",
            "A value is trying to be set on a copy of a slice from a DataFrame\n",
            "\n",
            "See the caveats in the documentation: https://pandas.pydata.org/pandas-docs/stable/user_guide/indexing.html#returning-a-view-versus-a-copy\n",
            "  method=method,\n",
            "/usr/local/lib/python3.7/dist-packages/pandas/core/frame.py:5244: SettingWithCopyWarning: \n",
            "A value is trying to be set on a copy of a slice from a DataFrame\n",
            "\n",
            "See the caveats in the documentation: https://pandas.pydata.org/pandas-docs/stable/user_guide/indexing.html#returning-a-view-versus-a-copy\n",
            "  method=method,\n",
            "/usr/local/lib/python3.7/dist-packages/pandas/core/frame.py:5244: SettingWithCopyWarning: \n",
            "A value is trying to be set on a copy of a slice from a DataFrame\n",
            "\n",
            "See the caveats in the documentation: https://pandas.pydata.org/pandas-docs/stable/user_guide/indexing.html#returning-a-view-versus-a-copy\n",
            "  method=method,\n",
            "/usr/local/lib/python3.7/dist-packages/pandas/core/frame.py:5244: SettingWithCopyWarning: \n",
            "A value is trying to be set on a copy of a slice from a DataFrame\n",
            "\n",
            "See the caveats in the documentation: https://pandas.pydata.org/pandas-docs/stable/user_guide/indexing.html#returning-a-view-versus-a-copy\n",
            "  method=method,\n",
            "/usr/local/lib/python3.7/dist-packages/pandas/core/frame.py:5244: SettingWithCopyWarning: \n",
            "A value is trying to be set on a copy of a slice from a DataFrame\n",
            "\n",
            "See the caveats in the documentation: https://pandas.pydata.org/pandas-docs/stable/user_guide/indexing.html#returning-a-view-versus-a-copy\n",
            "  method=method,\n",
            "/usr/local/lib/python3.7/dist-packages/pandas/core/frame.py:5244: SettingWithCopyWarning: \n",
            "A value is trying to be set on a copy of a slice from a DataFrame\n",
            "\n",
            "See the caveats in the documentation: https://pandas.pydata.org/pandas-docs/stable/user_guide/indexing.html#returning-a-view-versus-a-copy\n",
            "  method=method,\n",
            "/usr/local/lib/python3.7/dist-packages/pandas/core/frame.py:5244: SettingWithCopyWarning: \n",
            "A value is trying to be set on a copy of a slice from a DataFrame\n",
            "\n",
            "See the caveats in the documentation: https://pandas.pydata.org/pandas-docs/stable/user_guide/indexing.html#returning-a-view-versus-a-copy\n",
            "  method=method,\n"
          ]
        },
        {
          "output_type": "execute_result",
          "data": {
            "text/plain": [
              "      P_min     P_max         Q         S     T_min     T_max  max_signal\n",
              "1 -0.012875  0.159522 -0.052145 -0.063619  0.123200  0.159522    0.519478\n",
              "2  0.021315  0.402162 -0.064429 -0.185869  0.373818  0.438494    0.548533\n",
              "3 -0.024220  0.202930 -0.083473 -0.066874  0.198009  0.228996    0.662726\n",
              "4 -0.003560  0.324233 -0.075022 -0.460960  0.272816  0.324233    0.397030\n",
              "5 -0.009723  0.175682 -0.058396 -0.167162  0.155644  0.175682    0.357298"
            ],
            "text/html": [
              "\n",
              "  <div id=\"df-f0a1aefa-fd6c-4178-b702-938c42491b07\">\n",
              "    <div class=\"colab-df-container\">\n",
              "      <div>\n",
              "<style scoped>\n",
              "    .dataframe tbody tr th:only-of-type {\n",
              "        vertical-align: middle;\n",
              "    }\n",
              "\n",
              "    .dataframe tbody tr th {\n",
              "        vertical-align: top;\n",
              "    }\n",
              "\n",
              "    .dataframe thead th {\n",
              "        text-align: right;\n",
              "    }\n",
              "</style>\n",
              "<table border=\"1\" class=\"dataframe\">\n",
              "  <thead>\n",
              "    <tr style=\"text-align: right;\">\n",
              "      <th></th>\n",
              "      <th>P_min</th>\n",
              "      <th>P_max</th>\n",
              "      <th>Q</th>\n",
              "      <th>S</th>\n",
              "      <th>T_min</th>\n",
              "      <th>T_max</th>\n",
              "      <th>max_signal</th>\n",
              "    </tr>\n",
              "  </thead>\n",
              "  <tbody>\n",
              "    <tr>\n",
              "      <th>1</th>\n",
              "      <td>-0.012875</td>\n",
              "      <td>0.159522</td>\n",
              "      <td>-0.052145</td>\n",
              "      <td>-0.063619</td>\n",
              "      <td>0.123200</td>\n",
              "      <td>0.159522</td>\n",
              "      <td>0.519478</td>\n",
              "    </tr>\n",
              "    <tr>\n",
              "      <th>2</th>\n",
              "      <td>0.021315</td>\n",
              "      <td>0.402162</td>\n",
              "      <td>-0.064429</td>\n",
              "      <td>-0.185869</td>\n",
              "      <td>0.373818</td>\n",
              "      <td>0.438494</td>\n",
              "      <td>0.548533</td>\n",
              "    </tr>\n",
              "    <tr>\n",
              "      <th>3</th>\n",
              "      <td>-0.024220</td>\n",
              "      <td>0.202930</td>\n",
              "      <td>-0.083473</td>\n",
              "      <td>-0.066874</td>\n",
              "      <td>0.198009</td>\n",
              "      <td>0.228996</td>\n",
              "      <td>0.662726</td>\n",
              "    </tr>\n",
              "    <tr>\n",
              "      <th>4</th>\n",
              "      <td>-0.003560</td>\n",
              "      <td>0.324233</td>\n",
              "      <td>-0.075022</td>\n",
              "      <td>-0.460960</td>\n",
              "      <td>0.272816</td>\n",
              "      <td>0.324233</td>\n",
              "      <td>0.397030</td>\n",
              "    </tr>\n",
              "    <tr>\n",
              "      <th>5</th>\n",
              "      <td>-0.009723</td>\n",
              "      <td>0.175682</td>\n",
              "      <td>-0.058396</td>\n",
              "      <td>-0.167162</td>\n",
              "      <td>0.155644</td>\n",
              "      <td>0.175682</td>\n",
              "      <td>0.357298</td>\n",
              "    </tr>\n",
              "  </tbody>\n",
              "</table>\n",
              "</div>\n",
              "      <button class=\"colab-df-convert\" onclick=\"convertToInteractive('df-f0a1aefa-fd6c-4178-b702-938c42491b07')\"\n",
              "              title=\"Convert this dataframe to an interactive table.\"\n",
              "              style=\"display:none;\">\n",
              "        \n",
              "  <svg xmlns=\"http://www.w3.org/2000/svg\" height=\"24px\"viewBox=\"0 0 24 24\"\n",
              "       width=\"24px\">\n",
              "    <path d=\"M0 0h24v24H0V0z\" fill=\"none\"/>\n",
              "    <path d=\"M18.56 5.44l.94 2.06.94-2.06 2.06-.94-2.06-.94-.94-2.06-.94 2.06-2.06.94zm-11 1L8.5 8.5l.94-2.06 2.06-.94-2.06-.94L8.5 2.5l-.94 2.06-2.06.94zm10 10l.94 2.06.94-2.06 2.06-.94-2.06-.94-.94-2.06-.94 2.06-2.06.94z\"/><path d=\"M17.41 7.96l-1.37-1.37c-.4-.4-.92-.59-1.43-.59-.52 0-1.04.2-1.43.59L10.3 9.45l-7.72 7.72c-.78.78-.78 2.05 0 2.83L4 21.41c.39.39.9.59 1.41.59.51 0 1.02-.2 1.41-.59l7.78-7.78 2.81-2.81c.8-.78.8-2.07 0-2.86zM5.41 20L4 18.59l7.72-7.72 1.47 1.35L5.41 20z\"/>\n",
              "  </svg>\n",
              "      </button>\n",
              "      \n",
              "  <style>\n",
              "    .colab-df-container {\n",
              "      display:flex;\n",
              "      flex-wrap:wrap;\n",
              "      gap: 12px;\n",
              "    }\n",
              "\n",
              "    .colab-df-convert {\n",
              "      background-color: #E8F0FE;\n",
              "      border: none;\n",
              "      border-radius: 50%;\n",
              "      cursor: pointer;\n",
              "      display: none;\n",
              "      fill: #1967D2;\n",
              "      height: 32px;\n",
              "      padding: 0 0 0 0;\n",
              "      width: 32px;\n",
              "    }\n",
              "\n",
              "    .colab-df-convert:hover {\n",
              "      background-color: #E2EBFA;\n",
              "      box-shadow: 0px 1px 2px rgba(60, 64, 67, 0.3), 0px 1px 3px 1px rgba(60, 64, 67, 0.15);\n",
              "      fill: #174EA6;\n",
              "    }\n",
              "\n",
              "    [theme=dark] .colab-df-convert {\n",
              "      background-color: #3B4455;\n",
              "      fill: #D2E3FC;\n",
              "    }\n",
              "\n",
              "    [theme=dark] .colab-df-convert:hover {\n",
              "      background-color: #434B5C;\n",
              "      box-shadow: 0px 1px 3px 1px rgba(0, 0, 0, 0.15);\n",
              "      filter: drop-shadow(0px 1px 2px rgba(0, 0, 0, 0.3));\n",
              "      fill: #FFFFFF;\n",
              "    }\n",
              "  </style>\n",
              "\n",
              "      <script>\n",
              "        const buttonEl =\n",
              "          document.querySelector('#df-f0a1aefa-fd6c-4178-b702-938c42491b07 button.colab-df-convert');\n",
              "        buttonEl.style.display =\n",
              "          google.colab.kernel.accessAllowed ? 'block' : 'none';\n",
              "\n",
              "        async function convertToInteractive(key) {\n",
              "          const element = document.querySelector('#df-f0a1aefa-fd6c-4178-b702-938c42491b07');\n",
              "          const dataTable =\n",
              "            await google.colab.kernel.invokeFunction('convertToInteractive',\n",
              "                                                     [key], {});\n",
              "          if (!dataTable) return;\n",
              "\n",
              "          const docLinkHtml = 'Like what you see? Visit the ' +\n",
              "            '<a target=\"_blank\" href=https://colab.research.google.com/notebooks/data_table.ipynb>data table notebook</a>'\n",
              "            + ' to learn more about interactive tables.';\n",
              "          element.innerHTML = '';\n",
              "          dataTable['output_type'] = 'display_data';\n",
              "          await google.colab.output.renderOutput(dataTable, element);\n",
              "          const docLink = document.createElement('div');\n",
              "          docLink.innerHTML = docLinkHtml;\n",
              "          element.appendChild(docLink);\n",
              "        }\n",
              "      </script>\n",
              "    </div>\n",
              "  </div>\n",
              "  "
            ]
          },
          "metadata": {},
          "execution_count": 8
        },
        {
          "output_type": "display_data",
          "data": {
            "text/plain": [
              "<Figure size 432x288 with 1 Axes>"
            ],
            "image/png": "[encoded data removed]"
          },
          "metadata": {
            "needs_background": "light"
          }
        },
        {
          "output_type": "display_data",
          "data": {
            "text/plain": [
              "<Figure size 432x288 with 1 Axes>"
            ],
            "image/png": "[encoded data removed]"
          },
          "metadata": {
            "needs_background": "light"
          }
        },
        {
          "output_type": "display_data",
          "data": {
            "text/plain": [
              "<Figure size 432x288 with 1 Axes>"
            ],
            "image/png": "[encoded data removed]"
          },
          "metadata": {
            "needs_background": "light"
          }
        },
        {
          "output_type": "display_data",
          "data": {
            "text/plain": [
              "<Figure size 432x288 with 1 Axes>"
            ],
            "image/png": "[encoded data removed]"
          },
          "metadata": {
            "needs_background": "light"
          }
        },
        {
          "output_type": "display_data",
          "data": {
            "text/plain": [
              "<Figure size 432x288 with 1 Axes>"
            ],
            "image/png": "[encoded data removed]"
          },
          "metadata": {
            "needs_background": "light"
          }
        },
        {
          "output_type": "display_data",
          "data": {
            "text/plain": [
              "<Figure size 432x288 with 1 Axes>"
            ],
            "image/png": "[encoded data removed]"
          },
          "metadata": {
            "needs_background": "light"
          }
        },
        {
          "output_type": "display_data",
          "data": {
            "text/plain": [
              "<Figure size 432x288 with 1 Axes>"
            ],
            "image/png": "[encoded data removed]"
          },
          "metadata": {
            "needs_background": "light"
          }
        },
        {
          "output_type": "display_data",
          "data": {
            "text/plain": [
              "<Figure size 432x288 with 1 Axes>"
            ],
            "image/png": "[encoded data removed]"
          },
          "metadata": {
            "needs_background": "light"
          }
        },
        {
          "output_type": "display_data",
          "data": {
            "text/plain": [
              "<Figure size 432x288 with 1 Axes>"
            ],
            "image/png": "[encoded data removed]"
          },
          "metadata": {
            "needs_background": "light"
          }
        }
      ],
      "source": [
        "xl_df = pd.read_csv('/content/gdrive/MyDrive/ЭКГ/data/ptb-xl-a-large-publicly-available-electrocardiography-dataset-1.0.1/ptbxl_database.csv', index_col='ecg_id')\n",
        "data = {'P_min':[],\n",
        "     'P_max':[],\n",
        "     'Q':[],\n",
        "     'S':[],\n",
        "     'T_min':[],\n",
        "     'T_max':[],\n",
        "     'max_signal':[]\n",
        "     }\n",
        "\n",
        "#create dataframe\n",
        "PQRS_peak = pd.DataFrame(data)\n",
        "D=500\n",
        "i=1\n",
        "n = (len(xl_df[\"patient_id\"]))\n",
        "while i < 10: \n",
        "  new_row = PQST(i,D)\n",
        "  PQRS_peak = PQRS_peak.append(new_row, ignore_index=False)\n",
        "  i=i+1\n",
        "PQRS_peak.head(5)"
      ]
    },
    {
      "cell_type": "code",
      "source": [
        "PQRS_peak.to_csv(\"/content/gdrive/MyDrive/data/\"+\"PQRS_peak\"+\".csv\")"
      ],
      "metadata": {
        "id": "ai7qpXYsisZA"
      },
      "execution_count": null,
      "outputs": []
    },
    {
      "cell_type": "code",
      "source": [
        "def inter1(A,B):\n",
        "  i=0\n",
        "  l=[]\n",
        "  for i in A:\n",
        "    for j in B:\n",
        "      if i<j and i+500>j:\n",
        "        l.append(j-i)\n",
        "  return l \n",
        "\n",
        "def len_P_T_peaks(ecg_data_path,D):\n",
        "  ecg_signal = pd.read_csv(\"/content/gdrive/MyDrive/data/data500(I)/\"+str(ecg_data_path)+\".csv\")['I']\n",
        "  _, rpeaks = nk.ecg_peaks(ecg_signal, sampling_rate=D)\n",
        "  rpeaks['ECG_R_Peaks']= rpeaks['ECG_R_Peaks'][:len(rpeaks['ECG_R_Peaks'])-1]\n",
        "  rpeaks['ECG_R_Peaks']=rpeaks['ECG_R_Peaks'][np.logical_not(np.isnan(rpeaks['ECG_R_Peaks']))]\n",
        "  if len(rpeaks['ECG_R_Peaks'])< 3 :\n",
        "    new_row = pd.Series(data={\"min_PQ_inter\":None,\"max_PQ_inter\":None,\"min_ST_inter\":None,\"max_ST_inter\":None,\"min_signal\":min(ecg_signal)}, name=(ecg_data_path))\n",
        "    return new_row\n",
        "  signal_dwt, waves_dwt = nk.ecg_delineate(ecg_signal, rpeaks, sampling_rate=1000, method=\"peak\", show_type='peaks')#\"cwt\"\n",
        "  PQ=inter1(waves_dwt[\"ECG_P_Onsets\"],waves_dwt[\"ECG_Q_Peaks\"])\n",
        "  ST=inter1(waves_dwt[\"ECG_S_Peaks\"],waves_dwt[\"ECG_T_Offsets\"])\n",
        "  if len(PQ) <1: PQ =[0]\n",
        "  if len(ST) <1: ST =[0]\n",
        "  new_row = pd.Series(data={\"min_PQ_inter\":min(PQ),\"max_PQ_inter\":max(PQ),\"min_ST_inter\":min(ST),\"max_ST_inter\":max(ST),\"min_signal\":min(ecg_signal)}, name=(ecg_data_path))\n",
        "  return new_row\n",
        "\n",
        "\n",
        "len_P_T_peaks(461,500)"
      ],
      "metadata": {
        "colab": {
          "base_uri": "https://localhost:8080/"
        },
        "id": "3ZrII6ftmF1B",
        "outputId": "601a42e5-95c1-4712-f9b1-9e436db8d137"
      },
      "execution_count": null,
      "outputs": [
        {
          "output_type": "execute_result",
          "data": {
            "text/plain": [
              "min_PQ_inter      0.000000\n",
              "max_PQ_inter      0.000000\n",
              "min_ST_inter     84.000000\n",
              "max_ST_inter    208.000000\n",
              "min_signal       -0.221419\n",
              "Name: 461, dtype: float64"
            ]
          },
          "metadata": {},
          "execution_count": 9
        }
      ]
    },
    {
      "cell_type": "code",
      "source": [
        "xl_df = pd.read_csv('/content/gdrive/MyDrive/ЭКГ/data/ptb-xl-a-large-publicly-available-electrocardiography-dataset-1.0.1/ptbxl_database.csv', index_col='ecg_id')\n",
        "data={\"min_PQ_inter\":[],\"max_PQ_inter\":[],\"min_ST_inter\":[],\"max_ST_inter\":[],\"min_signal\":[]}\n",
        "\n",
        "#create dataframe\n",
        "PT_peak = pd.DataFrame(data)\n",
        "D=500\n",
        "i=1\n",
        "n = (len(xl_df[\"patient_id\"]))\n",
        "while i < 5: \n",
        "  new_row = len_P_T_peaks(i,D)\n",
        "  PT_peak  = PT_peak.append(new_row, ignore_index=False)\n",
        "  i=i+1\n",
        "PT_peak.head(5)"
      ],
      "metadata": {
        "id": "OFVnudQ00ujt",
        "colab": {
          "base_uri": "https://localhost:8080/",
          "height": 175
        },
        "outputId": "d3155616-5b3c-43a1-fae9-e9278971b4dc"
      },
      "execution_count": null,
      "outputs": [
        {
          "output_type": "execute_result",
          "data": {
            "text/plain": [
              "   min_PQ_inter  max_PQ_inter  min_ST_inter  max_ST_inter  min_signal\n",
              "1          56.0         218.0         108.0         218.0   -0.102287\n",
              "2          55.0         280.0         159.0         167.0   -0.240243\n",
              "3          55.0         169.0         134.0         302.0   -0.112846\n",
              "4          61.0         489.0         132.0         146.0   -0.513963"
            ],
            "text/html": [
              "\n",
              "  <div id=\"df-0c1644ca-f748-4cc3-bff2-4c55b4c7f211\">\n",
              "    <div class=\"colab-df-container\">\n",
              "      <div>\n",
              "<style scoped>\n",
              "    .dataframe tbody tr th:only-of-type {\n",
              "        vertical-align: middle;\n",
              "    }\n",
              "\n",
              "    .dataframe tbody tr th {\n",
              "        vertical-align: top;\n",
              "    }\n",
              "\n",
              "    .dataframe thead th {\n",
              "        text-align: right;\n",
              "    }\n",
              "</style>\n",
              "<table border=\"1\" class=\"dataframe\">\n",
              "  <thead>\n",
              "    <tr style=\"text-align: right;\">\n",
              "      <th></th>\n",
              "      <th>min_PQ_inter</th>\n",
              "      <th>max_PQ_inter</th>\n",
              "      <th>min_ST_inter</th>\n",
              "      <th>max_ST_inter</th>\n",
              "      <th>min_signal</th>\n",
              "    </tr>\n",
              "  </thead>\n",
              "  <tbody>\n",
              "    <tr>\n",
              "      <th>1</th>\n",
              "      <td>56.0</td>\n",
              "      <td>218.0</td>\n",
              "      <td>108.0</td>\n",
              "      <td>218.0</td>\n",
              "      <td>-0.102287</td>\n",
              "    </tr>\n",
              "    <tr>\n",
              "      <th>2</th>\n",
              "      <td>55.0</td>\n",
              "      <td>280.0</td>\n",
              "      <td>159.0</td>\n",
              "      <td>167.0</td>\n",
              "      <td>-0.240243</td>\n",
              "    </tr>\n",
              "    <tr>\n",
              "      <th>3</th>\n",
              "      <td>55.0</td>\n",
              "      <td>169.0</td>\n",
              "      <td>134.0</td>\n",
              "      <td>302.0</td>\n",
              "      <td>-0.112846</td>\n",
              "    </tr>\n",
              "    <tr>\n",
              "      <th>4</th>\n",
              "      <td>61.0</td>\n",
              "      <td>489.0</td>\n",
              "      <td>132.0</td>\n",
              "      <td>146.0</td>\n",
              "      <td>-0.513963</td>\n",
              "    </tr>\n",
              "  </tbody>\n",
              "</table>\n",
              "</div>\n",
              "      <button class=\"colab-df-convert\" onclick=\"convertToInteractive('df-0c1644ca-f748-4cc3-bff2-4c55b4c7f211')\"\n",
              "              title=\"Convert this dataframe to an interactive table.\"\n",
              "              style=\"display:none;\">\n",
              "        \n",
              "  <svg xmlns=\"http://www.w3.org/2000/svg\" height=\"24px\"viewBox=\"0 0 24 24\"\n",
              "       width=\"24px\">\n",
              "    <path d=\"M0 0h24v24H0V0z\" fill=\"none\"/>\n",
              "    <path d=\"M18.56 5.44l.94 2.06.94-2.06 2.06-.94-2.06-.94-.94-2.06-.94 2.06-2.06.94zm-11 1L8.5 8.5l.94-2.06 2.06-.94-2.06-.94L8.5 2.5l-.94 2.06-2.06.94zm10 10l.94 2.06.94-2.06 2.06-.94-2.06-.94-.94-2.06-.94 2.06-2.06.94z\"/><path d=\"M17.41 7.96l-1.37-1.37c-.4-.4-.92-.59-1.43-.59-.52 0-1.04.2-1.43.59L10.3 9.45l-7.72 7.72c-.78.78-.78 2.05 0 2.83L4 21.41c.39.39.9.59 1.41.59.51 0 1.02-.2 1.41-.59l7.78-7.78 2.81-2.81c.8-.78.8-2.07 0-2.86zM5.41 20L4 18.59l7.72-7.72 1.47 1.35L5.41 20z\"/>\n",
              "  </svg>\n",
              "      </button>\n",
              "      \n",
              "  <style>\n",
              "    .colab-df-container {\n",
              "      display:flex;\n",
              "      flex-wrap:wrap;\n",
              "      gap: 12px;\n",
              "    }\n",
              "\n",
              "    .colab-df-convert {\n",
              "      background-color: #E8F0FE;\n",
              "      border: none;\n",
              "      border-radius: 50%;\n",
              "      cursor: pointer;\n",
              "      display: none;\n",
              "      fill: #1967D2;\n",
              "      height: 32px;\n",
              "      padding: 0 0 0 0;\n",
              "      width: 32px;\n",
              "    }\n",
              "\n",
              "    .colab-df-convert:hover {\n",
              "      background-color: #E2EBFA;\n",
              "      box-shadow: 0px 1px 2px rgba(60, 64, 67, 0.3), 0px 1px 3px 1px rgba(60, 64, 67, 0.15);\n",
              "      fill: #174EA6;\n",
              "    }\n",
              "\n",
              "    [theme=dark] .colab-df-convert {\n",
              "      background-color: #3B4455;\n",
              "      fill: #D2E3FC;\n",
              "    }\n",
              "\n",
              "    [theme=dark] .colab-df-convert:hover {\n",
              "      background-color: #434B5C;\n",
              "      box-shadow: 0px 1px 3px 1px rgba(0, 0, 0, 0.15);\n",
              "      filter: drop-shadow(0px 1px 2px rgba(0, 0, 0, 0.3));\n",
              "      fill: #FFFFFF;\n",
              "    }\n",
              "  </style>\n",
              "\n",
              "      <script>\n",
              "        const buttonEl =\n",
              "          document.querySelector('#df-0c1644ca-f748-4cc3-bff2-4c55b4c7f211 button.colab-df-convert');\n",
              "        buttonEl.style.display =\n",
              "          google.colab.kernel.accessAllowed ? 'block' : 'none';\n",
              "\n",
              "        async function convertToInteractive(key) {\n",
              "          const element = document.querySelector('#df-0c1644ca-f748-4cc3-bff2-4c55b4c7f211');\n",
              "          const dataTable =\n",
              "            await google.colab.kernel.invokeFunction('convertToInteractive',\n",
              "                                                     [key], {});\n",
              "          if (!dataTable) return;\n",
              "\n",
              "          const docLinkHtml = 'Like what you see? Visit the ' +\n",
              "            '<a target=\"_blank\" href=https://colab.research.google.com/notebooks/data_table.ipynb>data table notebook</a>'\n",
              "            + ' to learn more about interactive tables.';\n",
              "          element.innerHTML = '';\n",
              "          dataTable['output_type'] = 'display_data';\n",
              "          await google.colab.output.renderOutput(dataTable, element);\n",
              "          const docLink = document.createElement('div');\n",
              "          docLink.innerHTML = docLinkHtml;\n",
              "          element.appendChild(docLink);\n",
              "        }\n",
              "      </script>\n",
              "    </div>\n",
              "  </div>\n",
              "  "
            ]
          },
          "metadata": {},
          "execution_count": 11
        }
      ]
    },
    {
      "cell_type": "markdown",
      "source": [
        "## Обзор параметров"
      ],
      "metadata": {
        "id": "RofeJ611fKQC"
      }
    },
    {
      "cell_type": "markdown",
      "metadata": {
        "id": "F_qIw8d9j5O3"
      },
      "source": [
        " - 0)   patient_id                     - id пациента\n",
        " - 1)   age                            - возраст\n",
        " - 2)   sex                            - пол\n",
        " - 3)   height                         - рост\n",
        " - 4)   weight                         - вес\n",
        " - 5)   nurse                          - вовлеченная медсестра \n",
        " - 6)   site                           - место записи\n",
        " - 7)   device                         - записывающее устроство\n",
        " - 8)   recording_date                 - дата и время записи\n",
        " - 9)   report                         - отчёт\n",
        " - 10)  scp_codes                      - диагностический код (в виде словаря)\n",
        " - 11)  heart_axis                     - ось сердца\n",
        " - 12)  infarction_stadium1            - стадии инфаркта\n",
        " - 13)  infarction_stadium2            - стадии инфаркта (сек)\n",
        " - 14)  validated_by                   - подтверждающий кардиолог\n",
        " - 15)  second_opinion                 - флаг для второго (отклоняющегося) мнения\n",
        " - 16)  initial_autogenerated_report   - первоначальный автоматически сгенерированный отчет устройством ЭКГ\n",
        " - 17)  validated_by_human             - проверенный человеком\n",
        " - 18)  baseline_drift                 - дрейф изолинии\n",
        " - 19)  static_noise                   - статический шум\n",
        " - 20)  burst_noise                    - взрывной шум\n",
        " - 21)  electrodes_problems            - проблемы с электродами\n",
        " - 22)  extra_beats                    - дополнительные удары\n",
        " - 23)  pacemaker                      - кардиостимулятор\n",
        " - 24)  strat_fold                     - предполагаемы стратифицированные выборки\n",
        " - 25)  filename_lr                    - путь к файлу 100Гц\n",
        " - 26)  filename_hr                    - путь к файлу 500Гц"
      ]
    },
    {
      "cell_type": "markdown",
      "source": [
        "Проверим размерность"
      ],
      "metadata": {
        "id": "OCGQewwib1BW"
      }
    },
    {
      "cell_type": "code",
      "execution_count": null,
      "metadata": {
        "colab": {
          "base_uri": "https://localhost:8080/"
        },
        "id": "hlFeau4KjRPw",
        "outputId": "8f35a6e1-fb07-4c04-ad7e-b14bf8686d1c"
      },
      "outputs": [
        {
          "output_type": "execute_result",
          "data": {
            "text/plain": [
              "(21837, 21837)"
            ]
          },
          "metadata": {},
          "execution_count": 5
        }
      ],
      "source": [
        "xl_df = pd.read_csv('/content/gdrive/MyDrive/ЭКГ/data/ptb-xl-a-large-publicly-available-electrocardiography-dataset-1.0.1/ptbxl_database.csv', index_col='ecg_id')\n",
        "dp = pd.read_csv(\"/content/gdrive/MyDrive/data/\"+\"dp\"+\".csv\",index_col=\"Unnamed: 0\")\n",
        "xl_df.columns\n",
        "len(xl_df),len(dp)"
      ]
    },
    {
      "cell_type": "code",
      "source": [
        "PQRS_peak = pd.read_csv(\"/content/gdrive/MyDrive/data/PQRS_peak.csv\",index_col=\"Unnamed: 0\")\n",
        "PQRS_peak.columns"
      ],
      "metadata": {
        "colab": {
          "base_uri": "https://localhost:8080/"
        },
        "id": "QUEMi1Q3eYfH",
        "outputId": "dae9d112-7280-42e6-e9bf-f05916826077"
      },
      "execution_count": null,
      "outputs": [
        {
          "output_type": "execute_result",
          "data": {
            "text/plain": [
              "Index(['P_min', 'P_max', 'Q', 'S', 'T_min', 'T_max', 'max_signal',\n",
              "       'min_PQ_inter', 'max_PQ_inter', 'min_ST_inter', 'max_ST_inter',\n",
              "       'min_signal', 'maxmin'],\n",
              "      dtype='object')"
            ]
          },
          "metadata": {},
          "execution_count": 6
        }
      ]
    },
    {
      "cell_type": "code",
      "execution_count": null,
      "metadata": {
        "colab": {
          "base_uri": "https://localhost:8080/",
          "height": 459
        },
        "id": "MCopl9lFhs16",
        "outputId": "ae2b2e53-bdf9-4628-8255-f36cd657a8c6"
      },
      "outputs": [
        {
          "output_type": "execute_result",
          "data": {
            "text/plain": [
              "         СКО        CV  skewness  kurtosis      RMSDD  NN5O  pNN5O      SDSD  \\\n",
              "1  16.944353  1.802591  0.035880 -1.030679  22.509257   0.0    0.0  0.025066   \n",
              "2  76.993506  6.120311  0.210076 -1.940373  50.426750   0.0    0.0  0.054899   \n",
              "3  18.517926  1.969061  0.530010 -0.679705  15.534907   0.0    0.0  0.017019   \n",
              "4  43.702223  5.459056 -0.033127 -0.393498  33.742339   0.0    0.0  0.035456   \n",
              "\n",
              "       Rmax      Rmin  ...     T_max  max_signal  min_PQ_inter  max_PQ_inter  \\\n",
              "1  0.519478  0.441581  ...  0.159522    0.519478          56.0         223.0   \n",
              "2  0.548533  0.042048  ...  0.438494    0.548533          43.0         207.0   \n",
              "3  0.662726  0.466819  ...  0.228996    0.662726          55.0         169.0   \n",
              "4  0.397030  0.310811  ...  0.324233    0.397030          61.0         489.0   \n",
              "\n",
              "   min_ST_inter  max_ST_inter    maxmin   age  sex  \\\n",
              "1         108.0         218.0  0.621765  56.0    1   \n",
              "2         159.0         167.0  0.788776  19.0    0   \n",
              "3         134.0         302.0  0.775572  37.0    1   \n",
              "4         132.0         146.0  0.910993  24.0    0   \n",
              "\n",
              "                                  scp_codes  \n",
              "1  {'NORM': 100.0, 'LVOLT': 0.0, 'SR': 0.0}  \n",
              "2              {'NORM': 80.0, 'SBRAD': 0.0}  \n",
              "3                {'NORM': 100.0, 'SR': 0.0}  \n",
              "4                {'NORM': 100.0, 'SR': 0.0}  \n",
              "\n",
              "[4 rows x 27 columns]"
            ],
            "text/html": [
              "\n",
              "  <div id=\"df-6e04204f-7e55-4b9c-a000-5641e65730cd\">\n",
              "    <div class=\"colab-df-container\">\n",
              "      <div>\n",
              "<style scoped>\n",
              "    .dataframe tbody tr th:only-of-type {\n",
              "        vertical-align: middle;\n",
              "    }\n",
              "\n",
              "    .dataframe tbody tr th {\n",
              "        vertical-align: top;\n",
              "    }\n",
              "\n",
              "    .dataframe thead th {\n",
              "        text-align: right;\n",
              "    }\n",
              "</style>\n",
              "<table border=\"1\" class=\"dataframe\">\n",
              "  <thead>\n",
              "    <tr style=\"text-align: right;\">\n",
              "      <th></th>\n",
              "      <th>СКО</th>\n",
              "      <th>CV</th>\n",
              "      <th>skewness</th>\n",
              "      <th>kurtosis</th>\n",
              "      <th>RMSDD</th>\n",
              "      <th>NN5O</th>\n",
              "      <th>pNN5O</th>\n",
              "      <th>SDSD</th>\n",
              "      <th>Rmax</th>\n",
              "      <th>Rmin</th>\n",
              "      <th>...</th>\n",
              "      <th>T_max</th>\n",
              "      <th>max_signal</th>\n",
              "      <th>min_PQ_inter</th>\n",
              "      <th>max_PQ_inter</th>\n",
              "      <th>min_ST_inter</th>\n",
              "      <th>max_ST_inter</th>\n",
              "      <th>maxmin</th>\n",
              "      <th>age</th>\n",
              "      <th>sex</th>\n",
              "      <th>scp_codes</th>\n",
              "    </tr>\n",
              "  </thead>\n",
              "  <tbody>\n",
              "    <tr>\n",
              "      <th>1</th>\n",
              "      <td>16.944353</td>\n",
              "      <td>1.802591</td>\n",
              "      <td>0.035880</td>\n",
              "      <td>-1.030679</td>\n",
              "      <td>22.509257</td>\n",
              "      <td>0.0</td>\n",
              "      <td>0.0</td>\n",
              "      <td>0.025066</td>\n",
              "      <td>0.519478</td>\n",
              "      <td>0.441581</td>\n",
              "      <td>...</td>\n",
              "      <td>0.159522</td>\n",
              "      <td>0.519478</td>\n",
              "      <td>56.0</td>\n",
              "      <td>223.0</td>\n",
              "      <td>108.0</td>\n",
              "      <td>218.0</td>\n",
              "      <td>0.621765</td>\n",
              "      <td>56.0</td>\n",
              "      <td>1</td>\n",
              "      <td>{'NORM': 100.0, 'LVOLT': 0.0, 'SR': 0.0}</td>\n",
              "    </tr>\n",
              "    <tr>\n",
              "      <th>2</th>\n",
              "      <td>76.993506</td>\n",
              "      <td>6.120311</td>\n",
              "      <td>0.210076</td>\n",
              "      <td>-1.940373</td>\n",
              "      <td>50.426750</td>\n",
              "      <td>0.0</td>\n",
              "      <td>0.0</td>\n",
              "      <td>0.054899</td>\n",
              "      <td>0.548533</td>\n",
              "      <td>0.042048</td>\n",
              "      <td>...</td>\n",
              "      <td>0.438494</td>\n",
              "      <td>0.548533</td>\n",
              "      <td>43.0</td>\n",
              "      <td>207.0</td>\n",
              "      <td>159.0</td>\n",
              "      <td>167.0</td>\n",
              "      <td>0.788776</td>\n",
              "      <td>19.0</td>\n",
              "      <td>0</td>\n",
              "      <td>{'NORM': 80.0, 'SBRAD': 0.0}</td>\n",
              "    </tr>\n",
              "    <tr>\n",
              "      <th>3</th>\n",
              "      <td>18.517926</td>\n",
              "      <td>1.969061</td>\n",
              "      <td>0.530010</td>\n",
              "      <td>-0.679705</td>\n",
              "      <td>15.534907</td>\n",
              "      <td>0.0</td>\n",
              "      <td>0.0</td>\n",
              "      <td>0.017019</td>\n",
              "      <td>0.662726</td>\n",
              "      <td>0.466819</td>\n",
              "      <td>...</td>\n",
              "      <td>0.228996</td>\n",
              "      <td>0.662726</td>\n",
              "      <td>55.0</td>\n",
              "      <td>169.0</td>\n",
              "      <td>134.0</td>\n",
              "      <td>302.0</td>\n",
              "      <td>0.775572</td>\n",
              "      <td>37.0</td>\n",
              "      <td>1</td>\n",
              "      <td>{'NORM': 100.0, 'SR': 0.0}</td>\n",
              "    </tr>\n",
              "    <tr>\n",
              "      <th>4</th>\n",
              "      <td>43.702223</td>\n",
              "      <td>5.459056</td>\n",
              "      <td>-0.033127</td>\n",
              "      <td>-0.393498</td>\n",
              "      <td>33.742339</td>\n",
              "      <td>0.0</td>\n",
              "      <td>0.0</td>\n",
              "      <td>0.035456</td>\n",
              "      <td>0.397030</td>\n",
              "      <td>0.310811</td>\n",
              "      <td>...</td>\n",
              "      <td>0.324233</td>\n",
              "      <td>0.397030</td>\n",
              "      <td>61.0</td>\n",
              "      <td>489.0</td>\n",
              "      <td>132.0</td>\n",
              "      <td>146.0</td>\n",
              "      <td>0.910993</td>\n",
              "      <td>24.0</td>\n",
              "      <td>0</td>\n",
              "      <td>{'NORM': 100.0, 'SR': 0.0}</td>\n",
              "    </tr>\n",
              "  </tbody>\n",
              "</table>\n",
              "<p>4 rows × 27 columns</p>\n",
              "</div>\n",
              "      <button class=\"colab-df-convert\" onclick=\"convertToInteractive('df-6e04204f-7e55-4b9c-a000-5641e65730cd')\"\n",
              "              title=\"Convert this dataframe to an interactive table.\"\n",
              "              style=\"display:none;\">\n",
              "        \n",
              "  <svg xmlns=\"http://www.w3.org/2000/svg\" height=\"24px\"viewBox=\"0 0 24 24\"\n",
              "       width=\"24px\">\n",
              "    <path d=\"M0 0h24v24H0V0z\" fill=\"none\"/>\n",
              "    <path d=\"M18.56 5.44l.94 2.06.94-2.06 2.06-.94-2.06-.94-.94-2.06-.94 2.06-2.06.94zm-11 1L8.5 8.5l.94-2.06 2.06-.94-2.06-.94L8.5 2.5l-.94 2.06-2.06.94zm10 10l.94 2.06.94-2.06 2.06-.94-2.06-.94-.94-2.06-.94 2.06-2.06.94z\"/><path d=\"M17.41 7.96l-1.37-1.37c-.4-.4-.92-.59-1.43-.59-.52 0-1.04.2-1.43.59L10.3 9.45l-7.72 7.72c-.78.78-.78 2.05 0 2.83L4 21.41c.39.39.9.59 1.41.59.51 0 1.02-.2 1.41-.59l7.78-7.78 2.81-2.81c.8-.78.8-2.07 0-2.86zM5.41 20L4 18.59l7.72-7.72 1.47 1.35L5.41 20z\"/>\n",
              "  </svg>\n",
              "      </button>\n",
              "      \n",
              "  <style>\n",
              "    .colab-df-container {\n",
              "      display:flex;\n",
              "      flex-wrap:wrap;\n",
              "      gap: 12px;\n",
              "    }\n",
              "\n",
              "    .colab-df-convert {\n",
              "      background-color: #E8F0FE;\n",
              "      border: none;\n",
              "      border-radius: 50%;\n",
              "      cursor: pointer;\n",
              "      display: none;\n",
              "      fill: #1967D2;\n",
              "      height: 32px;\n",
              "      padding: 0 0 0 0;\n",
              "      width: 32px;\n",
              "    }\n",
              "\n",
              "    .colab-df-convert:hover {\n",
              "      background-color: #E2EBFA;\n",
              "      box-shadow: 0px 1px 2px rgba(60, 64, 67, 0.3), 0px 1px 3px 1px rgba(60, 64, 67, 0.15);\n",
              "      fill: #174EA6;\n",
              "    }\n",
              "\n",
              "    [theme=dark] .colab-df-convert {\n",
              "      background-color: #3B4455;\n",
              "      fill: #D2E3FC;\n",
              "    }\n",
              "\n",
              "    [theme=dark] .colab-df-convert:hover {\n",
              "      background-color: #434B5C;\n",
              "      box-shadow: 0px 1px 3px 1px rgba(0, 0, 0, 0.15);\n",
              "      filter: drop-shadow(0px 1px 2px rgba(0, 0, 0, 0.3));\n",
              "      fill: #FFFFFF;\n",
              "    }\n",
              "  </style>\n",
              "\n",
              "      <script>\n",
              "        const buttonEl =\n",
              "          document.querySelector('#df-6e04204f-7e55-4b9c-a000-5641e65730cd button.colab-df-convert');\n",
              "        buttonEl.style.display =\n",
              "          google.colab.kernel.accessAllowed ? 'block' : 'none';\n",
              "\n",
              "        async function convertToInteractive(key) {\n",
              "          const element = document.querySelector('#df-6e04204f-7e55-4b9c-a000-5641e65730cd');\n",
              "          const dataTable =\n",
              "            await google.colab.kernel.invokeFunction('convertToInteractive',\n",
              "                                                     [key], {});\n",
              "          if (!dataTable) return;\n",
              "\n",
              "          const docLinkHtml = 'Like what you see? Visit the ' +\n",
              "            '<a target=\"_blank\" href=https://colab.research.google.com/notebooks/data_table.ipynb>data table notebook</a>'\n",
              "            + ' to learn more about interactive tables.';\n",
              "          element.innerHTML = '';\n",
              "          dataTable['output_type'] = 'display_data';\n",
              "          await google.colab.output.renderOutput(dataTable, element);\n",
              "          const docLink = document.createElement('div');\n",
              "          docLink.innerHTML = docLinkHtml;\n",
              "          element.appendChild(docLink);\n",
              "        }\n",
              "      </script>\n",
              "    </div>\n",
              "  </div>\n",
              "  "
            ]
          },
          "metadata": {},
          "execution_count": 9
        }
      ],
      "source": [
        "\n",
        "dp[['P_min', 'P_max', 'Q', 'S', 'T_min', 'T_max', 'max_signal',\n",
        "       'min_PQ_inter', 'max_PQ_inter', 'min_ST_inter', 'max_ST_inter',\n",
        "       'min_signal', 'maxmin']] = PQRS_peak[['P_min', 'P_max', 'Q', 'S', 'T_min', 'T_max', 'max_signal',\n",
        "       'min_PQ_inter', 'max_PQ_inter', 'min_ST_inter', 'max_ST_inter',\n",
        "       'min_signal', 'maxmin']]\n",
        "dp[['age', 'sex','scp_codes']]=xl_df[['age', 'sex','scp_codes']]\n",
        "       #'heart_axis'\n",
        "dp= dp.dropna()\n",
        "dp.head(4)"
      ]
    },
    {
      "cell_type": "code",
      "execution_count": null,
      "metadata": {
        "colab": {
          "base_uri": "https://localhost:8080/",
          "height": 1000
        },
        "id": "fp-73teafDo_",
        "outputId": "405acd6b-f444-4584-f463-65f6b3a3fd89"
      },
      "outputs": [
        {
          "output_type": "stream",
          "name": "stdout",
          "text": [
            "<class 'pandas.core.frame.DataFrame'>\n",
            "Int64Index: 21730 entries, 1 to 21837\n",
            "Data columns (total 27 columns):\n",
            " #   Column           Non-Null Count  Dtype  \n",
            "---  ------           --------------  -----  \n",
            " 0   СКО              21730 non-null  float64\n",
            " 1   CV               21730 non-null  float64\n",
            " 2   skewness         21730 non-null  float64\n",
            " 3   kurtosis         21730 non-null  float64\n",
            " 4   RMSDD            21730 non-null  float64\n",
            " 5   NN5O             21730 non-null  float64\n",
            " 6   pNN5O            21730 non-null  float64\n",
            " 7   SDSD             21730 non-null  float64\n",
            " 8   Rmax             21730 non-null  float64\n",
            " 9   Rmin             21730 non-null  float64\n",
            " 10  min_signal       21730 non-null  float64\n",
            " 11  Rmax-min_signal  21730 non-null  float64\n",
            " 12  P_min            21730 non-null  float64\n",
            " 13  P_max            21730 non-null  float64\n",
            " 14  Q                21730 non-null  float64\n",
            " 15  S                21730 non-null  float64\n",
            " 16  T_min            21730 non-null  float64\n",
            " 17  T_max            21730 non-null  float64\n",
            " 18  max_signal       21730 non-null  float64\n",
            " 19  min_PQ_inter     21730 non-null  float64\n",
            " 20  max_PQ_inter     21730 non-null  float64\n",
            " 21  min_ST_inter     21730 non-null  float64\n",
            " 22  max_ST_inter     21730 non-null  float64\n",
            " 23  maxmin           21730 non-null  float64\n",
            " 24  age              21730 non-null  float64\n",
            " 25  sex              21730 non-null  int64  \n",
            " 26  scp_codes        21730 non-null  object \n",
            "dtypes: float64(25), int64(1), object(1)\n",
            "memory usage: 4.6+ MB\n"
          ]
        },
        {
          "output_type": "display_data",
          "data": {
            "text/plain": [
              "         СКО        CV  skewness  kurtosis      RMSDD  NN5O  pNN5O      SDSD  \\\n",
              "1  16.944353  1.802591  0.035880 -1.030679  22.509257   0.0    0.0  0.025066   \n",
              "2  76.993506  6.120311  0.210076 -1.940373  50.426750   0.0    0.0  0.054899   \n",
              "3  18.517926  1.969061  0.530010 -0.679705  15.534907   0.0    0.0  0.017019   \n",
              "4  43.702223  5.459056 -0.033127 -0.393498  33.742339   0.0    0.0  0.035456   \n",
              "5  48.490824  5.356918 -0.002690 -1.079496  54.192250   0.0    0.0  0.060175   \n",
              "\n",
              "       Rmax      Rmin  ...     T_max  max_signal  min_PQ_inter  max_PQ_inter  \\\n",
              "1  0.519478  0.441581  ...  0.159522    0.519478          56.0         223.0   \n",
              "2  0.548533  0.042048  ...  0.438494    0.548533          43.0         207.0   \n",
              "3  0.662726  0.466819  ...  0.228996    0.662726          55.0         169.0   \n",
              "4  0.397030  0.310811  ...  0.324233    0.397030          61.0         489.0   \n",
              "5  0.357298  0.310691  ...  0.175682    0.357298          54.0         499.0   \n",
              "\n",
              "   min_ST_inter  max_ST_inter    maxmin   age  sex  \\\n",
              "1         108.0         218.0  0.621765  56.0    1   \n",
              "2         159.0         167.0  0.788776  19.0    0   \n",
              "3         134.0         302.0  0.775572  37.0    1   \n",
              "4         132.0         146.0  0.910993  24.0    0   \n",
              "5         151.0         266.0  0.570912  19.0    1   \n",
              "\n",
              "                                  scp_codes  \n",
              "1  {'NORM': 100.0, 'LVOLT': 0.0, 'SR': 0.0}  \n",
              "2              {'NORM': 80.0, 'SBRAD': 0.0}  \n",
              "3                {'NORM': 100.0, 'SR': 0.0}  \n",
              "4                {'NORM': 100.0, 'SR': 0.0}  \n",
              "5                {'NORM': 100.0, 'SR': 0.0}  \n",
              "\n",
              "[5 rows x 27 columns]"
            ],
            "text/html": [
              "\n",
              "  <div id=\"df-d29dc6b7-57dc-4030-8679-99f971f75a33\">\n",
              "    <div class=\"colab-df-container\">\n",
              "      <div>\n",
              "<style scoped>\n",
              "    .dataframe tbody tr th:only-of-type {\n",
              "        vertical-align: middle;\n",
              "    }\n",
              "\n",
              "    .dataframe tbody tr th {\n",
              "        vertical-align: top;\n",
              "    }\n",
              "\n",
              "    .dataframe thead th {\n",
              "        text-align: right;\n",
              "    }\n",
              "</style>\n",
              "<table border=\"1\" class=\"dataframe\">\n",
              "  <thead>\n",
              "    <tr style=\"text-align: right;\">\n",
              "      <th></th>\n",
              "      <th>СКО</th>\n",
              "      <th>CV</th>\n",
              "      <th>skewness</th>\n",
              "      <th>kurtosis</th>\n",
              "      <th>RMSDD</th>\n",
              "      <th>NN5O</th>\n",
              "      <th>pNN5O</th>\n",
              "      <th>SDSD</th>\n",
              "      <th>Rmax</th>\n",
              "      <th>Rmin</th>\n",
              "      <th>...</th>\n",
              "      <th>T_max</th>\n",
              "      <th>max_signal</th>\n",
              "      <th>min_PQ_inter</th>\n",
              "      <th>max_PQ_inter</th>\n",
              "      <th>min_ST_inter</th>\n",
              "      <th>max_ST_inter</th>\n",
              "      <th>maxmin</th>\n",
              "      <th>age</th>\n",
              "      <th>sex</th>\n",
              "      <th>scp_codes</th>\n",
              "    </tr>\n",
              "  </thead>\n",
              "  <tbody>\n",
              "    <tr>\n",
              "      <th>1</th>\n",
              "      <td>16.944353</td>\n",
              "      <td>1.802591</td>\n",
              "      <td>0.035880</td>\n",
              "      <td>-1.030679</td>\n",
              "      <td>22.509257</td>\n",
              "      <td>0.0</td>\n",
              "      <td>0.0</td>\n",
              "      <td>0.025066</td>\n",
              "      <td>0.519478</td>\n",
              "      <td>0.441581</td>\n",
              "      <td>...</td>\n",
              "      <td>0.159522</td>\n",
              "      <td>0.519478</td>\n",
              "      <td>56.0</td>\n",
              "      <td>223.0</td>\n",
              "      <td>108.0</td>\n",
              "      <td>218.0</td>\n",
              "      <td>0.621765</td>\n",
              "      <td>56.0</td>\n",
              "      <td>1</td>\n",
              "      <td>{'NORM': 100.0, 'LVOLT': 0.0, 'SR': 0.0}</td>\n",
              "    </tr>\n",
              "    <tr>\n",
              "      <th>2</th>\n",
              "      <td>76.993506</td>\n",
              "      <td>6.120311</td>\n",
              "      <td>0.210076</td>\n",
              "      <td>-1.940373</td>\n",
              "      <td>50.426750</td>\n",
              "      <td>0.0</td>\n",
              "      <td>0.0</td>\n",
              "      <td>0.054899</td>\n",
              "      <td>0.548533</td>\n",
              "      <td>0.042048</td>\n",
              "      <td>...</td>\n",
              "      <td>0.438494</td>\n",
              "      <td>0.548533</td>\n",
              "      <td>43.0</td>\n",
              "      <td>207.0</td>\n",
              "      <td>159.0</td>\n",
              "      <td>167.0</td>\n",
              "      <td>0.788776</td>\n",
              "      <td>19.0</td>\n",
              "      <td>0</td>\n",
              "      <td>{'NORM': 80.0, 'SBRAD': 0.0}</td>\n",
              "    </tr>\n",
              "    <tr>\n",
              "      <th>3</th>\n",
              "      <td>18.517926</td>\n",
              "      <td>1.969061</td>\n",
              "      <td>0.530010</td>\n",
              "      <td>-0.679705</td>\n",
              "      <td>15.534907</td>\n",
              "      <td>0.0</td>\n",
              "      <td>0.0</td>\n",
              "      <td>0.017019</td>\n",
              "      <td>0.662726</td>\n",
              "      <td>0.466819</td>\n",
              "      <td>...</td>\n",
              "      <td>0.228996</td>\n",
              "      <td>0.662726</td>\n",
              "      <td>55.0</td>\n",
              "      <td>169.0</td>\n",
              "      <td>134.0</td>\n",
              "      <td>302.0</td>\n",
              "      <td>0.775572</td>\n",
              "      <td>37.0</td>\n",
              "      <td>1</td>\n",
              "      <td>{'NORM': 100.0, 'SR': 0.0}</td>\n",
              "    </tr>\n",
              "    <tr>\n",
              "      <th>4</th>\n",
              "      <td>43.702223</td>\n",
              "      <td>5.459056</td>\n",
              "      <td>-0.033127</td>\n",
              "      <td>-0.393498</td>\n",
              "      <td>33.742339</td>\n",
              "      <td>0.0</td>\n",
              "      <td>0.0</td>\n",
              "      <td>0.035456</td>\n",
              "      <td>0.397030</td>\n",
              "      <td>0.310811</td>\n",
              "      <td>...</td>\n",
              "      <td>0.324233</td>\n",
              "      <td>0.397030</td>\n",
              "      <td>61.0</td>\n",
              "      <td>489.0</td>\n",
              "      <td>132.0</td>\n",
              "      <td>146.0</td>\n",
              "      <td>0.910993</td>\n",
              "      <td>24.0</td>\n",
              "      <td>0</td>\n",
              "      <td>{'NORM': 100.0, 'SR': 0.0}</td>\n",
              "    </tr>\n",
              "    <tr>\n",
              "      <th>5</th>\n",
              "      <td>48.490824</td>\n",
              "      <td>5.356918</td>\n",
              "      <td>-0.002690</td>\n",
              "      <td>-1.079496</td>\n",
              "      <td>54.192250</td>\n",
              "      <td>0.0</td>\n",
              "      <td>0.0</td>\n",
              "      <td>0.060175</td>\n",
              "      <td>0.357298</td>\n",
              "      <td>0.310691</td>\n",
              "      <td>...</td>\n",
              "      <td>0.175682</td>\n",
              "      <td>0.357298</td>\n",
              "      <td>54.0</td>\n",
              "      <td>499.0</td>\n",
              "      <td>151.0</td>\n",
              "      <td>266.0</td>\n",
              "      <td>0.570912</td>\n",
              "      <td>19.0</td>\n",
              "      <td>1</td>\n",
              "      <td>{'NORM': 100.0, 'SR': 0.0}</td>\n",
              "    </tr>\n",
              "  </tbody>\n",
              "</table>\n",
              "<p>5 rows × 27 columns</p>\n",
              "</div>\n",
              "      <button class=\"colab-df-convert\" onclick=\"convertToInteractive('df-d29dc6b7-57dc-4030-8679-99f971f75a33')\"\n",
              "              title=\"Convert this dataframe to an interactive table.\"\n",
              "              style=\"display:none;\">\n",
              "        \n",
              "  <svg xmlns=\"http://www.w3.org/2000/svg\" height=\"24px\"viewBox=\"0 0 24 24\"\n",
              "       width=\"24px\">\n",
              "    <path d=\"M0 0h24v24H0V0z\" fill=\"none\"/>\n",
              "    <path d=\"M18.56 5.44l.94 2.06.94-2.06 2.06-.94-2.06-.94-.94-2.06-.94 2.06-2.06.94zm-11 1L8.5 8.5l.94-2.06 2.06-.94-2.06-.94L8.5 2.5l-.94 2.06-2.06.94zm10 10l.94 2.06.94-2.06 2.06-.94-2.06-.94-.94-2.06-.94 2.06-2.06.94z\"/><path d=\"M17.41 7.96l-1.37-1.37c-.4-.4-.92-.59-1.43-.59-.52 0-1.04.2-1.43.59L10.3 9.45l-7.72 7.72c-.78.78-.78 2.05 0 2.83L4 21.41c.39.39.9.59 1.41.59.51 0 1.02-.2 1.41-.59l7.78-7.78 2.81-2.81c.8-.78.8-2.07 0-2.86zM5.41 20L4 18.59l7.72-7.72 1.47 1.35L5.41 20z\"/>\n",
              "  </svg>\n",
              "      </button>\n",
              "      \n",
              "  <style>\n",
              "    .colab-df-container {\n",
              "      display:flex;\n",
              "      flex-wrap:wrap;\n",
              "      gap: 12px;\n",
              "    }\n",
              "\n",
              "    .colab-df-convert {\n",
              "      background-color: #E8F0FE;\n",
              "      border: none;\n",
              "      border-radius: 50%;\n",
              "      cursor: pointer;\n",
              "      display: none;\n",
              "      fill: #1967D2;\n",
              "      height: 32px;\n",
              "      padding: 0 0 0 0;\n",
              "      width: 32px;\n",
              "    }\n",
              "\n",
              "    .colab-df-convert:hover {\n",
              "      background-color: #E2EBFA;\n",
              "      box-shadow: 0px 1px 2px rgba(60, 64, 67, 0.3), 0px 1px 3px 1px rgba(60, 64, 67, 0.15);\n",
              "      fill: #174EA6;\n",
              "    }\n",
              "\n",
              "    [theme=dark] .colab-df-convert {\n",
              "      background-color: #3B4455;\n",
              "      fill: #D2E3FC;\n",
              "    }\n",
              "\n",
              "    [theme=dark] .colab-df-convert:hover {\n",
              "      background-color: #434B5C;\n",
              "      box-shadow: 0px 1px 3px 1px rgba(0, 0, 0, 0.15);\n",
              "      filter: drop-shadow(0px 1px 2px rgba(0, 0, 0, 0.3));\n",
              "      fill: #FFFFFF;\n",
              "    }\n",
              "  </style>\n",
              "\n",
              "      <script>\n",
              "        const buttonEl =\n",
              "          document.querySelector('#df-d29dc6b7-57dc-4030-8679-99f971f75a33 button.colab-df-convert');\n",
              "        buttonEl.style.display =\n",
              "          google.colab.kernel.accessAllowed ? 'block' : 'none';\n",
              "\n",
              "        async function convertToInteractive(key) {\n",
              "          const element = document.querySelector('#df-d29dc6b7-57dc-4030-8679-99f971f75a33');\n",
              "          const dataTable =\n",
              "            await google.colab.kernel.invokeFunction('convertToInteractive',\n",
              "                                                     [key], {});\n",
              "          if (!dataTable) return;\n",
              "\n",
              "          const docLinkHtml = 'Like what you see? Visit the ' +\n",
              "            '<a target=\"_blank\" href=https://colab.research.google.com/notebooks/data_table.ipynb>data table notebook</a>'\n",
              "            + ' to learn more about interactive tables.';\n",
              "          element.innerHTML = '';\n",
              "          dataTable['output_type'] = 'display_data';\n",
              "          await google.colab.output.renderOutput(dataTable, element);\n",
              "          const docLink = document.createElement('div');\n",
              "          docLink.innerHTML = docLinkHtml;\n",
              "          element.appendChild(docLink);\n",
              "        }\n",
              "      </script>\n",
              "    </div>\n",
              "  </div>\n",
              "  "
            ]
          },
          "metadata": {}
        },
        {
          "output_type": "display_data",
          "data": {
            "text/plain": [
              "None"
            ]
          },
          "metadata": {}
        },
        {
          "output_type": "display_data",
          "data": {
            "text/plain": [
              "                СКО            CV      skewness      kurtosis         RMSDD  \\\n",
              "count  21730.000000  21730.000000  21730.000000  21730.000000  21730.000000   \n",
              "mean      59.322698      7.106397     -0.393780      1.339130     73.742950   \n",
              "std       76.914547      8.573082      1.244726      3.634274    111.400097   \n",
              "min        0.000000      0.000000     -4.313801     -3.045847      0.000000   \n",
              "25%       13.163364      1.576656     -0.858360     -0.972398     12.504545   \n",
              "50%       29.780887      3.479094     -0.140948     -0.152493     29.441004   \n",
              "75%       74.578270      9.010667      0.359253      1.981053     85.957984   \n",
              "max     2078.098831    107.925154      4.673600     23.335820   3563.835715   \n",
              "\n",
              "               NN5O         pNN5O          SDSD          Rmax          Rmin  \\\n",
              "count  21730.000000  21730.000000  21730.000000  21730.000000  21730.000000   \n",
              "mean       0.100782      1.106451      0.080940      0.692269      0.426873   \n",
              "std        0.419687      4.625272      0.127659      0.383687      0.338771   \n",
              "min        0.000000      0.000000      0.000000     -0.032802     -0.840680   \n",
              "25%        0.000000      0.000000      0.013383      0.464659      0.120927   \n",
              "50%        0.000000      0.000000      0.032154      0.650347      0.414437   \n",
              "75%        0.000000      0.000000      0.092810      0.865067      0.644198   \n",
              "max        6.000000     60.000000      5.030110     20.207867      2.954439   \n",
              "\n",
              "       ...         T_min         T_max    max_signal  min_PQ_inter  \\\n",
              "count  ...  21730.000000  21730.000000  21730.000000  21730.000000   \n",
              "mean   ...      0.112659      0.148709      0.695822     63.437184   \n",
              "std    ...      0.507063      0.537843      0.392338     23.832187   \n",
              "min    ...     -0.888749    -10.000000      0.061335      0.000000   \n",
              "25%    ...      0.014723      0.097167      0.467180     49.000000   \n",
              "50%    ...      0.077563      0.154454      0.652373     61.000000   \n",
              "75%    ...      0.148487      0.223039      0.867631     74.000000   \n",
              "max    ...     10.000000     17.713866     20.207867    222.000000   \n",
              "\n",
              "       max_PQ_inter  min_ST_inter  max_ST_inter        maxmin           age  \\\n",
              "count  21730.000000   21730.00000  21730.000000  21730.000000  21730.000000   \n",
              "mean     390.699540     101.11896    344.128716      0.910587     59.836079   \n",
              "std      130.747109      41.75391    134.677101      0.591490     16.948952   \n",
              "min        0.000000       1.00000     44.000000      0.146380      2.000000   \n",
              "25%      242.000000      76.00000    217.000000      0.645596     50.000000   \n",
              "50%      470.000000     107.00000    339.000000      0.850394     62.000000   \n",
              "75%      491.000000     133.00000    486.000000      1.089975     72.000000   \n",
              "max      499.000000     248.00000    499.000000     34.735272     95.000000   \n",
              "\n",
              "                sex  \n",
              "count  21730.000000  \n",
              "mean       0.477543  \n",
              "std        0.499507  \n",
              "min        0.000000  \n",
              "25%        0.000000  \n",
              "50%        0.000000  \n",
              "75%        1.000000  \n",
              "max        1.000000  \n",
              "\n",
              "[8 rows x 26 columns]"
            ],
            "text/html": [
              "\n",
              "  <div id=\"df-05b4c96d-b61a-44e8-8a3d-ca0222fb4d61\">\n",
              "    <div class=\"colab-df-container\">\n",
              "      <div>\n",
              "<style scoped>\n",
              "    .dataframe tbody tr th:only-of-type {\n",
              "        vertical-align: middle;\n",
              "    }\n",
              "\n",
              "    .dataframe tbody tr th {\n",
              "        vertical-align: top;\n",
              "    }\n",
              "\n",
              "    .dataframe thead th {\n",
              "        text-align: right;\n",
              "    }\n",
              "</style>\n",
              "<table border=\"1\" class=\"dataframe\">\n",
              "  <thead>\n",
              "    <tr style=\"text-align: right;\">\n",
              "      <th></th>\n",
              "      <th>СКО</th>\n",
              "      <th>CV</th>\n",
              "      <th>skewness</th>\n",
              "      <th>kurtosis</th>\n",
              "      <th>RMSDD</th>\n",
              "      <th>NN5O</th>\n",
              "      <th>pNN5O</th>\n",
              "      <th>SDSD</th>\n",
              "      <th>Rmax</th>\n",
              "      <th>Rmin</th>\n",
              "      <th>...</th>\n",
              "      <th>T_min</th>\n",
              "      <th>T_max</th>\n",
              "      <th>max_signal</th>\n",
              "      <th>min_PQ_inter</th>\n",
              "      <th>max_PQ_inter</th>\n",
              "      <th>min_ST_inter</th>\n",
              "      <th>max_ST_inter</th>\n",
              "      <th>maxmin</th>\n",
              "      <th>age</th>\n",
              "      <th>sex</th>\n",
              "    </tr>\n",
              "  </thead>\n",
              "  <tbody>\n",
              "    <tr>\n",
              "      <th>count</th>\n",
              "      <td>21730.000000</td>\n",
              "      <td>21730.000000</td>\n",
              "      <td>21730.000000</td>\n",
              "      <td>21730.000000</td>\n",
              "      <td>21730.000000</td>\n",
              "      <td>21730.000000</td>\n",
              "      <td>21730.000000</td>\n",
              "      <td>21730.000000</td>\n",
              "      <td>21730.000000</td>\n",
              "      <td>21730.000000</td>\n",
              "      <td>...</td>\n",
              "      <td>21730.000000</td>\n",
              "      <td>21730.000000</td>\n",
              "      <td>21730.000000</td>\n",
              "      <td>21730.000000</td>\n",
              "      <td>21730.000000</td>\n",
              "      <td>21730.00000</td>\n",
              "      <td>21730.000000</td>\n",
              "      <td>21730.000000</td>\n",
              "      <td>21730.000000</td>\n",
              "      <td>21730.000000</td>\n",
              "    </tr>\n",
              "    <tr>\n",
              "      <th>mean</th>\n",
              "      <td>59.322698</td>\n",
              "      <td>7.106397</td>\n",
              "      <td>-0.393780</td>\n",
              "      <td>1.339130</td>\n",
              "      <td>73.742950</td>\n",
              "      <td>0.100782</td>\n",
              "      <td>1.106451</td>\n",
              "      <td>0.080940</td>\n",
              "      <td>0.692269</td>\n",
              "      <td>0.426873</td>\n",
              "      <td>...</td>\n",
              "      <td>0.112659</td>\n",
              "      <td>0.148709</td>\n",
              "      <td>0.695822</td>\n",
              "      <td>63.437184</td>\n",
              "      <td>390.699540</td>\n",
              "      <td>101.11896</td>\n",
              "      <td>344.128716</td>\n",
              "      <td>0.910587</td>\n",
              "      <td>59.836079</td>\n",
              "      <td>0.477543</td>\n",
              "    </tr>\n",
              "    <tr>\n",
              "      <th>std</th>\n",
              "      <td>76.914547</td>\n",
              "      <td>8.573082</td>\n",
              "      <td>1.244726</td>\n",
              "      <td>3.634274</td>\n",
              "      <td>111.400097</td>\n",
              "      <td>0.419687</td>\n",
              "      <td>4.625272</td>\n",
              "      <td>0.127659</td>\n",
              "      <td>0.383687</td>\n",
              "      <td>0.338771</td>\n",
              "      <td>...</td>\n",
              "      <td>0.507063</td>\n",
              "      <td>0.537843</td>\n",
              "      <td>0.392338</td>\n",
              "      <td>23.832187</td>\n",
              "      <td>130.747109</td>\n",
              "      <td>41.75391</td>\n",
              "      <td>134.677101</td>\n",
              "      <td>0.591490</td>\n",
              "      <td>16.948952</td>\n",
              "      <td>0.499507</td>\n",
              "    </tr>\n",
              "    <tr>\n",
              "      <th>min</th>\n",
              "      <td>0.000000</td>\n",
              "      <td>0.000000</td>\n",
              "      <td>-4.313801</td>\n",
              "      <td>-3.045847</td>\n",
              "      <td>0.000000</td>\n",
              "      <td>0.000000</td>\n",
              "      <td>0.000000</td>\n",
              "      <td>0.000000</td>\n",
              "      <td>-0.032802</td>\n",
              "      <td>-0.840680</td>\n",
              "      <td>...</td>\n",
              "      <td>-0.888749</td>\n",
              "      <td>-10.000000</td>\n",
              "      <td>0.061335</td>\n",
              "      <td>0.000000</td>\n",
              "      <td>0.000000</td>\n",
              "      <td>1.00000</td>\n",
              "      <td>44.000000</td>\n",
              "      <td>0.146380</td>\n",
              "      <td>2.000000</td>\n",
              "      <td>0.000000</td>\n",
              "    </tr>\n",
              "    <tr>\n",
              "      <th>25%</th>\n",
              "      <td>13.163364</td>\n",
              "      <td>1.576656</td>\n",
              "      <td>-0.858360</td>\n",
              "      <td>-0.972398</td>\n",
              "      <td>12.504545</td>\n",
              "      <td>0.000000</td>\n",
              "      <td>0.000000</td>\n",
              "      <td>0.013383</td>\n",
              "      <td>0.464659</td>\n",
              "      <td>0.120927</td>\n",
              "      <td>...</td>\n",
              "      <td>0.014723</td>\n",
              "      <td>0.097167</td>\n",
              "      <td>0.467180</td>\n",
              "      <td>49.000000</td>\n",
              "      <td>242.000000</td>\n",
              "      <td>76.00000</td>\n",
              "      <td>217.000000</td>\n",
              "      <td>0.645596</td>\n",
              "      <td>50.000000</td>\n",
              "      <td>0.000000</td>\n",
              "    </tr>\n",
              "    <tr>\n",
              "      <th>50%</th>\n",
              "      <td>29.780887</td>\n",
              "      <td>3.479094</td>\n",
              "      <td>-0.140948</td>\n",
              "      <td>-0.152493</td>\n",
              "      <td>29.441004</td>\n",
              "      <td>0.000000</td>\n",
              "      <td>0.000000</td>\n",
              "      <td>0.032154</td>\n",
              "      <td>0.650347</td>\n",
              "      <td>0.414437</td>\n",
              "      <td>...</td>\n",
              "      <td>0.077563</td>\n",
              "      <td>0.154454</td>\n",
              "      <td>0.652373</td>\n",
              "      <td>61.000000</td>\n",
              "      <td>470.000000</td>\n",
              "      <td>107.00000</td>\n",
              "      <td>339.000000</td>\n",
              "      <td>0.850394</td>\n",
              "      <td>62.000000</td>\n",
              "      <td>0.000000</td>\n",
              "    </tr>\n",
              "    <tr>\n",
              "      <th>75%</th>\n",
              "      <td>74.578270</td>\n",
              "      <td>9.010667</td>\n",
              "      <td>0.359253</td>\n",
              "      <td>1.981053</td>\n",
              "      <td>85.957984</td>\n",
              "      <td>0.000000</td>\n",
              "      <td>0.000000</td>\n",
              "      <td>0.092810</td>\n",
              "      <td>0.865067</td>\n",
              "      <td>0.644198</td>\n",
              "      <td>...</td>\n",
              "      <td>0.148487</td>\n",
              "      <td>0.223039</td>\n",
              "      <td>0.867631</td>\n",
              "      <td>74.000000</td>\n",
              "      <td>491.000000</td>\n",
              "      <td>133.00000</td>\n",
              "      <td>486.000000</td>\n",
              "      <td>1.089975</td>\n",
              "      <td>72.000000</td>\n",
              "      <td>1.000000</td>\n",
              "    </tr>\n",
              "    <tr>\n",
              "      <th>max</th>\n",
              "      <td>2078.098831</td>\n",
              "      <td>107.925154</td>\n",
              "      <td>4.673600</td>\n",
              "      <td>23.335820</td>\n",
              "      <td>3563.835715</td>\n",
              "      <td>6.000000</td>\n",
              "      <td>60.000000</td>\n",
              "      <td>5.030110</td>\n",
              "      <td>20.207867</td>\n",
              "      <td>2.954439</td>\n",
              "      <td>...</td>\n",
              "      <td>10.000000</td>\n",
              "      <td>17.713866</td>\n",
              "      <td>20.207867</td>\n",
              "      <td>222.000000</td>\n",
              "      <td>499.000000</td>\n",
              "      <td>248.00000</td>\n",
              "      <td>499.000000</td>\n",
              "      <td>34.735272</td>\n",
              "      <td>95.000000</td>\n",
              "      <td>1.000000</td>\n",
              "    </tr>\n",
              "  </tbody>\n",
              "</table>\n",
              "<p>8 rows × 26 columns</p>\n",
              "</div>\n",
              "      <button class=\"colab-df-convert\" onclick=\"convertToInteractive('df-05b4c96d-b61a-44e8-8a3d-ca0222fb4d61')\"\n",
              "              title=\"Convert this dataframe to an interactive table.\"\n",
              "              style=\"display:none;\">\n",
              "        \n",
              "  <svg xmlns=\"http://www.w3.org/2000/svg\" height=\"24px\"viewBox=\"0 0 24 24\"\n",
              "       width=\"24px\">\n",
              "    <path d=\"M0 0h24v24H0V0z\" fill=\"none\"/>\n",
              "    <path d=\"M18.56 5.44l.94 2.06.94-2.06 2.06-.94-2.06-.94-.94-2.06-.94 2.06-2.06.94zm-11 1L8.5 8.5l.94-2.06 2.06-.94-2.06-.94L8.5 2.5l-.94 2.06-2.06.94zm10 10l.94 2.06.94-2.06 2.06-.94-2.06-.94-.94-2.06-.94 2.06-2.06.94z\"/><path d=\"M17.41 7.96l-1.37-1.37c-.4-.4-.92-.59-1.43-.59-.52 0-1.04.2-1.43.59L10.3 9.45l-7.72 7.72c-.78.78-.78 2.05 0 2.83L4 21.41c.39.39.9.59 1.41.59.51 0 1.02-.2 1.41-.59l7.78-7.78 2.81-2.81c.8-.78.8-2.07 0-2.86zM5.41 20L4 18.59l7.72-7.72 1.47 1.35L5.41 20z\"/>\n",
              "  </svg>\n",
              "      </button>\n",
              "      \n",
              "  <style>\n",
              "    .colab-df-container {\n",
              "      display:flex;\n",
              "      flex-wrap:wrap;\n",
              "      gap: 12px;\n",
              "    }\n",
              "\n",
              "    .colab-df-convert {\n",
              "      background-color: #E8F0FE;\n",
              "      border: none;\n",
              "      border-radius: 50%;\n",
              "      cursor: pointer;\n",
              "      display: none;\n",
              "      fill: #1967D2;\n",
              "      height: 32px;\n",
              "      padding: 0 0 0 0;\n",
              "      width: 32px;\n",
              "    }\n",
              "\n",
              "    .colab-df-convert:hover {\n",
              "      background-color: #E2EBFA;\n",
              "      box-shadow: 0px 1px 2px rgba(60, 64, 67, 0.3), 0px 1px 3px 1px rgba(60, 64, 67, 0.15);\n",
              "      fill: #174EA6;\n",
              "    }\n",
              "\n",
              "    [theme=dark] .colab-df-convert {\n",
              "      background-color: #3B4455;\n",
              "      fill: #D2E3FC;\n",
              "    }\n",
              "\n",
              "    [theme=dark] .colab-df-convert:hover {\n",
              "      background-color: #434B5C;\n",
              "      box-shadow: 0px 1px 3px 1px rgba(0, 0, 0, 0.15);\n",
              "      filter: drop-shadow(0px 1px 2px rgba(0, 0, 0, 0.3));\n",
              "      fill: #FFFFFF;\n",
              "    }\n",
              "  </style>\n",
              "\n",
              "      <script>\n",
              "        const buttonEl =\n",
              "          document.querySelector('#df-05b4c96d-b61a-44e8-8a3d-ca0222fb4d61 button.colab-df-convert');\n",
              "        buttonEl.style.display =\n",
              "          google.colab.kernel.accessAllowed ? 'block' : 'none';\n",
              "\n",
              "        async function convertToInteractive(key) {\n",
              "          const element = document.querySelector('#df-05b4c96d-b61a-44e8-8a3d-ca0222fb4d61');\n",
              "          const dataTable =\n",
              "            await google.colab.kernel.invokeFunction('convertToInteractive',\n",
              "                                                     [key], {});\n",
              "          if (!dataTable) return;\n",
              "\n",
              "          const docLinkHtml = 'Like what you see? Visit the ' +\n",
              "            '<a target=\"_blank\" href=https://colab.research.google.com/notebooks/data_table.ipynb>data table notebook</a>'\n",
              "            + ' to learn more about interactive tables.';\n",
              "          element.innerHTML = '';\n",
              "          dataTable['output_type'] = 'display_data';\n",
              "          await google.colab.output.renderOutput(dataTable, element);\n",
              "          const docLink = document.createElement('div');\n",
              "          docLink.innerHTML = docLinkHtml;\n",
              "          element.appendChild(docLink);\n",
              "        }\n",
              "      </script>\n",
              "    </div>\n",
              "  </div>\n",
              "  "
            ]
          },
          "metadata": {}
        },
        {
          "output_type": "display_data",
          "data": {
            "text/plain": [
              "(21730, 27)"
            ]
          },
          "metadata": {}
        },
        {
          "output_type": "execute_result",
          "data": {
            "text/plain": [
              "16"
            ]
          },
          "metadata": {},
          "execution_count": 8
        }
      ],
      "source": [
        "display(dp.head(),\n",
        "        dp.info(),\n",
        "        dp.describe(),\n",
        "        dp.shape)\n",
        "dp.duplicated().sum()#"
      ]
    },
    {
      "cell_type": "markdown",
      "metadata": {
        "id": "rh-Zhb8Syqbc"
      },
      "source": [
        "## Обработка диагнозов\n"
      ]
    },
    {
      "cell_type": "code",
      "execution_count": null,
      "metadata": {
        "colab": {
          "base_uri": "https://localhost:8080/"
        },
        "id": "RuTglBhXPudg",
        "outputId": "fc651f19-6652-47c8-b5ee-c7654d9b7155"
      },
      "outputs": [
        {
          "output_type": "stream",
          "name": "stderr",
          "text": [
            "/usr/local/lib/python3.7/dist-packages/pandas/util/_decorators.py:311: SettingWithCopyWarning: \n",
            "A value is trying to be set on a copy of a slice from a DataFrame\n",
            "\n",
            "See the caveats in the documentation: https://pandas.pydata.org/pandas-docs/stable/user_guide/indexing.html#returning-a-view-versus-a-copy\n",
            "  return func(*args, **kwargs)\n"
          ]
        },
        {
          "output_type": "execute_result",
          "data": {
            "text/plain": [
              "{'NORM': 100.0, 'SR': 0.0}                                                               6140\n",
              "{'NORM': 80.0, 'SR': 0.0}                                                                 722\n",
              "{'NDT': 100.0, 'SR': 0.0}                                                                 635\n",
              "{'LAFB': 100.0, 'SR': 0.0}                                                                277\n",
              "{'PACE': 100.0}                                                                           268\n",
              "                                                                                         ... \n",
              "{'IMI': 100.0, 'IVCD': 100.0, 'SR': 0.0}                                                    1\n",
              "{'ILMI': 80.0, 'ABQRS': 0.0}                                                                1\n",
              "{'AMI': 35.0, 'RAO/RAE': 100.0, 'LAFB': 100.0, 'VCLVH': 0.0, 'SR': 0.0}                     1\n",
              "{'CRBBB': 100.0, 'LPFB': 100.0, '1AVB': 100.0, 'RVH': 100.0, 'ABQRS': 0.0, 'SR': 0.0}       1\n",
              "{'NDT': 100.0, 'PVC': 100.0, 'VCLVH': 0.0, 'STACH': 0.0}                                    1\n",
              "Name: scp_codes, Length: 5408, dtype: int64"
            ]
          },
          "metadata": {},
          "execution_count": 20
        }
      ],
      "source": [
        "xl_df = pd.read_csv('/content/gdrive/MyDrive/ЭКГ/data/ptb-xl-a-large-publicly-available-electrocardiography-dataset-1.0.1/ptbxl_database.csv', index_col='ecg_id')\n",
        "dp = pd.read_csv(\"/content/gdrive/MyDrive/data/\"+\"dp\"+\".csv\",index_col=\"Unnamed: 0\")\n",
        "PQRS_peak = pd.read_csv(\"/content/gdrive/MyDrive/data/PQRS_peak.csv\",index_col=\"Unnamed: 0\")\n",
        "dp[['P_min', 'P_max', 'Q', 'S', 'T_min', 'T_max', 'max_signal',\n",
        "       'min_PQ_inter', 'max_PQ_inter', 'min_ST_inter', 'max_ST_inter',\n",
        "       'min_signal', 'maxmin']] = PQRS_peak[['P_min', 'P_max', 'Q', 'S', 'T_min', 'T_max', 'max_signal',\n",
        "       'min_PQ_inter', 'max_PQ_inter', 'min_ST_inter', 'max_ST_inter',\n",
        "       'min_signal', 'maxmin']]\n",
        "dp[['age', 'sex','scp_codes',]]=xl_df[['age', 'sex','scp_codes']]\n",
        "dp= dp.dropna()\n",
        "dp.drop_duplicates(inplace=True)#Удаляем дубляж\n",
        "dp.reset_index(inplace=True, drop=True)\n",
        "dp.shape\n",
        "dp['scp_codes'].value_counts()#Дисбаланс-баланс"
      ]
    },
    {
      "cell_type": "code",
      "execution_count": null,
      "metadata": {
        "id": "41MM2gqX8e7C",
        "colab": {
          "base_uri": "https://localhost:8080/"
        },
        "outputId": "c2db2f12-d88b-4dad-f1ef-5041a4c6e525"
      },
      "outputs": [
        {
          "output_type": "stream",
          "name": "stdout",
          "text": [
            "MI      14\n",
            "STTC    13\n",
            "CD      11\n",
            "HYP      5\n",
            "NORM     1\n",
            "Name: diagnostic_class, dtype: int64\n"
          ]
        }
      ],
      "source": [
        "scp_statements1 = pd.read_csv('/content/gdrive/MyDrive/ЭКГ/data/ptb-xl-a-large-publicly-available-electrocardiography-dataset-1.0.1/scp_statements.csv')\n",
        "scp_statements = list(scp_statements1[\"Unnamed: 0\"])\n",
        "df_cod=dp[\"scp_codes\"]\n",
        "scp_statements3 = pd.DataFrame()\n",
        "scp_statements3[[\"Unnamed: 0\",\"description\",\"diagnostic_class\",\"diagnostic_subclass\",\"Statement Category\",\"SCP-ECG Statement Description\"]] = scp_statements1[[\"Unnamed: 0\",\"description\",\"diagnostic_class\",\"diagnostic_subclass\",\"Statement Category\",\"SCP-ECG Statement Description\"]]\n",
        "print(scp_statements3[\"diagnostic_class\"].value_counts())"
      ]
    },
    {
      "cell_type": "code",
      "source": [
        "print(scp_statements3[\"diagnostic_subclass\"].value_counts())"
      ],
      "metadata": {
        "colab": {
          "base_uri": "https://localhost:8080/"
        },
        "id": "WHtq73rMcTwI",
        "outputId": "7fc0474f-8797-4cc0-8cc6-0c9a47db11c4"
      },
      "execution_count": null,
      "outputs": [
        {
          "output_type": "stream",
          "name": "stdout",
          "text": [
            "IMI          6\n",
            "AMI          6\n",
            "STTC         5\n",
            "ISCA         4\n",
            "_AVB         3\n",
            "ISCI         2\n",
            "LAFB/LPFB    2\n",
            "NORM         1\n",
            "SEHYP        1\n",
            "ILBBB        1\n",
            "WPW          1\n",
            "RAO/RAE      1\n",
            "RVH          1\n",
            "LMI          1\n",
            "CLBBB        1\n",
            "LAO/LAE      1\n",
            "LVH          1\n",
            "CRBBB        1\n",
            "NST_         1\n",
            "IVCD         1\n",
            "IRBBB        1\n",
            "ISC_         1\n",
            "PMI          1\n",
            "Name: diagnostic_subclass, dtype: int64\n"
          ]
        }
      ]
    },
    {
      "cell_type": "markdown",
      "metadata": {
        "id": "hVGSANeoXDAM"
      },
      "source": [
        "Приведем к виду {'NORM': 100.0, 'LVOLT': 0.0, 'SR': 0.0} -> {'NORM', 'LVOLT', 'SR'}"
      ]
    },
    {
      "cell_type": "code",
      "source": [
        "def del_symbol_l(scp_codes):\n",
        "  str_scp_codes = \"{\"\n",
        "  for i in scp_statements : \n",
        "    if i in scp_codes  != False:str_scp_codes =  str_scp_codes + \"'\" + str(i)+ \"'\" + \",\"\n",
        "  str_scp_codes = str_scp_codes[:len(str_scp_codes)-1]+  \"}\"\n",
        "  return str_scp_codes\n",
        "i=0\n",
        "k=0\n",
        "while i < len(df_cod):\n",
        "  df_cod[i] = del_symbol_l(df_cod[i])\n",
        "  i=i+1\n",
        "df_cod"
      ],
      "metadata": {
        "colab": {
          "base_uri": "https://localhost:8080/"
        },
        "id": "FvInxDQCHk5H",
        "outputId": "249bb05f-975d-4b56-808d-9806b1aeaa58"
      },
      "execution_count": null,
      "outputs": [
        {
          "output_type": "stream",
          "name": "stderr",
          "text": [
            "/usr/local/lib/python3.7/dist-packages/ipykernel_launcher.py:10: SettingWithCopyWarning: \n",
            "A value is trying to be set on a copy of a slice from a DataFrame\n",
            "\n",
            "See the caveats in the documentation: https://pandas.pydata.org/pandas-docs/stable/user_guide/indexing.html#returning-a-view-versus-a-copy\n",
            "  # Remove the CWD from sys.path while we load stuff.\n"
          ]
        },
        {
          "output_type": "execute_result",
          "data": {
            "text/plain": [
              "0                      {'NORM','LVOLT','SR'}\n",
              "1                           {'NORM','SBRAD'}\n",
              "2                              {'NORM','SR'}\n",
              "3                              {'NORM','SR'}\n",
              "4                              {'NORM','SR'}\n",
              "                        ...                 \n",
              "21709    {'NDT','LVH','PVC','VCLVH','STACH'}\n",
              "21710                  {'NORM','ABQRS','SR'}\n",
              "21711                         {'ISCAS','SR'}\n",
              "21712                          {'NORM','SR'}\n",
              "21713                          {'NORM','SR'}\n",
              "Name: scp_codes, Length: 21714, dtype: object"
            ]
          },
          "metadata": {},
          "execution_count": 25
        }
      ]
    },
    {
      "cell_type": "code",
      "execution_count": null,
      "metadata": {
        "id": "65k2cgHWUOAi"
      },
      "outputs": [],
      "source": [
        "# вывести в лист все обьекты включающие это имя \n",
        "def del_symbol(scp_codes,klass):\n",
        "  for i in klass : \n",
        "    if i in scp_codes  != False:\n",
        "      return scp_codes\n",
        "def del_symbol_0(Sl,df_cod):\n",
        "  i=0\n",
        "  l = []\n",
        "  while i < len(df_cod):\n",
        "    l.append(del_symbol(df_cod[i],Sl))\n",
        "    i=i+1\n",
        "  l_0 = pd.DataFrame()\n",
        "  l_0[\"diagnostic\"] = l\n",
        "  l_0 = l_0.dropna()\n",
        "  return l_0"
      ]
    },
    {
      "cell_type": "markdown",
      "metadata": {
        "id": "wJ2pJNVedhkY"
      },
      "source": [
        "Все кроме STTC можно заменить на diagnostic_subclass коды.\n",
        "\n",
        "ISCI ,ISCA можео так же обьеденить"
      ]
    },
    {
      "cell_type": "markdown",
      "metadata": {
        "id": "_01FJlQ-ou-q"
      },
      "source": [
        "Заменяем кодами diagnostic_subclass существующие коды."
      ]
    },
    {
      "cell_type": "markdown",
      "source": [
        "Получили"
      ],
      "metadata": {
        "id": "7mk2ocxkcnNv"
      }
    },
    {
      "cell_type": "code",
      "execution_count": null,
      "metadata": {
        "colab": {
          "base_uri": "https://localhost:8080/"
        },
        "id": "5S2GO4-xFowI",
        "outputId": "373f6db5-260d-41d7-e8ef-34f1ba4d0c2f"
      },
      "outputs": [
        {
          "output_type": "execute_result",
          "data": {
            "text/plain": [
              "{'NORM','SR'}                                          7060\n",
              "{'NDT','SR'}                                            635\n",
              "{'IMI','ABQRS','SR'}                                    496\n",
              "{'NORM','SARRH'}                                        339\n",
              "{'LAFB','SR'}                                           298\n",
              "                                                       ... \n",
              "{'ASMI','IVCD','PVC','SR'}                                1\n",
              "{'NDT','IRBBB','AMI','AFIB'}                              1\n",
              "{'DIG','LVH','ISC_','1AVB','PVC','LOWT','LPR','SR'}       1\n",
              "{'ASMI','IRBBB','LAO/LAE','ABQRS','SARRH'}                1\n",
              "{'NDT','LVH','PVC','VCLVH','STACH'}                       1\n",
              "Name: scp_codes, Length: 4017, dtype: int64"
            ]
          },
          "metadata": {},
          "execution_count": 27
        }
      ],
      "source": [
        "df_cod.value_counts()"
      ]
    },
    {
      "cell_type": "markdown",
      "source": [
        "Обьеденим некоторые коды "
      ],
      "metadata": {
        "id": "OHi0b9fLc9Fi"
      }
    },
    {
      "cell_type": "code",
      "execution_count": null,
      "metadata": {
        "id": "9HaYniZAgDKC",
        "colab": {
          "base_uri": "https://localhost:8080/"
        },
        "outputId": "c602660b-cd4a-4839-9a30-0f8b8bd81146"
      },
      "outputs": [
        {
          "output_type": "stream",
          "name": "stderr",
          "text": [
            "/usr/local/lib/python3.7/dist-packages/ipykernel_launcher.py:10: SettingWithCopyWarning: \n",
            "A value is trying to be set on a copy of a slice from a DataFrame\n",
            "\n",
            "See the caveats in the documentation: https://pandas.pydata.org/pandas-docs/stable/user_guide/indexing.html#returning-a-view-versus-a-copy\n",
            "  # Remove the CWD from sys.path while we load stuff.\n"
          ]
        }
      ],
      "source": [
        "#Unn что заменять\n",
        "#subclass на что заменять\n",
        "def zamena(Unn,subclass,df_codd):\n",
        "  i=0\n",
        "  df_c = df_codd\n",
        "  while i < len(df_c):\n",
        "    for j in Unn : \n",
        "      if j in df_c[i] != False:\n",
        "        df_k = df_c[i]\n",
        "        df_c[i] = df_k.replace(j, subclass)\n",
        "    i=i+1\n",
        "  return df_c\n",
        "# IMI AMI заменяем по категории \n",
        "Unn0 = pd.DataFrame()\n",
        "Unn0 = scp_statements3[scp_statements1[\"Statement Category\"] == 'Myocardial Infarction']        \n",
        "df_c = zamena(list(Unn0[\"Unnamed: 0\"]),'MI',df_cod)\n",
        "Unn0 = pd.DataFrame()\n",
        "Unn0 = scp_statements3[scp_statements1[\"Statement Category\"] == 'ischemic ST-T changes compatible with subendocardial injury']        \n",
        "df_c = zamena(list(Unn0[\"Unnamed: 0\"]),'MI',df_c)\n",
        "Unn0 = scp_statements3[scp_statements1[\"Statement Category\"] == 'ischemic ST-T changes']        \n",
        "df_c = zamena(list(Unn0[\"Unnamed: 0\"]),'MI',df_c)"
      ]
    },
    {
      "cell_type": "code",
      "source": [
        "scp_statements3[\"Statement Category\"].value_counts().to_csv(\"/content/sample_data/scp1.csv\")\n",
        "scp1 = pd.read_csv(\"/content/sample_data/scp1.csv\")\n",
        "# 2,4,5,8,12\n",
        "l=[]\n",
        "for i in scp1[\"Unnamed: 0\"]:\n",
        "  df = pd.DataFrame({\"l\":[]})\n",
        "  df[\"l\"] = list(set(list(scp_statements3[\"diagnostic_subclass\"][scp_statements3[\"Statement Category\"] == i])))\n",
        "  df=df.dropna()\n",
        "  l.append(list(df[\"l\"]))\n",
        "scp1[\"Statement Category\"] = l\n",
        "\n",
        "scp1[\"Name\"] = [[],[\"MI\"],[\"BPG\"],[\"STTC\"],[\"I/N_S\"],[\"ISC\"],[\"MI\"],[],[\"HYP\"],[\"BPG\"],[],[\"NORM\"],[\"AO/AE\"],[\"STTC\"],[]]\n",
        "scp1"
      ],
      "metadata": {
        "colab": {
          "base_uri": "https://localhost:8080/",
          "height": 520
        },
        "id": "1Mrb7pACoUX8",
        "outputId": "2ef600eb-08c2-4c29-e3fb-3e406c812f10"
      },
      "execution_count": null,
      "outputs": [
        {
          "output_type": "execute_result",
          "data": {
            "text/plain": [
              "                                           Unnamed: 0  \\\n",
              "0   Statements related to impulse formation (abnor...   \n",
              "1                               Myocardial Infarction   \n",
              "2   Intraventricular and intra-atrial Conduction d...   \n",
              "3                   other ST-T descriptive statements   \n",
              "4   Basic roots for coding ST-T changes and abnorm...   \n",
              "5                               ischemic ST-T changes   \n",
              "6   ischemic ST-T changes compatible with subendoc...   \n",
              "7   Statements related to ectopic rhythm abnormali...   \n",
              "8                             Ventricular Hypertrophy   \n",
              "9   Sinus node dysfunction, atrial and AV-conducti...   \n",
              "10        Other QRS morphology descriptive statements   \n",
              "11                                    Normal/abnormal   \n",
              "12                                  Atrial statements   \n",
              "13          physiopathological nature of ST-T changes   \n",
              "14             Pacemaker types and pacemaker function   \n",
              "\n",
              "                                   Statement Category     Name  \n",
              "0                                                  []       []  \n",
              "1                                [PMI, AMI, IMI, LMI]     [MI]  \n",
              "2   [CRBBB, WPW, ILBBB, IRBBB, IVCD, LAFB/LPFB, CL...    [BPG]  \n",
              "3                                              [STTC]   [STTC]  \n",
              "4                                        [NST_, ISC_]  [I/N_S]  \n",
              "5                                        [ISCA, ISCI]    [ISC]  \n",
              "6                                          [AMI, IMI]     [MI]  \n",
              "7                                                  []       []  \n",
              "8                                   [SEHYP, RVH, LVH]    [HYP]  \n",
              "9                                              [_AVB]    [BPG]  \n",
              "10                                                 []       []  \n",
              "11                                             [NORM]   [NORM]  \n",
              "12                                 [LAO/LAE, RAO/RAE]  [AO/AE]  \n",
              "13                                             [STTC]   [STTC]  \n",
              "14                                                 []       []  "
            ],
            "text/html": [
              "\n",
              "  <div id=\"df-cca1cf2b-6c62-4810-b23a-cc591226332b\">\n",
              "    <div class=\"colab-df-container\">\n",
              "      <div>\n",
              "<style scoped>\n",
              "    .dataframe tbody tr th:only-of-type {\n",
              "        vertical-align: middle;\n",
              "    }\n",
              "\n",
              "    .dataframe tbody tr th {\n",
              "        vertical-align: top;\n",
              "    }\n",
              "\n",
              "    .dataframe thead th {\n",
              "        text-align: right;\n",
              "    }\n",
              "</style>\n",
              "<table border=\"1\" class=\"dataframe\">\n",
              "  <thead>\n",
              "    <tr style=\"text-align: right;\">\n",
              "      <th></th>\n",
              "      <th>Unnamed: 0</th>\n",
              "      <th>Statement Category</th>\n",
              "      <th>Name</th>\n",
              "    </tr>\n",
              "  </thead>\n",
              "  <tbody>\n",
              "    <tr>\n",
              "      <th>0</th>\n",
              "      <td>Statements related to impulse formation (abnor...</td>\n",
              "      <td>[]</td>\n",
              "      <td>[]</td>\n",
              "    </tr>\n",
              "    <tr>\n",
              "      <th>1</th>\n",
              "      <td>Myocardial Infarction</td>\n",
              "      <td>[PMI, AMI, IMI, LMI]</td>\n",
              "      <td>[MI]</td>\n",
              "    </tr>\n",
              "    <tr>\n",
              "      <th>2</th>\n",
              "      <td>Intraventricular and intra-atrial Conduction d...</td>\n",
              "      <td>[CRBBB, WPW, ILBBB, IRBBB, IVCD, LAFB/LPFB, CL...</td>\n",
              "      <td>[BPG]</td>\n",
              "    </tr>\n",
              "    <tr>\n",
              "      <th>3</th>\n",
              "      <td>other ST-T descriptive statements</td>\n",
              "      <td>[STTC]</td>\n",
              "      <td>[STTC]</td>\n",
              "    </tr>\n",
              "    <tr>\n",
              "      <th>4</th>\n",
              "      <td>Basic roots for coding ST-T changes and abnorm...</td>\n",
              "      <td>[NST_, ISC_]</td>\n",
              "      <td>[I/N_S]</td>\n",
              "    </tr>\n",
              "    <tr>\n",
              "      <th>5</th>\n",
              "      <td>ischemic ST-T changes</td>\n",
              "      <td>[ISCA, ISCI]</td>\n",
              "      <td>[ISC]</td>\n",
              "    </tr>\n",
              "    <tr>\n",
              "      <th>6</th>\n",
              "      <td>ischemic ST-T changes compatible with subendoc...</td>\n",
              "      <td>[AMI, IMI]</td>\n",
              "      <td>[MI]</td>\n",
              "    </tr>\n",
              "    <tr>\n",
              "      <th>7</th>\n",
              "      <td>Statements related to ectopic rhythm abnormali...</td>\n",
              "      <td>[]</td>\n",
              "      <td>[]</td>\n",
              "    </tr>\n",
              "    <tr>\n",
              "      <th>8</th>\n",
              "      <td>Ventricular Hypertrophy</td>\n",
              "      <td>[SEHYP, RVH, LVH]</td>\n",
              "      <td>[HYP]</td>\n",
              "    </tr>\n",
              "    <tr>\n",
              "      <th>9</th>\n",
              "      <td>Sinus node dysfunction, atrial and AV-conducti...</td>\n",
              "      <td>[_AVB]</td>\n",
              "      <td>[BPG]</td>\n",
              "    </tr>\n",
              "    <tr>\n",
              "      <th>10</th>\n",
              "      <td>Other QRS morphology descriptive statements</td>\n",
              "      <td>[]</td>\n",
              "      <td>[]</td>\n",
              "    </tr>\n",
              "    <tr>\n",
              "      <th>11</th>\n",
              "      <td>Normal/abnormal</td>\n",
              "      <td>[NORM]</td>\n",
              "      <td>[NORM]</td>\n",
              "    </tr>\n",
              "    <tr>\n",
              "      <th>12</th>\n",
              "      <td>Atrial statements</td>\n",
              "      <td>[LAO/LAE, RAO/RAE]</td>\n",
              "      <td>[AO/AE]</td>\n",
              "    </tr>\n",
              "    <tr>\n",
              "      <th>13</th>\n",
              "      <td>physiopathological nature of ST-T changes</td>\n",
              "      <td>[STTC]</td>\n",
              "      <td>[STTC]</td>\n",
              "    </tr>\n",
              "    <tr>\n",
              "      <th>14</th>\n",
              "      <td>Pacemaker types and pacemaker function</td>\n",
              "      <td>[]</td>\n",
              "      <td>[]</td>\n",
              "    </tr>\n",
              "  </tbody>\n",
              "</table>\n",
              "</div>\n",
              "      <button class=\"colab-df-convert\" onclick=\"convertToInteractive('df-cca1cf2b-6c62-4810-b23a-cc591226332b')\"\n",
              "              title=\"Convert this dataframe to an interactive table.\"\n",
              "              style=\"display:none;\">\n",
              "        \n",
              "  <svg xmlns=\"http://www.w3.org/2000/svg\" height=\"24px\"viewBox=\"0 0 24 24\"\n",
              "       width=\"24px\">\n",
              "    <path d=\"M0 0h24v24H0V0z\" fill=\"none\"/>\n",
              "    <path d=\"M18.56 5.44l.94 2.06.94-2.06 2.06-.94-2.06-.94-.94-2.06-.94 2.06-2.06.94zm-11 1L8.5 8.5l.94-2.06 2.06-.94-2.06-.94L8.5 2.5l-.94 2.06-2.06.94zm10 10l.94 2.06.94-2.06 2.06-.94-2.06-.94-.94-2.06-.94 2.06-2.06.94z\"/><path d=\"M17.41 7.96l-1.37-1.37c-.4-.4-.92-.59-1.43-.59-.52 0-1.04.2-1.43.59L10.3 9.45l-7.72 7.72c-.78.78-.78 2.05 0 2.83L4 21.41c.39.39.9.59 1.41.59.51 0 1.02-.2 1.41-.59l7.78-7.78 2.81-2.81c.8-.78.8-2.07 0-2.86zM5.41 20L4 18.59l7.72-7.72 1.47 1.35L5.41 20z\"/>\n",
              "  </svg>\n",
              "      </button>\n",
              "      \n",
              "  <style>\n",
              "    .colab-df-container {\n",
              "      display:flex;\n",
              "      flex-wrap:wrap;\n",
              "      gap: 12px;\n",
              "    }\n",
              "\n",
              "    .colab-df-convert {\n",
              "      background-color: #E8F0FE;\n",
              "      border: none;\n",
              "      border-radius: 50%;\n",
              "      cursor: pointer;\n",
              "      display: none;\n",
              "      fill: #1967D2;\n",
              "      height: 32px;\n",
              "      padding: 0 0 0 0;\n",
              "      width: 32px;\n",
              "    }\n",
              "\n",
              "    .colab-df-convert:hover {\n",
              "      background-color: #E2EBFA;\n",
              "      box-shadow: 0px 1px 2px rgba(60, 64, 67, 0.3), 0px 1px 3px 1px rgba(60, 64, 67, 0.15);\n",
              "      fill: #174EA6;\n",
              "    }\n",
              "\n",
              "    [theme=dark] .colab-df-convert {\n",
              "      background-color: #3B4455;\n",
              "      fill: #D2E3FC;\n",
              "    }\n",
              "\n",
              "    [theme=dark] .colab-df-convert:hover {\n",
              "      background-color: #434B5C;\n",
              "      box-shadow: 0px 1px 3px 1px rgba(0, 0, 0, 0.15);\n",
              "      filter: drop-shadow(0px 1px 2px rgba(0, 0, 0, 0.3));\n",
              "      fill: #FFFFFF;\n",
              "    }\n",
              "  </style>\n",
              "\n",
              "      <script>\n",
              "        const buttonEl =\n",
              "          document.querySelector('#df-cca1cf2b-6c62-4810-b23a-cc591226332b button.colab-df-convert');\n",
              "        buttonEl.style.display =\n",
              "          google.colab.kernel.accessAllowed ? 'block' : 'none';\n",
              "\n",
              "        async function convertToInteractive(key) {\n",
              "          const element = document.querySelector('#df-cca1cf2b-6c62-4810-b23a-cc591226332b');\n",
              "          const dataTable =\n",
              "            await google.colab.kernel.invokeFunction('convertToInteractive',\n",
              "                                                     [key], {});\n",
              "          if (!dataTable) return;\n",
              "\n",
              "          const docLinkHtml = 'Like what you see? Visit the ' +\n",
              "            '<a target=\"_blank\" href=https://colab.research.google.com/notebooks/data_table.ipynb>data table notebook</a>'\n",
              "            + ' to learn more about interactive tables.';\n",
              "          element.innerHTML = '';\n",
              "          dataTable['output_type'] = 'display_data';\n",
              "          await google.colab.output.renderOutput(dataTable, element);\n",
              "          const docLink = document.createElement('div');\n",
              "          docLink.innerHTML = docLinkHtml;\n",
              "          element.appendChild(docLink);\n",
              "        }\n",
              "      </script>\n",
              "    </div>\n",
              "  </div>\n",
              "  "
            ]
          },
          "metadata": {},
          "execution_count": 29
        }
      ]
    },
    {
      "cell_type": "code",
      "source": [
        "l=[2,4,5,8,9,12]\n",
        "for i in l:\n",
        "  Unn0 = pd.DataFrame()\n",
        "  Unn0 = scp_statements3[scp_statements1[\"Statement Category\"] == scp1[\"Unnamed: 0\"][i]]       \n",
        "  df_c = zamena(list(Unn0[\"Unnamed: 0\"]),scp1[\"Name\"][i][0],df_c)"
      ],
      "metadata": {
        "id": "QyrfcF2IoVui"
      },
      "execution_count": null,
      "outputs": []
    },
    {
      "cell_type": "code",
      "source": [
        "scp_statements3[\"diagnostic_subclass\"].value_counts().to_csv(\"/content/sample_data/scp.csv\")\n",
        "scp_statements4 = pd.read_csv(\"/content/sample_data/scp.csv\")\n",
        "list(scp_statements4[\"Unnamed: 0\"])"
      ],
      "metadata": {
        "id": "cdO4OWlyIoX7",
        "colab": {
          "base_uri": "https://localhost:8080/"
        },
        "outputId": "0bb66757-adbf-438f-d398-1f094bc54d3a"
      },
      "execution_count": null,
      "outputs": [
        {
          "output_type": "execute_result",
          "data": {
            "text/plain": [
              "['IMI',\n",
              " 'AMI',\n",
              " 'STTC',\n",
              " 'ISCA',\n",
              " '_AVB',\n",
              " 'ISCI',\n",
              " 'LAFB/LPFB',\n",
              " 'NORM',\n",
              " 'SEHYP',\n",
              " 'ILBBB',\n",
              " 'WPW',\n",
              " 'RAO/RAE',\n",
              " 'RVH',\n",
              " 'LMI',\n",
              " 'CLBBB',\n",
              " 'LAO/LAE',\n",
              " 'LVH',\n",
              " 'CRBBB',\n",
              " 'NST_',\n",
              " 'IVCD',\n",
              " 'IRBBB',\n",
              " 'ISC_',\n",
              " 'PMI']"
            ]
          },
          "metadata": {},
          "execution_count": 33
        }
      ]
    },
    {
      "cell_type": "markdown",
      "metadata": {
        "id": "Ta2gokaFqpg-"
      },
      "source": [
        "IMI / AMI уже обработанны .\n",
        "\n",
        "STTC - другие описательные утверждения ST-T в которые входят неспецефические измемения QST характерные для разных видов заболеваний. \n",
        "\n",
        "ISCA/ISCI  - ischemic ST-T changes\t, передние-боковые/нижние\n",
        "\n",
        "_AVB - блокада I,II,III степени \n",
        "LAFB/LPFB - левая задняя блокада"
      ]
    },
    {
      "cell_type": "code",
      "execution_count": null,
      "metadata": {
        "id": "n_Wqnz2Lstre",
        "colab": {
          "base_uri": "https://localhost:8080/"
        },
        "outputId": "71111cc9-379c-450f-b0c0-6cd0d5973c9b"
      },
      "outputs": [
        {
          "output_type": "stream",
          "name": "stderr",
          "text": [
            "/usr/local/lib/python3.7/dist-packages/ipykernel_launcher.py:10: SettingWithCopyWarning: \n",
            "A value is trying to be set on a copy of a slice from a DataFrame\n",
            "\n",
            "See the caveats in the documentation: https://pandas.pydata.org/pandas-docs/stable/user_guide/indexing.html#returning-a-view-versus-a-copy\n",
            "  # Remove the CWD from sys.path while we load stuff.\n"
          ]
        }
      ],
      "source": [
        "i=2\n",
        "while i<len(scp_statements4[\"Unnamed: 0\"]):\n",
        "  Unn0 = pd.DataFrame()\n",
        "  Unn0 = scp_statements3[scp_statements1[\"diagnostic_subclass\"] == scp_statements4[\"Unnamed: 0\"][i]]        \n",
        "  df_c = zamena(list(Unn0[\"Unnamed: 0\"]),list(Unn0[\"diagnostic_subclass\"][0:1])[0],df_c)\n",
        "  i=i+1"
      ]
    },
    {
      "cell_type": "markdown",
      "source": [
        "Получили 2380 кодов . Все еще слишком много."
      ],
      "metadata": {
        "id": "mbHnsFPadRHh"
      }
    },
    {
      "cell_type": "code",
      "source": [
        "df_c.value_counts()"
      ],
      "metadata": {
        "colab": {
          "base_uri": "https://localhost:8080/"
        },
        "id": "aAV93fxaz-EP",
        "outputId": "a840925d-d126-4fd5-a924-c0c31b95f935"
      },
      "execution_count": null,
      "outputs": [
        {
          "output_type": "execute_result",
          "data": {
            "text/plain": [
              "{'NORM','SR'}                                     7060\n",
              "{'BPG','SR'}                                       874\n",
              "{'MI','ABQRS','SR'}                                727\n",
              "{'STTC','SR'}                                      679\n",
              "{'MI','SR'}                                        432\n",
              "                                                  ... \n",
              "{'MI','BPG','MI','MI','ABQRS','PVC','SARRH'}         1\n",
              "{'STTC','BPG','PVC','SARRH'}                         1\n",
              "{'MI','HYP','I/N_S','BPG','MI','ABQRS','AFIB'}       1\n",
              "{'BPG','BPG','MI','MI','SR'}                         1\n",
              "{'STTC','HYP','PVC','VCHYP','STACH'}                 1\n",
              "Name: scp_codes, Length: 2380, dtype: int64"
            ]
          },
          "metadata": {},
          "execution_count": 35
        }
      ]
    },
    {
      "cell_type": "code",
      "source": [
        "df_c.to_csv(\"/content/gdrive/MyDrive/data/\"+\"df_c\"+\".csv\")"
      ],
      "metadata": {
        "id": "M-VyX-jJMzsU"
      },
      "execution_count": null,
      "outputs": []
    },
    {
      "cell_type": "code",
      "source": [
        "#scp_statements5 = list(scp_statements4[\"Unnamed: 0\"])\n",
        "#for i in scp_statements[44:]:\n",
        "#  scp_statements5.append(i)\n",
        "l=[2,4,5,8,12]\n",
        "scp_statements5 = list(scp_statements4[\"Unnamed: 0\"])\n",
        "for i in l:\n",
        "  scp_statements5.append(scp1[\"Name\"][i][0])\n",
        "scp_statements5.append('MI')\n",
        "scp_statements5.remove('_AVB')\n",
        "scp_statements5.remove('AO/AE')\n",
        "scp_statements5.remove('ISC')"
      ],
      "metadata": {
        "id": "-BLfketOM8tL"
      },
      "execution_count": null,
      "outputs": []
    },
    {
      "cell_type": "code",
      "source": [
        "l=[2,4,5,8,12]\n",
        "print(len(scp_statements5))\n",
        "for i in scp_statements4[\"Unnamed: 0\"][scp_statements1[\"Statement Category\"] == scp1[\"Unnamed: 0\"][12]] :\n",
        "  scp_statements5.remove(str(i))\n",
        "print(len(scp_statements5))"
      ],
      "metadata": {
        "colab": {
          "base_uri": "https://localhost:8080/"
        },
        "id": "VrOdEYp3s3Q7",
        "outputId": "5fd1832a-11ba-4d9b-e368-258fe33236bf"
      },
      "execution_count": null,
      "outputs": [
        {
          "output_type": "stream",
          "name": "stdout",
          "text": [
            "26\n",
            "25\n"
          ]
        }
      ]
    },
    {
      "cell_type": "markdown",
      "source": [
        "Удалим повтор кодов"
      ],
      "metadata": {
        "id": "P3100DXgdxY2"
      }
    },
    {
      "cell_type": "code",
      "execution_count": null,
      "metadata": {
        "colab": {
          "base_uri": "https://localhost:8080/"
        },
        "id": "ZGcItL6dyYvO",
        "outputId": "fc5d064e-09bf-40fc-a89a-42edc82089b6"
      },
      "outputs": [
        {
          "output_type": "stream",
          "name": "stdout",
          "text": [
            "21714\n",
            "21714\n"
          ]
        }
      ],
      "source": [
        "df_c1 = pd.read_csv(\"/content/gdrive/MyDrive/data/\"+\"df_c\"+\".csv\")[\"scp_codes\"]\n",
        "from pandas.io.parsers.readers import read_csv\n",
        "def del_symbol_q(scp_codes):\n",
        "  str_scp_codes = \"{\"\n",
        "  for i in scp_statements5 : \n",
        "    if i in scp_codes  != False:str_scp_codes =  str_scp_codes + \"'\" + str(i)+ \"'\" + \",\"\n",
        "\n",
        "  str_scp_codes = str_scp_codes[:len(str_scp_codes)-1]+  \"}\"\n",
        "  return str_scp_codes\n",
        "\n",
        "i=0\n",
        "print(len(df_c1))\n",
        "while i < len(df_c1):\n",
        "  if len(del_symbol_q(df_c1[i]))>1:\n",
        "    df_c1[i] = del_symbol_q(df_c1[i])\n",
        "  else:df_c1[i] = None\n",
        "  i=i+1\n",
        "print(len(df_c1))"
      ]
    },
    {
      "cell_type": "markdown",
      "source": [
        "Всего диагнозов получилось"
      ],
      "metadata": {
        "id": "dA4hhPXdJ7ij"
      }
    },
    {
      "cell_type": "code",
      "source": [
        "len(df_c1.value_counts())"
      ],
      "metadata": {
        "colab": {
          "base_uri": "https://localhost:8080/"
        },
        "id": "qPHTPovsd6U3",
        "outputId": "4c0bcd80-70cf-4de1-8228-9f56e071227b"
      },
      "execution_count": null,
      "outputs": [
        {
          "output_type": "execute_result",
          "data": {
            "text/plain": [
              "40"
            ]
          },
          "metadata": {},
          "execution_count": 45
        }
      ]
    },
    {
      "cell_type": "markdown",
      "source": [
        "Наглядно видно что имеет смысл брать первые 15 диагнозов "
      ],
      "metadata": {
        "id": "QzszocqaeD-j"
      }
    },
    {
      "cell_type": "code",
      "source": [
        "df_c1.value_counts()[:20]"
      ],
      "metadata": {
        "colab": {
          "base_uri": "https://localhost:8080/"
        },
        "id": "wg0Fo7zbkMoy",
        "outputId": "6fd50674-c8a3-48f5-c091-1e4f1e656fd7"
      },
      "execution_count": null,
      "outputs": [
        {
          "output_type": "execute_result",
          "data": {
            "text/plain": [
              "{'NORM'}                      8811\n",
              "{'MI'}                        3141\n",
              "{'BPG'}                       1741\n",
              "{'BPG','MI'}                  1547\n",
              "{'STTC'}                      1119\n",
              "{'I/N_S','HYP'}                620\n",
              "{'I/N_S'}                      483\n",
              "{'HYP'}                        444\n",
              "{'NORM','BPG'}                 386\n",
              "{'STTC','I/N_S'}               362\n",
              "{'I/N_S','HYP','MI'}           348\n",
              "{'I/N_S','MI'}                 250\n",
              "{'STTC','BPG'}                 203\n",
              "{'BPG','HYP'}                  200\n",
              "{'NORM','I/N_S'}               181\n",
              "{'HYP','MI'}                   175\n",
              "{'STTC','MI'}                  169\n",
              "{'BPG','I/N_S','HYP'}          157\n",
              "{'BPG','I/N_S','HYP','MI'}     151\n",
              "{'BPG','I/N_S','MI'}           119\n",
              "Name: scp_codes, dtype: int64"
            ]
          },
          "metadata": {},
          "execution_count": 43
        }
      ]
    },
    {
      "cell_type": "markdown",
      "source": [
        "Всего получилось 5 кодов из которых составляются диагнозы"
      ],
      "metadata": {
        "id": "qzQs4waoeSd5"
      }
    },
    {
      "cell_type": "code",
      "source": [
        "d=[]\n",
        "d1=[]\n",
        "df_c2 = pd.DataFrame(df_c1)\n",
        "for i in scp_statements5:\n",
        "  if len(df_c2[df_c2[\"scp_codes\"] == \"{\"+\"'\"+str(i)+\"'\"+\"}\"]) > 0 :\n",
        "    print(i,len(df_c2[df_c2[\"scp_codes\"] == \"{\"+\"'\"+str(i)+\"'\"+\"}\"]))\n",
        "    d.append(i)\n",
        "d2 = [\"other ST-T descriptive statements\",\"normal ECG\",\"Blockades\",\"ST-T changes and abnormalities\",\"Hypertrophy\",\"Myocardial Infarction/ischemic\"]"
      ],
      "metadata": {
        "colab": {
          "base_uri": "https://localhost:8080/"
        },
        "id": "-G7-h4Iz1MPd",
        "outputId": "a5e6bcb8-d099-488e-b494-61087867d81f"
      },
      "execution_count": null,
      "outputs": [
        {
          "output_type": "stream",
          "name": "stdout",
          "text": [
            "STTC 1119\n",
            "NORM 8811\n",
            "BPG 1741\n",
            "I/N_S 483\n",
            "HYP 444\n",
            "MI 3141\n"
          ]
        }
      ]
    },
    {
      "cell_type": "markdown",
      "source": [
        "Расшифровка"
      ],
      "metadata": {
        "id": "GomDftU9ejd2"
      }
    },
    {
      "cell_type": "code",
      "source": [
        "dd = pd.DataFrame()\n",
        "dd[\"scp_codes\"] = d\n",
        "dd[\"scp_Name\"] = d2\n",
        "dd"
      ],
      "metadata": {
        "colab": {
          "base_uri": "https://localhost:8080/",
          "height": 237
        },
        "id": "jXxfA2ZsJucR",
        "outputId": "d638bfb3-8fc8-4bb4-e211-fb1b5ebca2a9"
      },
      "execution_count": null,
      "outputs": [
        {
          "output_type": "execute_result",
          "data": {
            "text/plain": [
              "  scp_codes                           scp_Name\n",
              "0      STTC  other ST-T descriptive statements\n",
              "1      NORM                         normal ECG\n",
              "2       BPG                          Blockades\n",
              "3     I/N_S     ST-T changes and abnormalities\n",
              "4       HYP                        Hypertrophy\n",
              "5        MI     Myocardial Infarction/ischemic"
            ],
            "text/html": [
              "\n",
              "  <div id=\"df-65b760ce-3ec5-4049-b03c-255cbf4ff6f4\">\n",
              "    <div class=\"colab-df-container\">\n",
              "      <div>\n",
              "<style scoped>\n",
              "    .dataframe tbody tr th:only-of-type {\n",
              "        vertical-align: middle;\n",
              "    }\n",
              "\n",
              "    .dataframe tbody tr th {\n",
              "        vertical-align: top;\n",
              "    }\n",
              "\n",
              "    .dataframe thead th {\n",
              "        text-align: right;\n",
              "    }\n",
              "</style>\n",
              "<table border=\"1\" class=\"dataframe\">\n",
              "  <thead>\n",
              "    <tr style=\"text-align: right;\">\n",
              "      <th></th>\n",
              "      <th>scp_codes</th>\n",
              "      <th>scp_Name</th>\n",
              "    </tr>\n",
              "  </thead>\n",
              "  <tbody>\n",
              "    <tr>\n",
              "      <th>0</th>\n",
              "      <td>STTC</td>\n",
              "      <td>other ST-T descriptive statements</td>\n",
              "    </tr>\n",
              "    <tr>\n",
              "      <th>1</th>\n",
              "      <td>NORM</td>\n",
              "      <td>normal ECG</td>\n",
              "    </tr>\n",
              "    <tr>\n",
              "      <th>2</th>\n",
              "      <td>BPG</td>\n",
              "      <td>Blockades</td>\n",
              "    </tr>\n",
              "    <tr>\n",
              "      <th>3</th>\n",
              "      <td>I/N_S</td>\n",
              "      <td>ST-T changes and abnormalities</td>\n",
              "    </tr>\n",
              "    <tr>\n",
              "      <th>4</th>\n",
              "      <td>HYP</td>\n",
              "      <td>Hypertrophy</td>\n",
              "    </tr>\n",
              "    <tr>\n",
              "      <th>5</th>\n",
              "      <td>MI</td>\n",
              "      <td>Myocardial Infarction/ischemic</td>\n",
              "    </tr>\n",
              "  </tbody>\n",
              "</table>\n",
              "</div>\n",
              "      <button class=\"colab-df-convert\" onclick=\"convertToInteractive('df-65b760ce-3ec5-4049-b03c-255cbf4ff6f4')\"\n",
              "              title=\"Convert this dataframe to an interactive table.\"\n",
              "              style=\"display:none;\">\n",
              "        \n",
              "  <svg xmlns=\"http://www.w3.org/2000/svg\" height=\"24px\"viewBox=\"0 0 24 24\"\n",
              "       width=\"24px\">\n",
              "    <path d=\"M0 0h24v24H0V0z\" fill=\"none\"/>\n",
              "    <path d=\"M18.56 5.44l.94 2.06.94-2.06 2.06-.94-2.06-.94-.94-2.06-.94 2.06-2.06.94zm-11 1L8.5 8.5l.94-2.06 2.06-.94-2.06-.94L8.5 2.5l-.94 2.06-2.06.94zm10 10l.94 2.06.94-2.06 2.06-.94-2.06-.94-.94-2.06-.94 2.06-2.06.94z\"/><path d=\"M17.41 7.96l-1.37-1.37c-.4-.4-.92-.59-1.43-.59-.52 0-1.04.2-1.43.59L10.3 9.45l-7.72 7.72c-.78.78-.78 2.05 0 2.83L4 21.41c.39.39.9.59 1.41.59.51 0 1.02-.2 1.41-.59l7.78-7.78 2.81-2.81c.8-.78.8-2.07 0-2.86zM5.41 20L4 18.59l7.72-7.72 1.47 1.35L5.41 20z\"/>\n",
              "  </svg>\n",
              "      </button>\n",
              "      \n",
              "  <style>\n",
              "    .colab-df-container {\n",
              "      display:flex;\n",
              "      flex-wrap:wrap;\n",
              "      gap: 12px;\n",
              "    }\n",
              "\n",
              "    .colab-df-convert {\n",
              "      background-color: #E8F0FE;\n",
              "      border: none;\n",
              "      border-radius: 50%;\n",
              "      cursor: pointer;\n",
              "      display: none;\n",
              "      fill: #1967D2;\n",
              "      height: 32px;\n",
              "      padding: 0 0 0 0;\n",
              "      width: 32px;\n",
              "    }\n",
              "\n",
              "    .colab-df-convert:hover {\n",
              "      background-color: #E2EBFA;\n",
              "      box-shadow: 0px 1px 2px rgba(60, 64, 67, 0.3), 0px 1px 3px 1px rgba(60, 64, 67, 0.15);\n",
              "      fill: #174EA6;\n",
              "    }\n",
              "\n",
              "    [theme=dark] .colab-df-convert {\n",
              "      background-color: #3B4455;\n",
              "      fill: #D2E3FC;\n",
              "    }\n",
              "\n",
              "    [theme=dark] .colab-df-convert:hover {\n",
              "      background-color: #434B5C;\n",
              "      box-shadow: 0px 1px 3px 1px rgba(0, 0, 0, 0.15);\n",
              "      filter: drop-shadow(0px 1px 2px rgba(0, 0, 0, 0.3));\n",
              "      fill: #FFFFFF;\n",
              "    }\n",
              "  </style>\n",
              "\n",
              "      <script>\n",
              "        const buttonEl =\n",
              "          document.querySelector('#df-65b760ce-3ec5-4049-b03c-255cbf4ff6f4 button.colab-df-convert');\n",
              "        buttonEl.style.display =\n",
              "          google.colab.kernel.accessAllowed ? 'block' : 'none';\n",
              "\n",
              "        async function convertToInteractive(key) {\n",
              "          const element = document.querySelector('#df-65b760ce-3ec5-4049-b03c-255cbf4ff6f4');\n",
              "          const dataTable =\n",
              "            await google.colab.kernel.invokeFunction('convertToInteractive',\n",
              "                                                     [key], {});\n",
              "          if (!dataTable) return;\n",
              "\n",
              "          const docLinkHtml = 'Like what you see? Visit the ' +\n",
              "            '<a target=\"_blank\" href=https://colab.research.google.com/notebooks/data_table.ipynb>data table notebook</a>'\n",
              "            + ' to learn more about interactive tables.';\n",
              "          element.innerHTML = '';\n",
              "          dataTable['output_type'] = 'display_data';\n",
              "          await google.colab.output.renderOutput(dataTable, element);\n",
              "          const docLink = document.createElement('div');\n",
              "          docLink.innerHTML = docLinkHtml;\n",
              "          element.appendChild(docLink);\n",
              "        }\n",
              "      </script>\n",
              "    </div>\n",
              "  </div>\n",
              "  "
            ]
          },
          "metadata": {},
          "execution_count": 49
        }
      ]
    },
    {
      "cell_type": "code",
      "source": [
        "df_c1.to_csv(\"/content/gdrive/MyDrive/data/\"+\"df_c1\"+\".csv\")"
      ],
      "metadata": {
        "id": "cRiRds0B7Zw-"
      },
      "execution_count": null,
      "outputs": []
    },
    {
      "cell_type": "markdown",
      "metadata": {
        "id": "vlcIiNM_AqtZ"
      },
      "source": [
        "## Выберем первые 15 признаков и обозначим их цифрами для последующего обучения"
      ]
    },
    {
      "cell_type": "code",
      "source": [
        "df_c1 = pd.read_csv(\"/content/gdrive/MyDrive/data/\"+\"df_c1\"+\".csv\")"
      ],
      "metadata": {
        "id": "6Fi9nRt4ltpj"
      },
      "execution_count": null,
      "outputs": []
    },
    {
      "cell_type": "code",
      "execution_count": null,
      "metadata": {
        "id": "rhdPBi_NOKY3"
      },
      "outputs": [],
      "source": [
        "xl_df = pd.read_csv('/content/gdrive/MyDrive/ЭКГ/data/ptb-xl-a-large-publicly-available-electrocardiography-dataset-1.0.1/ptbxl_database.csv', index_col='ecg_id')\n",
        "dp = pd.read_csv(\"/content/gdrive/MyDrive/data/\"+\"dp\"+\".csv\",index_col=\"Unnamed: 0\")\n",
        "PQRS_peak = pd.read_csv(\"/content/gdrive/MyDrive/data/PQRS_peak.csv\",index_col=\"Unnamed: 0\")\n",
        "dp[['P_min', 'P_max', 'Q', 'S', 'T_min', 'T_max', 'max_signal',\n",
        "       'min_PQ_inter', 'max_PQ_inter', 'min_ST_inter', 'max_ST_inter',\n",
        "       'min_signal', 'maxmin']] = PQRS_peak[['P_min', 'P_max', 'Q', 'S', 'T_min', 'T_max', 'max_signal',\n",
        "       'min_PQ_inter', 'max_PQ_inter', 'min_ST_inter', 'max_ST_inter',\n",
        "       'min_signal', 'maxmin']]\n",
        "dp[['age', 'sex','scp_codes',]]=xl_df[['age', 'sex','scp_codes']]\n",
        "dp.drop_duplicates(inplace=True)#Удаляем дубляж\n",
        "dp.reset_index(inplace=True, drop=True)\n",
        "dp.shape\n",
        "dp['scp_codes'].value_counts()[100:]#Дисбаланс-баланс\n",
        "dp['scp_codes']=df_c1['scp_codes']\n",
        "dp= dp.dropna()\n",
        "dp.to_csv(\"/content/sample_data/\"+\"dp\"+\".csv\")\n",
        "dp = pd.read_csv(\"/content/sample_data/\"+\"dp\"+\".csv\")"
      ]
    },
    {
      "cell_type": "markdown",
      "source": [
        "Выделим первые 15 диагнозов"
      ],
      "metadata": {
        "id": "6YkEBkocfKPg"
      }
    },
    {
      "cell_type": "code",
      "execution_count": null,
      "metadata": {
        "id": "SCtWDqFViwDh",
        "colab": {
          "base_uri": "https://localhost:8080/",
          "height": 606
        },
        "outputId": "f6ee371c-cdb2-4ab3-8e51-e518b1eb320e"
      },
      "outputs": [
        {
          "output_type": "stream",
          "name": "stderr",
          "text": [
            "/usr/local/lib/python3.7/dist-packages/ipykernel_launcher.py:5: SettingWithCopyWarning: \n",
            "A value is trying to be set on a copy of a slice from a DataFrame\n",
            "\n",
            "See the caveats in the documentation: https://pandas.pydata.org/pandas-docs/stable/user_guide/indexing.html#returning-a-view-versus-a-copy\n",
            "  \"\"\"\n"
          ]
        },
        {
          "output_type": "execute_result",
          "data": {
            "text/plain": [
              "              Unnamed: 0  scp_codes\n",
              "0               {'NORM'}          0\n",
              "1                 {'MI'}          1\n",
              "2                {'BPG'}          2\n",
              "3           {'BPG','MI'}          3\n",
              "4               {'STTC'}          4\n",
              "5        {'I/N_S','HYP'}          5\n",
              "6              {'I/N_S'}          6\n",
              "7                {'HYP'}          7\n",
              "8         {'NORM','BPG'}          8\n",
              "9       {'STTC','I/N_S'}          9\n",
              "10  {'I/N_S','HYP','MI'}         10\n",
              "11        {'I/N_S','MI'}         11\n",
              "12        {'STTC','BPG'}         12\n",
              "13         {'BPG','HYP'}         13\n",
              "14      {'NORM','I/N_S'}         14"
            ],
            "text/html": [
              "\n",
              "  <div id=\"df-d172fe23-efff-45b3-9294-4de3a865653c\">\n",
              "    <div class=\"colab-df-container\">\n",
              "      <div>\n",
              "<style scoped>\n",
              "    .dataframe tbody tr th:only-of-type {\n",
              "        vertical-align: middle;\n",
              "    }\n",
              "\n",
              "    .dataframe tbody tr th {\n",
              "        vertical-align: top;\n",
              "    }\n",
              "\n",
              "    .dataframe thead th {\n",
              "        text-align: right;\n",
              "    }\n",
              "</style>\n",
              "<table border=\"1\" class=\"dataframe\">\n",
              "  <thead>\n",
              "    <tr style=\"text-align: right;\">\n",
              "      <th></th>\n",
              "      <th>Unnamed: 0</th>\n",
              "      <th>scp_codes</th>\n",
              "    </tr>\n",
              "  </thead>\n",
              "  <tbody>\n",
              "    <tr>\n",
              "      <th>0</th>\n",
              "      <td>{'NORM'}</td>\n",
              "      <td>0</td>\n",
              "    </tr>\n",
              "    <tr>\n",
              "      <th>1</th>\n",
              "      <td>{'MI'}</td>\n",
              "      <td>1</td>\n",
              "    </tr>\n",
              "    <tr>\n",
              "      <th>2</th>\n",
              "      <td>{'BPG'}</td>\n",
              "      <td>2</td>\n",
              "    </tr>\n",
              "    <tr>\n",
              "      <th>3</th>\n",
              "      <td>{'BPG','MI'}</td>\n",
              "      <td>3</td>\n",
              "    </tr>\n",
              "    <tr>\n",
              "      <th>4</th>\n",
              "      <td>{'STTC'}</td>\n",
              "      <td>4</td>\n",
              "    </tr>\n",
              "    <tr>\n",
              "      <th>5</th>\n",
              "      <td>{'I/N_S','HYP'}</td>\n",
              "      <td>5</td>\n",
              "    </tr>\n",
              "    <tr>\n",
              "      <th>6</th>\n",
              "      <td>{'I/N_S'}</td>\n",
              "      <td>6</td>\n",
              "    </tr>\n",
              "    <tr>\n",
              "      <th>7</th>\n",
              "      <td>{'HYP'}</td>\n",
              "      <td>7</td>\n",
              "    </tr>\n",
              "    <tr>\n",
              "      <th>8</th>\n",
              "      <td>{'NORM','BPG'}</td>\n",
              "      <td>8</td>\n",
              "    </tr>\n",
              "    <tr>\n",
              "      <th>9</th>\n",
              "      <td>{'STTC','I/N_S'}</td>\n",
              "      <td>9</td>\n",
              "    </tr>\n",
              "    <tr>\n",
              "      <th>10</th>\n",
              "      <td>{'I/N_S','HYP','MI'}</td>\n",
              "      <td>10</td>\n",
              "    </tr>\n",
              "    <tr>\n",
              "      <th>11</th>\n",
              "      <td>{'I/N_S','MI'}</td>\n",
              "      <td>11</td>\n",
              "    </tr>\n",
              "    <tr>\n",
              "      <th>12</th>\n",
              "      <td>{'STTC','BPG'}</td>\n",
              "      <td>12</td>\n",
              "    </tr>\n",
              "    <tr>\n",
              "      <th>13</th>\n",
              "      <td>{'BPG','HYP'}</td>\n",
              "      <td>13</td>\n",
              "    </tr>\n",
              "    <tr>\n",
              "      <th>14</th>\n",
              "      <td>{'NORM','I/N_S'}</td>\n",
              "      <td>14</td>\n",
              "    </tr>\n",
              "  </tbody>\n",
              "</table>\n",
              "</div>\n",
              "      <button class=\"colab-df-convert\" onclick=\"convertToInteractive('df-d172fe23-efff-45b3-9294-4de3a865653c')\"\n",
              "              title=\"Convert this dataframe to an interactive table.\"\n",
              "              style=\"display:none;\">\n",
              "        \n",
              "  <svg xmlns=\"http://www.w3.org/2000/svg\" height=\"24px\"viewBox=\"0 0 24 24\"\n",
              "       width=\"24px\">\n",
              "    <path d=\"M0 0h24v24H0V0z\" fill=\"none\"/>\n",
              "    <path d=\"M18.56 5.44l.94 2.06.94-2.06 2.06-.94-2.06-.94-.94-2.06-.94 2.06-2.06.94zm-11 1L8.5 8.5l.94-2.06 2.06-.94-2.06-.94L8.5 2.5l-.94 2.06-2.06.94zm10 10l.94 2.06.94-2.06 2.06-.94-2.06-.94-.94-2.06-.94 2.06-2.06.94z\"/><path d=\"M17.41 7.96l-1.37-1.37c-.4-.4-.92-.59-1.43-.59-.52 0-1.04.2-1.43.59L10.3 9.45l-7.72 7.72c-.78.78-.78 2.05 0 2.83L4 21.41c.39.39.9.59 1.41.59.51 0 1.02-.2 1.41-.59l7.78-7.78 2.81-2.81c.8-.78.8-2.07 0-2.86zM5.41 20L4 18.59l7.72-7.72 1.47 1.35L5.41 20z\"/>\n",
              "  </svg>\n",
              "      </button>\n",
              "      \n",
              "  <style>\n",
              "    .colab-df-container {\n",
              "      display:flex;\n",
              "      flex-wrap:wrap;\n",
              "      gap: 12px;\n",
              "    }\n",
              "\n",
              "    .colab-df-convert {\n",
              "      background-color: #E8F0FE;\n",
              "      border: none;\n",
              "      border-radius: 50%;\n",
              "      cursor: pointer;\n",
              "      display: none;\n",
              "      fill: #1967D2;\n",
              "      height: 32px;\n",
              "      padding: 0 0 0 0;\n",
              "      width: 32px;\n",
              "    }\n",
              "\n",
              "    .colab-df-convert:hover {\n",
              "      background-color: #E2EBFA;\n",
              "      box-shadow: 0px 1px 2px rgba(60, 64, 67, 0.3), 0px 1px 3px 1px rgba(60, 64, 67, 0.15);\n",
              "      fill: #174EA6;\n",
              "    }\n",
              "\n",
              "    [theme=dark] .colab-df-convert {\n",
              "      background-color: #3B4455;\n",
              "      fill: #D2E3FC;\n",
              "    }\n",
              "\n",
              "    [theme=dark] .colab-df-convert:hover {\n",
              "      background-color: #434B5C;\n",
              "      box-shadow: 0px 1px 3px 1px rgba(0, 0, 0, 0.15);\n",
              "      filter: drop-shadow(0px 1px 2px rgba(0, 0, 0, 0.3));\n",
              "      fill: #FFFFFF;\n",
              "    }\n",
              "  </style>\n",
              "\n",
              "      <script>\n",
              "        const buttonEl =\n",
              "          document.querySelector('#df-d172fe23-efff-45b3-9294-4de3a865653c button.colab-df-convert');\n",
              "        buttonEl.style.display =\n",
              "          google.colab.kernel.accessAllowed ? 'block' : 'none';\n",
              "\n",
              "        async function convertToInteractive(key) {\n",
              "          const element = document.querySelector('#df-d172fe23-efff-45b3-9294-4de3a865653c');\n",
              "          const dataTable =\n",
              "            await google.colab.kernel.invokeFunction('convertToInteractive',\n",
              "                                                     [key], {});\n",
              "          if (!dataTable) return;\n",
              "\n",
              "          const docLinkHtml = 'Like what you see? Visit the ' +\n",
              "            '<a target=\"_blank\" href=https://colab.research.google.com/notebooks/data_table.ipynb>data table notebook</a>'\n",
              "            + ' to learn more about interactive tables.';\n",
              "          element.innerHTML = '';\n",
              "          dataTable['output_type'] = 'display_data';\n",
              "          await google.colab.output.renderOutput(dataTable, element);\n",
              "          const docLink = document.createElement('div');\n",
              "          docLink.innerHTML = docLinkHtml;\n",
              "          element.appendChild(docLink);\n",
              "        }\n",
              "      </script>\n",
              "    </div>\n",
              "  </div>\n",
              "  "
            ]
          },
          "metadata": {},
          "execution_count": 9
        }
      ],
      "source": [
        "df_c1[\"scp_codes\"].value_counts().to_frame()[0:15].to_csv(\"/content/gdrive/MyDrive/data/\"+\"df_c_100\"+\".csv\")\n",
        "df_c_100 = pd.read_csv(\"/content/gdrive/MyDrive/data/\"+\"df_c_100\"+\".csv\")\n",
        "i=0\n",
        "while i < len(df_c_100):\n",
        "  df_c_100[\"scp_codes\"][i] = i\n",
        "  i=i+1\n",
        "df_c_100"
      ]
    },
    {
      "cell_type": "code",
      "execution_count": null,
      "metadata": {
        "colab": {
          "base_uri": "https://localhost:8080/"
        },
        "id": "tVdyonPs2hIU",
        "outputId": "aa3c0cb1-0570-4cda-e01a-1b30a324e8c4"
      },
      "outputs": [
        {
          "output_type": "stream",
          "name": "stderr",
          "text": [
            "/usr/local/lib/python3.7/dist-packages/ipykernel_launcher.py:16: SettingWithCopyWarning: \n",
            "A value is trying to be set on a copy of a slice from a DataFrame\n",
            "\n",
            "See the caveats in the documentation: https://pandas.pydata.org/pandas-docs/stable/user_guide/indexing.html#returning-a-view-versus-a-copy\n",
            "  app.launch_new_instance()\n"
          ]
        },
        {
          "output_type": "execute_result",
          "data": {
            "text/plain": [
              "0     8763\n",
              "1     3132\n",
              "2     1734\n",
              "3     1537\n",
              "4     1114\n",
              "5      618\n",
              "6      479\n",
              "7      443\n",
              "8      382\n",
              "9      360\n",
              "10     348\n",
              "11     249\n",
              "13     200\n",
              "12     200\n",
              "14     178\n",
              "Name: scp_codes, dtype: int64"
            ]
          },
          "metadata": {},
          "execution_count": 10
        }
      ],
      "source": [
        "from sklearn.model_selection import train_test_split\n",
        "from sklearn.ensemble import GradientBoostingClassifier\n",
        "def f_0_(dp11,l,df_c_100): \n",
        "  q=-1\n",
        "  dp1 = None\n",
        "  for j in l:\n",
        "    q=q+1\n",
        "    if (dp11 == j) :\n",
        "      return q\n",
        "  return dp1\n",
        "\n",
        "dp1=dp\n",
        "l = df_c_100[\"Unnamed: 0\"]\n",
        "k=0\n",
        "while k < len(dp1):\n",
        "  dp1[\"scp_codes\"][k] =f_0_(dp1[\"scp_codes\"][k],l,df_c_100)\n",
        "  k=k+1\n",
        "dp1[\"scp_codes\"].value_counts()"
      ]
    },
    {
      "cell_type": "code",
      "source": [
        "dp1.to_csv(\"/content/gdrive/MyDrive/data/\"+\"df_1_1\"+\".csv\")"
      ],
      "metadata": {
        "id": "IKjrv-xQg_ts"
      },
      "execution_count": null,
      "outputs": []
    },
    {
      "cell_type": "markdown",
      "source": [
        "Преобразуем сигналы в зависимости от их интервала"
      ],
      "metadata": {
        "id": "L2yIFLe5gLDl"
      }
    },
    {
      "cell_type": "code",
      "source": [
        "dp1 = pd.read_csv(\"/content/gdrive/MyDrive/data/\"+\"df_1_1\"+\".csv\")\n",
        "dp1= dp1.dropna()\n",
        "dp= dp1\n",
        "dp = dp.drop(columns =[\"Unnamed: 0.1\"], axis = 1)\n",
        "#19737\n",
        "i=0\n",
        "for i in dp[\"Unnamed: 0\"]:\n",
        "  dp[\"Rmax\"][i] = dp[\"Rmax\"][i]/dp[\"maxmin\"][i]\n",
        "  dp[\"Rmin\"][i] = dp[\"Rmin\"][i]/dp[\"maxmin\"][i]\n",
        "  dp[\"P_min\"][i] = dp[\"P_min\"][i]/dp[\"maxmin\"][i]\n",
        "  dp[\"P_max\"][i] = dp[\"P_max\"][i]/dp[\"maxmin\"][i]\n",
        "  dp[\"Q\"][i] = dp[\"Q\"][i]/dp[\"maxmin\"][i]\n",
        "  dp[\"S\"][i] = dp[\"S\"][i]/dp[\"maxmin\"][i]\n",
        "  dp[\"T_min\"][i] = dp[\"T_min\"][i]/dp[\"maxmin\"][i]\n",
        "  dp[\"T_max\"][i] = dp[\"T_max\"][i]/dp[\"maxmin\"][i]\n",
        "\n",
        "dp.columns"
      ],
      "metadata": {
        "colab": {
          "base_uri": "https://localhost:8080/"
        },
        "id": "ocmeVM2GgbLY",
        "outputId": "8ab30758-f1eb-4fe0-8665-132931ffc611"
      },
      "execution_count": null,
      "outputs": [
        {
          "output_type": "stream",
          "name": "stderr",
          "text": [
            "/usr/local/lib/python3.7/dist-packages/ipykernel_launcher.py:8: SettingWithCopyWarning: \n",
            "A value is trying to be set on a copy of a slice from a DataFrame\n",
            "\n",
            "See the caveats in the documentation: https://pandas.pydata.org/pandas-docs/stable/user_guide/indexing.html#returning-a-view-versus-a-copy\n",
            "  \n",
            "/usr/local/lib/python3.7/dist-packages/ipykernel_launcher.py:9: SettingWithCopyWarning: \n",
            "A value is trying to be set on a copy of a slice from a DataFrame\n",
            "\n",
            "See the caveats in the documentation: https://pandas.pydata.org/pandas-docs/stable/user_guide/indexing.html#returning-a-view-versus-a-copy\n",
            "  if __name__ == '__main__':\n",
            "/usr/local/lib/python3.7/dist-packages/ipykernel_launcher.py:10: SettingWithCopyWarning: \n",
            "A value is trying to be set on a copy of a slice from a DataFrame\n",
            "\n",
            "See the caveats in the documentation: https://pandas.pydata.org/pandas-docs/stable/user_guide/indexing.html#returning-a-view-versus-a-copy\n",
            "  # Remove the CWD from sys.path while we load stuff.\n",
            "/usr/local/lib/python3.7/dist-packages/ipykernel_launcher.py:11: SettingWithCopyWarning: \n",
            "A value is trying to be set on a copy of a slice from a DataFrame\n",
            "\n",
            "See the caveats in the documentation: https://pandas.pydata.org/pandas-docs/stable/user_guide/indexing.html#returning-a-view-versus-a-copy\n",
            "  # This is added back by InteractiveShellApp.init_path()\n",
            "/usr/local/lib/python3.7/dist-packages/ipykernel_launcher.py:12: SettingWithCopyWarning: \n",
            "A value is trying to be set on a copy of a slice from a DataFrame\n",
            "\n",
            "See the caveats in the documentation: https://pandas.pydata.org/pandas-docs/stable/user_guide/indexing.html#returning-a-view-versus-a-copy\n",
            "  if sys.path[0] == '':\n",
            "/usr/local/lib/python3.7/dist-packages/ipykernel_launcher.py:13: SettingWithCopyWarning: \n",
            "A value is trying to be set on a copy of a slice from a DataFrame\n",
            "\n",
            "See the caveats in the documentation: https://pandas.pydata.org/pandas-docs/stable/user_guide/indexing.html#returning-a-view-versus-a-copy\n",
            "  del sys.path[0]\n",
            "/usr/local/lib/python3.7/dist-packages/ipykernel_launcher.py:14: SettingWithCopyWarning: \n",
            "A value is trying to be set on a copy of a slice from a DataFrame\n",
            "\n",
            "See the caveats in the documentation: https://pandas.pydata.org/pandas-docs/stable/user_guide/indexing.html#returning-a-view-versus-a-copy\n",
            "  \n",
            "/usr/local/lib/python3.7/dist-packages/ipykernel_launcher.py:15: SettingWithCopyWarning: \n",
            "A value is trying to be set on a copy of a slice from a DataFrame\n",
            "\n",
            "See the caveats in the documentation: https://pandas.pydata.org/pandas-docs/stable/user_guide/indexing.html#returning-a-view-versus-a-copy\n",
            "  from ipykernel import kernelapp as app\n"
          ]
        },
        {
          "output_type": "execute_result",
          "data": {
            "text/plain": [
              "Index(['Unnamed: 0', 'СКО', 'CV', 'skewness', 'kurtosis', 'RMSDD', 'NN5O',\n",
              "       'pNN5O', 'SDSD', 'Rmax', 'Rmin', 'min_signal', 'Rmax-min_signal',\n",
              "       'P_min', 'P_max', 'Q', 'S', 'T_min', 'T_max', 'max_signal',\n",
              "       'min_PQ_inter', 'max_PQ_inter', 'min_ST_inter', 'max_ST_inter',\n",
              "       'maxmin', 'age', 'sex', 'scp_codes'],\n",
              "      dtype='object')"
            ]
          },
          "metadata": {},
          "execution_count": 13
        }
      ]
    },
    {
      "cell_type": "code",
      "source": [
        "dp = dp.drop(columns =[\"Rmax-min_signal\"], axis = 1) # не имеет смысла \n",
        "dp = dp.drop(columns =[\"Unnamed: 0\"], axis = 1)\n",
        "dp.to_csv(\"/content/gdrive/MyDrive/data/\"+\"df_1_1.1\"+\".csv\")"
      ],
      "metadata": {
        "id": "UB9Obx0Y3XS1"
      },
      "execution_count": null,
      "outputs": []
    },
    {
      "cell_type": "code",
      "execution_count": null,
      "metadata": {
        "colab": {
          "base_uri": "https://localhost:8080/",
          "height": 299
        },
        "id": "Ip7qaTxeilrh",
        "outputId": "2864c061-0be9-44e7-b766-67724d056114"
      },
      "outputs": [
        {
          "output_type": "execute_result",
          "data": {
            "text/plain": [
              "         СКО        CV  skewness  kurtosis      RMSDD  NN5O  pNN5O      SDSD  \\\n",
              "0  16.944353  1.802591  0.035880 -1.030679  22.509257   0.0    0.0  0.025066   \n",
              "1  76.993506  6.120311  0.210076 -1.940373  50.426750   0.0    0.0  0.054899   \n",
              "2  18.517926  1.969061  0.530010 -0.679705  15.534907   0.0    0.0  0.017019   \n",
              "3  43.702223  5.459056 -0.033127 -0.393498  33.742339   0.0    0.0  0.035456   \n",
              "4  48.490824  5.356918 -0.002690 -1.079496  54.192250   0.0    0.0  0.060175   \n",
              "\n",
              "       Rmax      Rmin  ...     T_max  max_signal  min_PQ_inter  max_PQ_inter  \\\n",
              "0  0.835489  0.710206  ...  0.256563    0.519478          56.0         223.0   \n",
              "1  0.695423  0.053307  ...  0.555918    0.548533          43.0         207.0   \n",
              "2  0.854500  0.601904  ...  0.295261    0.662726          55.0         169.0   \n",
              "3  0.435821  0.341178  ...  0.355911    0.397030          61.0         489.0   \n",
              "4  0.625838  0.544202  ...  0.307722    0.357298          54.0         499.0   \n",
              "\n",
              "   min_ST_inter  max_ST_inter    maxmin   age  sex  scp_codes  \n",
              "0         108.0         218.0  0.621765  56.0    1        0.0  \n",
              "1         159.0         167.0  0.788776  19.0    0        0.0  \n",
              "2         134.0         302.0  0.775572  37.0    1        0.0  \n",
              "3         132.0         146.0  0.910993  24.0    0        0.0  \n",
              "4         151.0         266.0  0.570912  19.0    1        0.0  \n",
              "\n",
              "[5 rows x 26 columns]"
            ],
            "text/html": [
              "\n",
              "  <div id=\"df-9a57261f-cae2-425c-914c-189eb63a303e\">\n",
              "    <div class=\"colab-df-container\">\n",
              "      <div>\n",
              "<style scoped>\n",
              "    .dataframe tbody tr th:only-of-type {\n",
              "        vertical-align: middle;\n",
              "    }\n",
              "\n",
              "    .dataframe tbody tr th {\n",
              "        vertical-align: top;\n",
              "    }\n",
              "\n",
              "    .dataframe thead th {\n",
              "        text-align: right;\n",
              "    }\n",
              "</style>\n",
              "<table border=\"1\" class=\"dataframe\">\n",
              "  <thead>\n",
              "    <tr style=\"text-align: right;\">\n",
              "      <th></th>\n",
              "      <th>СКО</th>\n",
              "      <th>CV</th>\n",
              "      <th>skewness</th>\n",
              "      <th>kurtosis</th>\n",
              "      <th>RMSDD</th>\n",
              "      <th>NN5O</th>\n",
              "      <th>pNN5O</th>\n",
              "      <th>SDSD</th>\n",
              "      <th>Rmax</th>\n",
              "      <th>Rmin</th>\n",
              "      <th>...</th>\n",
              "      <th>T_max</th>\n",
              "      <th>max_signal</th>\n",
              "      <th>min_PQ_inter</th>\n",
              "      <th>max_PQ_inter</th>\n",
              "      <th>min_ST_inter</th>\n",
              "      <th>max_ST_inter</th>\n",
              "      <th>maxmin</th>\n",
              "      <th>age</th>\n",
              "      <th>sex</th>\n",
              "      <th>scp_codes</th>\n",
              "    </tr>\n",
              "  </thead>\n",
              "  <tbody>\n",
              "    <tr>\n",
              "      <th>0</th>\n",
              "      <td>16.944353</td>\n",
              "      <td>1.802591</td>\n",
              "      <td>0.035880</td>\n",
              "      <td>-1.030679</td>\n",
              "      <td>22.509257</td>\n",
              "      <td>0.0</td>\n",
              "      <td>0.0</td>\n",
              "      <td>0.025066</td>\n",
              "      <td>0.835489</td>\n",
              "      <td>0.710206</td>\n",
              "      <td>...</td>\n",
              "      <td>0.256563</td>\n",
              "      <td>0.519478</td>\n",
              "      <td>56.0</td>\n",
              "      <td>223.0</td>\n",
              "      <td>108.0</td>\n",
              "      <td>218.0</td>\n",
              "      <td>0.621765</td>\n",
              "      <td>56.0</td>\n",
              "      <td>1</td>\n",
              "      <td>0.0</td>\n",
              "    </tr>\n",
              "    <tr>\n",
              "      <th>1</th>\n",
              "      <td>76.993506</td>\n",
              "      <td>6.120311</td>\n",
              "      <td>0.210076</td>\n",
              "      <td>-1.940373</td>\n",
              "      <td>50.426750</td>\n",
              "      <td>0.0</td>\n",
              "      <td>0.0</td>\n",
              "      <td>0.054899</td>\n",
              "      <td>0.695423</td>\n",
              "      <td>0.053307</td>\n",
              "      <td>...</td>\n",
              "      <td>0.555918</td>\n",
              "      <td>0.548533</td>\n",
              "      <td>43.0</td>\n",
              "      <td>207.0</td>\n",
              "      <td>159.0</td>\n",
              "      <td>167.0</td>\n",
              "      <td>0.788776</td>\n",
              "      <td>19.0</td>\n",
              "      <td>0</td>\n",
              "      <td>0.0</td>\n",
              "    </tr>\n",
              "    <tr>\n",
              "      <th>2</th>\n",
              "      <td>18.517926</td>\n",
              "      <td>1.969061</td>\n",
              "      <td>0.530010</td>\n",
              "      <td>-0.679705</td>\n",
              "      <td>15.534907</td>\n",
              "      <td>0.0</td>\n",
              "      <td>0.0</td>\n",
              "      <td>0.017019</td>\n",
              "      <td>0.854500</td>\n",
              "      <td>0.601904</td>\n",
              "      <td>...</td>\n",
              "      <td>0.295261</td>\n",
              "      <td>0.662726</td>\n",
              "      <td>55.0</td>\n",
              "      <td>169.0</td>\n",
              "      <td>134.0</td>\n",
              "      <td>302.0</td>\n",
              "      <td>0.775572</td>\n",
              "      <td>37.0</td>\n",
              "      <td>1</td>\n",
              "      <td>0.0</td>\n",
              "    </tr>\n",
              "    <tr>\n",
              "      <th>3</th>\n",
              "      <td>43.702223</td>\n",
              "      <td>5.459056</td>\n",
              "      <td>-0.033127</td>\n",
              "      <td>-0.393498</td>\n",
              "      <td>33.742339</td>\n",
              "      <td>0.0</td>\n",
              "      <td>0.0</td>\n",
              "      <td>0.035456</td>\n",
              "      <td>0.435821</td>\n",
              "      <td>0.341178</td>\n",
              "      <td>...</td>\n",
              "      <td>0.355911</td>\n",
              "      <td>0.397030</td>\n",
              "      <td>61.0</td>\n",
              "      <td>489.0</td>\n",
              "      <td>132.0</td>\n",
              "      <td>146.0</td>\n",
              "      <td>0.910993</td>\n",
              "      <td>24.0</td>\n",
              "      <td>0</td>\n",
              "      <td>0.0</td>\n",
              "    </tr>\n",
              "    <tr>\n",
              "      <th>4</th>\n",
              "      <td>48.490824</td>\n",
              "      <td>5.356918</td>\n",
              "      <td>-0.002690</td>\n",
              "      <td>-1.079496</td>\n",
              "      <td>54.192250</td>\n",
              "      <td>0.0</td>\n",
              "      <td>0.0</td>\n",
              "      <td>0.060175</td>\n",
              "      <td>0.625838</td>\n",
              "      <td>0.544202</td>\n",
              "      <td>...</td>\n",
              "      <td>0.307722</td>\n",
              "      <td>0.357298</td>\n",
              "      <td>54.0</td>\n",
              "      <td>499.0</td>\n",
              "      <td>151.0</td>\n",
              "      <td>266.0</td>\n",
              "      <td>0.570912</td>\n",
              "      <td>19.0</td>\n",
              "      <td>1</td>\n",
              "      <td>0.0</td>\n",
              "    </tr>\n",
              "  </tbody>\n",
              "</table>\n",
              "<p>5 rows × 26 columns</p>\n",
              "</div>\n",
              "      <button class=\"colab-df-convert\" onclick=\"convertToInteractive('df-9a57261f-cae2-425c-914c-189eb63a303e')\"\n",
              "              title=\"Convert this dataframe to an interactive table.\"\n",
              "              style=\"display:none;\">\n",
              "        \n",
              "  <svg xmlns=\"http://www.w3.org/2000/svg\" height=\"24px\"viewBox=\"0 0 24 24\"\n",
              "       width=\"24px\">\n",
              "    <path d=\"M0 0h24v24H0V0z\" fill=\"none\"/>\n",
              "    <path d=\"M18.56 5.44l.94 2.06.94-2.06 2.06-.94-2.06-.94-.94-2.06-.94 2.06-2.06.94zm-11 1L8.5 8.5l.94-2.06 2.06-.94-2.06-.94L8.5 2.5l-.94 2.06-2.06.94zm10 10l.94 2.06.94-2.06 2.06-.94-2.06-.94-.94-2.06-.94 2.06-2.06.94z\"/><path d=\"M17.41 7.96l-1.37-1.37c-.4-.4-.92-.59-1.43-.59-.52 0-1.04.2-1.43.59L10.3 9.45l-7.72 7.72c-.78.78-.78 2.05 0 2.83L4 21.41c.39.39.9.59 1.41.59.51 0 1.02-.2 1.41-.59l7.78-7.78 2.81-2.81c.8-.78.8-2.07 0-2.86zM5.41 20L4 18.59l7.72-7.72 1.47 1.35L5.41 20z\"/>\n",
              "  </svg>\n",
              "      </button>\n",
              "      \n",
              "  <style>\n",
              "    .colab-df-container {\n",
              "      display:flex;\n",
              "      flex-wrap:wrap;\n",
              "      gap: 12px;\n",
              "    }\n",
              "\n",
              "    .colab-df-convert {\n",
              "      background-color: #E8F0FE;\n",
              "      border: none;\n",
              "      border-radius: 50%;\n",
              "      cursor: pointer;\n",
              "      display: none;\n",
              "      fill: #1967D2;\n",
              "      height: 32px;\n",
              "      padding: 0 0 0 0;\n",
              "      width: 32px;\n",
              "    }\n",
              "\n",
              "    .colab-df-convert:hover {\n",
              "      background-color: #E2EBFA;\n",
              "      box-shadow: 0px 1px 2px rgba(60, 64, 67, 0.3), 0px 1px 3px 1px rgba(60, 64, 67, 0.15);\n",
              "      fill: #174EA6;\n",
              "    }\n",
              "\n",
              "    [theme=dark] .colab-df-convert {\n",
              "      background-color: #3B4455;\n",
              "      fill: #D2E3FC;\n",
              "    }\n",
              "\n",
              "    [theme=dark] .colab-df-convert:hover {\n",
              "      background-color: #434B5C;\n",
              "      box-shadow: 0px 1px 3px 1px rgba(0, 0, 0, 0.15);\n",
              "      filter: drop-shadow(0px 1px 2px rgba(0, 0, 0, 0.3));\n",
              "      fill: #FFFFFF;\n",
              "    }\n",
              "  </style>\n",
              "\n",
              "      <script>\n",
              "        const buttonEl =\n",
              "          document.querySelector('#df-9a57261f-cae2-425c-914c-189eb63a303e button.colab-df-convert');\n",
              "        buttonEl.style.display =\n",
              "          google.colab.kernel.accessAllowed ? 'block' : 'none';\n",
              "\n",
              "        async function convertToInteractive(key) {\n",
              "          const element = document.querySelector('#df-9a57261f-cae2-425c-914c-189eb63a303e');\n",
              "          const dataTable =\n",
              "            await google.colab.kernel.invokeFunction('convertToInteractive',\n",
              "                                                     [key], {});\n",
              "          if (!dataTable) return;\n",
              "\n",
              "          const docLinkHtml = 'Like what you see? Visit the ' +\n",
              "            '<a target=\"_blank\" href=https://colab.research.google.com/notebooks/data_table.ipynb>data table notebook</a>'\n",
              "            + ' to learn more about interactive tables.';\n",
              "          element.innerHTML = '';\n",
              "          dataTable['output_type'] = 'display_data';\n",
              "          await google.colab.output.renderOutput(dataTable, element);\n",
              "          const docLink = document.createElement('div');\n",
              "          docLink.innerHTML = docLinkHtml;\n",
              "          element.appendChild(docLink);\n",
              "        }\n",
              "      </script>\n",
              "    </div>\n",
              "  </div>\n",
              "  "
            ]
          },
          "metadata": {},
          "execution_count": 15
        }
      ],
      "source": [
        "dp.head(5)"
      ]
    },
    {
      "cell_type": "markdown",
      "metadata": {
        "id": "sfZu5af-yM60"
      },
      "source": [
        "## Машинное обучение"
      ]
    },
    {
      "cell_type": "code",
      "source": [
        "dp = pd.read_csv(\"/content/gdrive/MyDrive/data/\"+\"df_1_1.1\"+\".csv\").drop(columns =[\"Unnamed: 0\"], axis = 1)\n",
        "dp= dp.dropna()\n",
        "dp.columns"
      ],
      "metadata": {
        "id": "GSJa1rbYpK5x",
        "colab": {
          "base_uri": "https://localhost:8080/"
        },
        "outputId": "5846dcdd-d5ba-4251-d643-5377c8fe3a32"
      },
      "execution_count": 4,
      "outputs": [
        {
          "output_type": "execute_result",
          "data": {
            "text/plain": [
              "Index(['СКО', 'CV', 'skewness', 'kurtosis', 'RMSDD', 'NN5O', 'pNN5O', 'SDSD',\n",
              "       'Rmax', 'Rmin', 'min_signal', 'P_min', 'P_max', 'Q', 'S', 'T_min',\n",
              "       'T_max', 'max_signal', 'min_PQ_inter', 'max_PQ_inter', 'min_ST_inter',\n",
              "       'max_ST_inter', 'maxmin', 'age', 'sex', 'scp_codes'],\n",
              "      dtype='object')"
            ]
          },
          "metadata": {},
          "execution_count": 4
        }
      ]
    },
    {
      "cell_type": "code",
      "source": [
        "dp['scp_codes'].value_counts()"
      ],
      "metadata": {
        "colab": {
          "base_uri": "https://localhost:8080/"
        },
        "id": "NL5RvC264CN7",
        "outputId": "ff514543-1c49-4658-c06a-3f07c22552ad"
      },
      "execution_count": null,
      "outputs": [
        {
          "output_type": "execute_result",
          "data": {
            "text/plain": [
              "0.0     8763\n",
              "1.0     3132\n",
              "2.0     1734\n",
              "3.0     1537\n",
              "4.0     1114\n",
              "5.0      618\n",
              "6.0      479\n",
              "7.0      443\n",
              "8.0      382\n",
              "9.0      360\n",
              "10.0     348\n",
              "11.0     249\n",
              "13.0     200\n",
              "12.0     200\n",
              "14.0     178\n",
              "Name: scp_codes, dtype: int64"
            ]
          },
          "metadata": {},
          "execution_count": 6
        }
      ]
    },
    {
      "cell_type": "code",
      "source": [
        "X, y = dp.drop(columns=['scp_codes']) , dp['scp_codes']\n",
        "sm = KMeansSMOTE(random_state=42,cluster_balance_threshold = 0.01)\n",
        "X, y = sm.fit_resample(X, y)\n",
        "sm = BorderlineSMOTE(random_state=42)\n",
        "X, y = sm.fit_resample(X, y)\n",
        "X_train, X_valid, y_train, y_valid = train_test_split(X, y, test_size=0.3, random_state=0)#test_size=0.3 # random_state=1235"
      ],
      "metadata": {
        "id": "UuTSSajCPoUv"
      },
      "execution_count": 5,
      "outputs": []
    },
    {
      "cell_type": "code",
      "source": [
        "X_train, X_valid, y_train, y_valid = train_test_split(X, y, test_size=0.3, random_state=0)#test_size=0.3 # random_state=1235"
      ],
      "metadata": {
        "id": "LeYza5QPbKr8"
      },
      "execution_count": 6,
      "outputs": []
    },
    {
      "cell_type": "code",
      "source": [
        "from sklearn.metrics import f1_score\n",
        "def f0(model , X_train, X_valid, y_train, y_valid):\n",
        "  model.fit(X_train, y_train)\n",
        "  print(\"score \",model.score(X_train, y_train))\n",
        "  y_predict = model.predict(X_valid)\n",
        "  print(\"f1_score micro \",f1_score(y_valid,y_predict, average='micro')) #\"samples\"\n",
        "  print(\"f1_score macro \",f1_score(y_valid,y_predict, average='macro'))\n",
        "  print(\"f1_score weighted \",f1_score(y_valid,y_predict, average='weighted'))"
      ],
      "metadata": {
        "id": "pFO49mGTPu_V"
      },
      "execution_count": 7,
      "outputs": []
    },
    {
      "cell_type": "code",
      "source": [
        "f0(CatBoostClassifier(verbose=0, n_estimators=100) , X_train, X_valid, y_train, y_valid)"
      ],
      "metadata": {
        "colab": {
          "base_uri": "https://localhost:8080/"
        },
        "id": "GptnQDbneDAV",
        "outputId": "bcf227d4-9b42-4b7b-ba04-a462fa9617e7"
      },
      "execution_count": 18,
      "outputs": [
        {
          "output_type": "stream",
          "name": "stdout",
          "text": [
            "score  0.8249877830265515\n",
            "f1_score micro  0.7936652730267325\n",
            "f1_score macro  0.7849999725800835\n",
            "f1_score weighted  0.785858317408259\n"
          ]
        }
      ]
    },
    {
      "cell_type": "code",
      "source": [
        "f0(LGBMClassifier(), X_train, X_valid, y_train, y_valid)"
      ],
      "metadata": {
        "colab": {
          "base_uri": "https://localhost:8080/"
        },
        "id": "Rm3DXbJnQiN1",
        "outputId": "c68c168b-2bec-423f-8388-570ee83405d3"
      },
      "execution_count": 19,
      "outputs": [
        {
          "output_type": "stream",
          "name": "stdout",
          "text": [
            "score  0.8853016235000272\n",
            "f1_score micro  0.8501710376282782\n",
            "f1_score macro  0.8476489376676682\n",
            "f1_score weighted  0.8482630185347263\n"
          ]
        }
      ]
    },
    {
      "cell_type": "code",
      "source": [
        "f0(XGBClassifier() , X_train, X_valid, y_train, y_valid)"
      ],
      "metadata": {
        "colab": {
          "base_uri": "https://localhost:8080/"
        },
        "id": "ZlyXKPHBeF5b",
        "outputId": "5c53a941-f095-4cfd-985e-fdac60c71e09"
      },
      "execution_count": 11,
      "outputs": [
        {
          "output_type": "stream",
          "name": "stdout",
          "text": [
            "score  0.5347016343595591\n",
            "f1_score micro  0.5196756619789688\n",
            "f1_score macro  0.4846740081293127\n",
            "f1_score weighted  0.48587167981127377\n"
          ]
        }
      ]
    },
    {
      "cell_type": "code",
      "source": [
        "def obrabotka(model):\n",
        "  model1=model\n",
        "  X, y = dp.drop(columns=['scp_codes']) , dp['scp_codes']\n",
        "  sm = KMeansSMOTE(random_state=42,cluster_balance_threshold = 0.01)\n",
        "  X, y = sm.fit_resample(X, y)\n",
        "  sm = BorderlineSMOTE(random_state=42)\n",
        "  X, y = sm.fit_resample(X, y)\n",
        "  X_train, X_valid, y_train, y_valid = train_test_split(X, y, test_size=0.3, random_state=0)#test_size=0.3 # random_state=1235\n",
        "  model.fit(X_train, y_train)\n",
        "  # предсказываем\n",
        "  row = X_valid\n",
        "  yhat = model.predict(row)\n",
        "  y_predict = model.predict(X_valid)\n",
        "  df_c_100 = [0,1,2,3,4,5,6,7,8,9,10,11,12,13]\n",
        "  report = metrics.classification_report(y_valid, y_predict, labels=[0,1,2,3,4,5,6,7,8,9,10,11,12,13,14]) #precision, recall, f1-score,etc\n",
        "  print(report)\n",
        "  print(str(model1),model.score(X_train, y_train))"
      ],
      "metadata": {
        "id": "hfiW6zMDwI7y"
      },
      "execution_count": null,
      "outputs": []
    },
    {
      "cell_type": "code",
      "source": [
        "obrabotka(CatBoostClassifier(verbose=0, n_estimators=100))"
      ],
      "metadata": {
        "colab": {
          "base_uri": "https://localhost:8080/"
        },
        "id": "vtuYck4MwJrR",
        "outputId": "8bda4ca5-95e8-41c3-f9ca-6d62f5c35f2a"
      },
      "execution_count": null,
      "outputs": [
        {
          "output_type": "stream",
          "name": "stdout",
          "text": [
            "0.8249877830265515\n",
            "              precision    recall  f1-score   support\n",
            "\n",
            "           0       0.44      0.50      0.47      2672\n",
            "           1       0.56      0.33      0.42      2542\n",
            "           2       0.66      0.53      0.59      2594\n",
            "           3       0.71      0.60      0.65      2621\n",
            "           4       0.75      0.70      0.72      2676\n",
            "           5       0.79      0.81      0.80      2569\n",
            "           6       0.85      0.89      0.87      2717\n",
            "           7       0.84      0.91      0.88      2592\n",
            "           8       0.85      0.93      0.89      2574\n",
            "           9       0.80      0.90      0.85      2687\n",
            "          10       0.89      0.92      0.91      2695\n",
            "          11       0.90      0.94      0.92      2653\n",
            "          12       0.92      0.97      0.94      2602\n",
            "          13       0.89      0.97      0.93      2618\n",
            "          14       0.93      0.98      0.96      2653\n",
            "\n",
            "    accuracy                           0.79     39465\n",
            "   macro avg       0.78      0.79      0.78     39465\n",
            "weighted avg       0.79      0.79      0.79     39465\n",
            "\n",
            "<catboost.core.CatBoostClassifier object at 0x7f7d904a43d0> 0.8249877830265515\n"
          ]
        }
      ]
    },
    {
      "cell_type": "code",
      "source": [
        "obrabotka(LGBMClassifier())"
      ],
      "metadata": {
        "colab": {
          "base_uri": "https://localhost:8080/"
        },
        "id": "bs_QJ4uzy4rR",
        "outputId": "8b6e1f35-b8d4-432d-a5fc-74c2873eff03"
      },
      "execution_count": null,
      "outputs": [
        {
          "output_type": "stream",
          "name": "stdout",
          "text": [
            "0.8853016235000272\n",
            "              precision    recall  f1-score   support\n",
            "\n",
            "           0       0.46      0.73      0.56      2672\n",
            "           1       0.81      0.41      0.54      2542\n",
            "           2       0.83      0.62      0.71      2594\n",
            "           3       0.86      0.69      0.77      2621\n",
            "           4       0.86      0.81      0.83      2676\n",
            "           5       0.89      0.86      0.88      2569\n",
            "           6       0.91      0.93      0.92      2717\n",
            "           7       0.89      0.95      0.92      2592\n",
            "           8       0.91      0.96      0.94      2574\n",
            "           9       0.81      0.94      0.87      2687\n",
            "          10       0.91      0.95      0.93      2695\n",
            "          11       0.95      0.94      0.95      2653\n",
            "          12       0.96      0.98      0.97      2602\n",
            "          13       0.93      0.98      0.95      2618\n",
            "          14       0.97      0.98      0.97      2653\n",
            "\n",
            "    accuracy                           0.85     39465\n",
            "   macro avg       0.86      0.85      0.85     39465\n",
            "weighted avg       0.86      0.85      0.85     39465\n",
            "\n",
            "LGBMClassifier() 0.8853016235000272\n"
          ]
        }
      ]
    },
    {
      "cell_type": "code",
      "source": [
        "obrabotka(XGBClassifier())"
      ],
      "metadata": {
        "colab": {
          "base_uri": "https://localhost:8080/"
        },
        "id": "o2e7Ye_Qy6m4",
        "outputId": "479d790a-15c2-477f-9a64-5c83d43535a8"
      },
      "execution_count": null,
      "outputs": [
        {
          "output_type": "stream",
          "name": "stdout",
          "text": [
            "0.5347016343595591\n",
            "              precision    recall  f1-score   support\n",
            "\n",
            "           0       0.42      0.44      0.43      2672\n",
            "           1       0.39      0.08      0.14      2542\n",
            "           2       0.38      0.13      0.19      2594\n",
            "           3       0.46      0.17      0.25      2621\n",
            "           4       0.46      0.30      0.36      2676\n",
            "           5       0.49      0.38      0.43      2569\n",
            "           6       0.48      0.53      0.50      2717\n",
            "           7       0.46      0.62      0.53      2592\n",
            "           8       0.47      0.56      0.51      2574\n",
            "           9       0.63      0.45      0.53      2687\n",
            "          10       0.47      0.64      0.54      2695\n",
            "          11       0.47      0.75      0.58      2653\n",
            "          12       0.48      0.81      0.60      2602\n",
            "          13       0.66      0.94      0.78      2618\n",
            "          14       0.84      0.98      0.91      2653\n",
            "\n",
            "    accuracy                           0.52     39465\n",
            "   macro avg       0.50      0.52      0.48     39465\n",
            "weighted avg       0.50      0.52      0.49     39465\n",
            "\n",
            "XGBClassifier(objective='multi:softprob') 0.5347016343595591\n"
          ]
        }
      ]
    },
    {
      "cell_type": "markdown",
      "source": [
        "Лучшая модель LGBMClassifier "
      ],
      "metadata": {
        "id": "dtTWnY8bxS1z"
      }
    },
    {
      "cell_type": "markdown",
      "source": [
        "Используем ее что бы определить важность признаков ."
      ],
      "metadata": {
        "id": "_5LP0ujG0gsQ"
      }
    },
    {
      "cell_type": "code",
      "source": [
        "X, y = dp.drop(columns=['scp_codes']) , dp['scp_codes']\n",
        "sm = KMeansSMOTE(random_state=42,cluster_balance_threshold = 0.01)\n",
        "X1, y1 = sm.fit_resample(X, y)\n",
        "sm = BorderlineSMOTE(random_state=42)\n",
        "X1, y1 = sm.fit_resample(X1, y1)\n",
        "X_train, X_valid, y_train, y_valid = train_test_split(X1, y1, test_size=0.3, random_state=0)#test_size=0.3 # random_state=1235"
      ],
      "metadata": {
        "id": "zp05ur193YAY"
      },
      "execution_count": null,
      "outputs": []
    },
    {
      "cell_type": "code",
      "source": [
        "import seaborn as sns\n",
        "from sklearn.feature_selection import GenericUnivariateSelect, mutual_info_classif, SelectFromModel\n",
        "from sklearn.pipeline import Pipeline\n",
        "from sklearn.model_selection import StratifiedKFold, GridSearchCV, cross_val_score\n",
        "from sklearn.preprocessing import PowerTransformer\n",
        "\n",
        "# зафиксируем значение генератора случайных чисел для воспроизводимости \n",
        "SEED = 1\n",
        "\n",
        "# Функции, которые в дальнейшем понадобятся\n",
        "def plot_features_scores(model, data, target, column_names, model_type):\n",
        "    '''Функция для визуализации важности признаков'''\n",
        "    \n",
        "    model.fit(data, target)\n",
        "    \n",
        "    if model_type == 'rf':\n",
        "        (pd.DataFrame(data={'score': model['rf'].feature_importances_}, \n",
        "                      index=column_names).sort_values(by='score')\n",
        "                                         .plot(kind='barh', grid=True,\n",
        "                                               figsize=(6,6), legend=False));"
      ],
      "metadata": {
        "id": "7R65UsucwJ1R"
      },
      "execution_count": null,
      "outputs": []
    },
    {
      "cell_type": "code",
      "source": [
        "rf = Pipeline([('rf', LGBMClassifier())])\n",
        "# важность признаков\n",
        "plot_features_scores(model=rf, data=X_train, target=y_train, column_names=X.columns, model_type='rf')"
      ],
      "metadata": {
        "colab": {
          "base_uri": "https://localhost:8080/",
          "height": 374
        },
        "id": "TiSBstDh0x74",
        "outputId": "19395eac-751f-4b26-8d70-64a47a591351"
      },
      "execution_count": null,
      "outputs": [
        {
          "output_type": "display_data",
          "data": {
            "text/plain": [
              "<Figure size 432x432 with 1 Axes>"
            ],
            "image/png": "[encoded data removed]"
          },
          "metadata": {
            "needs_background": "light"
          }
        }
      ]
    },
    {
      "cell_type": "code",
      "source": [
        "selector = GenericUnivariateSelect(score_func=mutual_info_classif, \n",
        "                                   mode='k_best', \n",
        "                                   param=20)\n",
        "# применим к нашему датасету\n",
        "selector.fit(X_train, y_train)\n",
        "# метод transform вернёт массив с отобранными признаками\n",
        "# выведем результаты оценки каждого признака \n",
        "(pd.DataFrame(data={'score':selector.scores_,\n",
        "                   'support':selector.get_support()}, \n",
        "             index=X.columns).sort_values(by='score',ascending=False)).to_csv(\"/content/sample_data/\"+\"lis\"+\".csv\")\n",
        "lis = pd.read_csv(\"/content/sample_data/\"+\"lis\"+\".csv\")\n",
        "lis"
      ],
      "metadata": {
        "colab": {
          "base_uri": "https://localhost:8080/",
          "height": 833
        },
        "id": "itC8EfKu4Jd_",
        "outputId": "97e3d732-db17-4b48-b176-364e28be08a7"
      },
      "execution_count": null,
      "outputs": [
        {
          "output_type": "execute_result",
          "data": {
            "text/plain": [
              "      Unnamed: 0     score  support\n",
              "0   max_ST_inter  0.581884     True\n",
              "1   max_PQ_inter  0.417709     True\n",
              "2   min_ST_inter  0.312621     True\n",
              "3   min_PQ_inter  0.268299     True\n",
              "4            age  0.240008     True\n",
              "5          RMSDD  0.184245     True\n",
              "6           SDSD  0.180043     True\n",
              "7            СКО  0.157435     True\n",
              "8             CV  0.142791     True\n",
              "9          T_min  0.111131     True\n",
              "10             S  0.082825     True\n",
              "11         T_max  0.079915     True\n",
              "12          Rmin  0.079324     True\n",
              "13         P_max  0.064805     True\n",
              "14         P_min  0.060702     True\n",
              "15             Q  0.059384     True\n",
              "16          Rmax  0.058449     True\n",
              "17      skewness  0.056799     True\n",
              "18    min_signal  0.054025     True\n",
              "19      kurtosis  0.053848     True\n",
              "20    max_signal  0.047530    False\n",
              "21        maxmin  0.044007    False\n",
              "22           sex  0.016807    False\n",
              "23          NN5O  0.010432    False\n",
              "24         pNN5O  0.005632    False"
            ],
            "text/html": [
              "\n",
              "  <div id=\"df-6bc5cbeb-8261-494c-afc3-cf7f0d94d6b7\">\n",
              "    <div class=\"colab-df-container\">\n",
              "      <div>\n",
              "<style scoped>\n",
              "    .dataframe tbody tr th:only-of-type {\n",
              "        vertical-align: middle;\n",
              "    }\n",
              "\n",
              "    .dataframe tbody tr th {\n",
              "        vertical-align: top;\n",
              "    }\n",
              "\n",
              "    .dataframe thead th {\n",
              "        text-align: right;\n",
              "    }\n",
              "</style>\n",
              "<table border=\"1\" class=\"dataframe\">\n",
              "  <thead>\n",
              "    <tr style=\"text-align: right;\">\n",
              "      <th></th>\n",
              "      <th>Unnamed: 0</th>\n",
              "      <th>score</th>\n",
              "      <th>support</th>\n",
              "    </tr>\n",
              "  </thead>\n",
              "  <tbody>\n",
              "    <tr>\n",
              "      <th>0</th>\n",
              "      <td>max_ST_inter</td>\n",
              "      <td>0.581884</td>\n",
              "      <td>True</td>\n",
              "    </tr>\n",
              "    <tr>\n",
              "      <th>1</th>\n",
              "      <td>max_PQ_inter</td>\n",
              "      <td>0.417709</td>\n",
              "      <td>True</td>\n",
              "    </tr>\n",
              "    <tr>\n",
              "      <th>2</th>\n",
              "      <td>min_ST_inter</td>\n",
              "      <td>0.312621</td>\n",
              "      <td>True</td>\n",
              "    </tr>\n",
              "    <tr>\n",
              "      <th>3</th>\n",
              "      <td>min_PQ_inter</td>\n",
              "      <td>0.268299</td>\n",
              "      <td>True</td>\n",
              "    </tr>\n",
              "    <tr>\n",
              "      <th>4</th>\n",
              "      <td>age</td>\n",
              "      <td>0.240008</td>\n",
              "      <td>True</td>\n",
              "    </tr>\n",
              "    <tr>\n",
              "      <th>5</th>\n",
              "      <td>RMSDD</td>\n",
              "      <td>0.184245</td>\n",
              "      <td>True</td>\n",
              "    </tr>\n",
              "    <tr>\n",
              "      <th>6</th>\n",
              "      <td>SDSD</td>\n",
              "      <td>0.180043</td>\n",
              "      <td>True</td>\n",
              "    </tr>\n",
              "    <tr>\n",
              "      <th>7</th>\n",
              "      <td>СКО</td>\n",
              "      <td>0.157435</td>\n",
              "      <td>True</td>\n",
              "    </tr>\n",
              "    <tr>\n",
              "      <th>8</th>\n",
              "      <td>CV</td>\n",
              "      <td>0.142791</td>\n",
              "      <td>True</td>\n",
              "    </tr>\n",
              "    <tr>\n",
              "      <th>9</th>\n",
              "      <td>T_min</td>\n",
              "      <td>0.111131</td>\n",
              "      <td>True</td>\n",
              "    </tr>\n",
              "    <tr>\n",
              "      <th>10</th>\n",
              "      <td>S</td>\n",
              "      <td>0.082825</td>\n",
              "      <td>True</td>\n",
              "    </tr>\n",
              "    <tr>\n",
              "      <th>11</th>\n",
              "      <td>T_max</td>\n",
              "      <td>0.079915</td>\n",
              "      <td>True</td>\n",
              "    </tr>\n",
              "    <tr>\n",
              "      <th>12</th>\n",
              "      <td>Rmin</td>\n",
              "      <td>0.079324</td>\n",
              "      <td>True</td>\n",
              "    </tr>\n",
              "    <tr>\n",
              "      <th>13</th>\n",
              "      <td>P_max</td>\n",
              "      <td>0.064805</td>\n",
              "      <td>True</td>\n",
              "    </tr>\n",
              "    <tr>\n",
              "      <th>14</th>\n",
              "      <td>P_min</td>\n",
              "      <td>0.060702</td>\n",
              "      <td>True</td>\n",
              "    </tr>\n",
              "    <tr>\n",
              "      <th>15</th>\n",
              "      <td>Q</td>\n",
              "      <td>0.059384</td>\n",
              "      <td>True</td>\n",
              "    </tr>\n",
              "    <tr>\n",
              "      <th>16</th>\n",
              "      <td>Rmax</td>\n",
              "      <td>0.058449</td>\n",
              "      <td>True</td>\n",
              "    </tr>\n",
              "    <tr>\n",
              "      <th>17</th>\n",
              "      <td>skewness</td>\n",
              "      <td>0.056799</td>\n",
              "      <td>True</td>\n",
              "    </tr>\n",
              "    <tr>\n",
              "      <th>18</th>\n",
              "      <td>min_signal</td>\n",
              "      <td>0.054025</td>\n",
              "      <td>True</td>\n",
              "    </tr>\n",
              "    <tr>\n",
              "      <th>19</th>\n",
              "      <td>kurtosis</td>\n",
              "      <td>0.053848</td>\n",
              "      <td>True</td>\n",
              "    </tr>\n",
              "    <tr>\n",
              "      <th>20</th>\n",
              "      <td>max_signal</td>\n",
              "      <td>0.047530</td>\n",
              "      <td>False</td>\n",
              "    </tr>\n",
              "    <tr>\n",
              "      <th>21</th>\n",
              "      <td>maxmin</td>\n",
              "      <td>0.044007</td>\n",
              "      <td>False</td>\n",
              "    </tr>\n",
              "    <tr>\n",
              "      <th>22</th>\n",
              "      <td>sex</td>\n",
              "      <td>0.016807</td>\n",
              "      <td>False</td>\n",
              "    </tr>\n",
              "    <tr>\n",
              "      <th>23</th>\n",
              "      <td>NN5O</td>\n",
              "      <td>0.010432</td>\n",
              "      <td>False</td>\n",
              "    </tr>\n",
              "    <tr>\n",
              "      <th>24</th>\n",
              "      <td>pNN5O</td>\n",
              "      <td>0.005632</td>\n",
              "      <td>False</td>\n",
              "    </tr>\n",
              "  </tbody>\n",
              "</table>\n",
              "</div>\n",
              "      <button class=\"colab-df-convert\" onclick=\"convertToInteractive('df-6bc5cbeb-8261-494c-afc3-cf7f0d94d6b7')\"\n",
              "              title=\"Convert this dataframe to an interactive table.\"\n",
              "              style=\"display:none;\">\n",
              "        \n",
              "  <svg xmlns=\"http://www.w3.org/2000/svg\" height=\"24px\"viewBox=\"0 0 24 24\"\n",
              "       width=\"24px\">\n",
              "    <path d=\"M0 0h24v24H0V0z\" fill=\"none\"/>\n",
              "    <path d=\"M18.56 5.44l.94 2.06.94-2.06 2.06-.94-2.06-.94-.94-2.06-.94 2.06-2.06.94zm-11 1L8.5 8.5l.94-2.06 2.06-.94-2.06-.94L8.5 2.5l-.94 2.06-2.06.94zm10 10l.94 2.06.94-2.06 2.06-.94-2.06-.94-.94-2.06-.94 2.06-2.06.94z\"/><path d=\"M17.41 7.96l-1.37-1.37c-.4-.4-.92-.59-1.43-.59-.52 0-1.04.2-1.43.59L10.3 9.45l-7.72 7.72c-.78.78-.78 2.05 0 2.83L4 21.41c.39.39.9.59 1.41.59.51 0 1.02-.2 1.41-.59l7.78-7.78 2.81-2.81c.8-.78.8-2.07 0-2.86zM5.41 20L4 18.59l7.72-7.72 1.47 1.35L5.41 20z\"/>\n",
              "  </svg>\n",
              "      </button>\n",
              "      \n",
              "  <style>\n",
              "    .colab-df-container {\n",
              "      display:flex;\n",
              "      flex-wrap:wrap;\n",
              "      gap: 12px;\n",
              "    }\n",
              "\n",
              "    .colab-df-convert {\n",
              "      background-color: #E8F0FE;\n",
              "      border: none;\n",
              "      border-radius: 50%;\n",
              "      cursor: pointer;\n",
              "      display: none;\n",
              "      fill: #1967D2;\n",
              "      height: 32px;\n",
              "      padding: 0 0 0 0;\n",
              "      width: 32px;\n",
              "    }\n",
              "\n",
              "    .colab-df-convert:hover {\n",
              "      background-color: #E2EBFA;\n",
              "      box-shadow: 0px 1px 2px rgba(60, 64, 67, 0.3), 0px 1px 3px 1px rgba(60, 64, 67, 0.15);\n",
              "      fill: #174EA6;\n",
              "    }\n",
              "\n",
              "    [theme=dark] .colab-df-convert {\n",
              "      background-color: #3B4455;\n",
              "      fill: #D2E3FC;\n",
              "    }\n",
              "\n",
              "    [theme=dark] .colab-df-convert:hover {\n",
              "      background-color: #434B5C;\n",
              "      box-shadow: 0px 1px 3px 1px rgba(0, 0, 0, 0.15);\n",
              "      filter: drop-shadow(0px 1px 2px rgba(0, 0, 0, 0.3));\n",
              "      fill: #FFFFFF;\n",
              "    }\n",
              "  </style>\n",
              "\n",
              "      <script>\n",
              "        const buttonEl =\n",
              "          document.querySelector('#df-6bc5cbeb-8261-494c-afc3-cf7f0d94d6b7 button.colab-df-convert');\n",
              "        buttonEl.style.display =\n",
              "          google.colab.kernel.accessAllowed ? 'block' : 'none';\n",
              "\n",
              "        async function convertToInteractive(key) {\n",
              "          const element = document.querySelector('#df-6bc5cbeb-8261-494c-afc3-cf7f0d94d6b7');\n",
              "          const dataTable =\n",
              "            await google.colab.kernel.invokeFunction('convertToInteractive',\n",
              "                                                     [key], {});\n",
              "          if (!dataTable) return;\n",
              "\n",
              "          const docLinkHtml = 'Like what you see? Visit the ' +\n",
              "            '<a target=\"_blank\" href=https://colab.research.google.com/notebooks/data_table.ipynb>data table notebook</a>'\n",
              "            + ' to learn more about interactive tables.';\n",
              "          element.innerHTML = '';\n",
              "          dataTable['output_type'] = 'display_data';\n",
              "          await google.colab.output.renderOutput(dataTable, element);\n",
              "          const docLink = document.createElement('div');\n",
              "          docLink.innerHTML = docLinkHtml;\n",
              "          element.appendChild(docLink);\n",
              "        }\n",
              "      </script>\n",
              "    </div>\n",
              "  </div>\n",
              "  "
            ]
          },
          "metadata": {},
          "execution_count": 45
        }
      ]
    },
    {
      "cell_type": "code",
      "source": [
        "def obrabotka1(X, y):\n",
        "  model=LGBMClassifier()\n",
        "  sm = KMeansSMOTE(random_state=42,cluster_balance_threshold = 0.01)\n",
        "  X, y = sm.fit_resample(X, y)\n",
        "  sm = BorderlineSMOTE(random_state=42)\n",
        "  X, y = sm.fit_resample(X, y)\n",
        "  X_train, X_valid, y_train, y_valid = train_test_split(X, y, test_size=0.3, random_state=0)#test_size=0.3 # random_state=1235\n",
        "  model.fit(X_train, y_train)\n",
        "  # предсказываем\n",
        "  row = X_valid\n",
        "  yhat = model.predict(row)\n",
        "  y_predict = model.predict(X_valid)\n",
        "  df_c_100 = [0,1,2,3,4,5,6,7,8,9,10,11,12,13]\n",
        "  report = metrics.classification_report(y_valid, y_predict, labels=[0,1,2,3,4,5,6,7,8,9,10,11,12,13,14]) #precision, recall, f1-score,etc\n",
        "  print(report)\n",
        "  print(model.score(X_train, y_train))\n",
        "\n"
      ],
      "metadata": {
        "id": "ZCWX_Qp87l8n"
      },
      "execution_count": null,
      "outputs": []
    },
    {
      "cell_type": "code",
      "source": [
        "lis1 = list(lis[\"Unnamed: 0\"])[:24]\n",
        "X, y = dp[lis1] , dp['scp_codes']\n",
        "obrabotka1(X, y)"
      ],
      "metadata": {
        "colab": {
          "base_uri": "https://localhost:8080/"
        },
        "id": "ZKoNR-RR-FwI",
        "outputId": "768afc18-3d9b-4fdf-a714-73e3d1f131a4"
      },
      "execution_count": null,
      "outputs": [
        {
          "output_type": "stream",
          "name": "stdout",
          "text": [
            "              precision    recall  f1-score   support\n",
            "\n",
            "           0       0.46      0.72      0.56      2672\n",
            "           1       0.79      0.41      0.54      2542\n",
            "           2       0.86      0.63      0.73      2594\n",
            "           3       0.85      0.71      0.77      2621\n",
            "           4       0.87      0.80      0.84      2676\n",
            "           5       0.92      0.86      0.89      2569\n",
            "           6       0.91      0.93      0.92      2717\n",
            "           7       0.90      0.95      0.92      2592\n",
            "           8       0.91      0.96      0.93      2574\n",
            "           9       0.81      0.94      0.87      2687\n",
            "          10       0.92      0.95      0.93      2695\n",
            "          11       0.95      0.94      0.95      2653\n",
            "          12       0.94      0.98      0.96      2602\n",
            "          13       0.92      0.98      0.95      2618\n",
            "          14       0.97      0.98      0.97      2653\n",
            "\n",
            "    accuracy                           0.85     39465\n",
            "   macro avg       0.86      0.85      0.85     39465\n",
            "weighted avg       0.86      0.85      0.85     39465\n",
            "\n",
            "0.8869414128251072\n"
          ]
        }
      ]
    },
    {
      "cell_type": "code",
      "source": [
        "lis1 = list(lis[\"Unnamed: 0\"])[:23]\n",
        "X, y = dp[lis1] , dp['scp_codes']\n",
        "obrabotka1(X, y)"
      ],
      "metadata": {
        "colab": {
          "base_uri": "https://localhost:8080/"
        },
        "id": "7ucsu5eo-wmQ",
        "outputId": "8f3a546f-0daf-40dd-9035-b40b73460faa"
      },
      "execution_count": null,
      "outputs": [
        {
          "output_type": "stream",
          "name": "stdout",
          "text": [
            "              precision    recall  f1-score   support\n",
            "\n",
            "           0       0.46      0.72      0.56      2672\n",
            "           1       0.78      0.42      0.54      2542\n",
            "           2       0.85      0.62      0.72      2594\n",
            "           3       0.86      0.72      0.78      2621\n",
            "           4       0.88      0.81      0.84      2676\n",
            "           5       0.91      0.86      0.88      2569\n",
            "           6       0.91      0.94      0.92      2717\n",
            "           7       0.89      0.95      0.92      2592\n",
            "           8       0.92      0.96      0.94      2574\n",
            "           9       0.80      0.94      0.87      2687\n",
            "          10       0.93      0.95      0.94      2695\n",
            "          11       0.95      0.95      0.95      2653\n",
            "          12       0.95      0.98      0.96      2602\n",
            "          13       0.92      0.98      0.95      2618\n",
            "          14       0.97      0.98      0.98      2653\n",
            "\n",
            "    accuracy                           0.85     39465\n",
            "   macro avg       0.87      0.85      0.85     39465\n",
            "weighted avg       0.87      0.85      0.85     39465\n",
            "\n",
            "0.887050008144649\n"
          ]
        }
      ]
    },
    {
      "cell_type": "code",
      "source": [
        "lis1 = list(lis[\"Unnamed: 0\"])[:22]\n",
        "X, y = dp[lis1] , dp['scp_codes']\n",
        "obrabotka1(X, y)"
      ],
      "metadata": {
        "colab": {
          "base_uri": "https://localhost:8080/"
        },
        "id": "nrHMoHL4-0Vf",
        "outputId": "97a91dad-dffe-4f33-c6d3-cefcf2f9ca5b"
      },
      "execution_count": null,
      "outputs": [
        {
          "output_type": "stream",
          "name": "stdout",
          "text": [
            "              precision    recall  f1-score   support\n",
            "\n",
            "           0       0.45      0.71      0.55      2672\n",
            "           1       0.81      0.40      0.53      2542\n",
            "           2       0.84      0.62      0.71      2594\n",
            "           3       0.84      0.70      0.76      2621\n",
            "           4       0.87      0.82      0.84      2676\n",
            "           5       0.89      0.86      0.87      2569\n",
            "           6       0.91      0.94      0.92      2717\n",
            "           7       0.90      0.95      0.92      2592\n",
            "           8       0.90      0.96      0.93      2574\n",
            "           9       0.81      0.94      0.87      2688\n",
            "          10       0.93      0.95      0.94      2694\n",
            "          11       0.94      0.94      0.94      2653\n",
            "          12       0.95      0.98      0.96      2602\n",
            "          13       0.92      0.98      0.95      2618\n",
            "          14       0.97      0.98      0.98      2653\n",
            "\n",
            "    accuracy                           0.85     39465\n",
            "   macro avg       0.86      0.85      0.85     39465\n",
            "weighted avg       0.86      0.85      0.85     39465\n",
            "\n",
            "0.8863332790356736\n"
          ]
        }
      ]
    },
    {
      "cell_type": "markdown",
      "source": [
        "## Сократим модель с помощью функций // подает точность"
      ],
      "metadata": {
        "id": "rGp7K_csahg1"
      }
    },
    {
      "cell_type": "markdown",
      "source": [
        "До удалении последнего столбца судя по всему происходит переобучение ."
      ],
      "metadata": {
        "id": "iHF7WkMRg8Ib"
      }
    },
    {
      "cell_type": "code",
      "source": [
        "from sklearn.ensemble import ExtraTreesClassifier\n",
        "from sklearn.datasets import load_iris\n",
        "from sklearn.feature_selection import SelectFromModel\n",
        "\n",
        "\n",
        "X, y = dp.drop(columns=['scp_codes']) , dp['scp_codes']\n",
        "clf = ExtraTreesClassifier(n_estimators=50)\n",
        "clf = clf.fit(X, y)\n",
        "clf.feature_importances_  \n",
        "model = SelectFromModel(clf, prefit=True)\n",
        "X_new = model.transform(X)\n",
        "X=X_new\n",
        "obrabotka1(X, y)"
      ],
      "metadata": {
        "colab": {
          "base_uri": "https://localhost:8080/"
        },
        "id": "3UG8xMF6xTwR",
        "outputId": "bfd3e306-96f1-411e-8d5d-94223fa6d822"
      },
      "execution_count": null,
      "outputs": [
        {
          "output_type": "stream",
          "name": "stderr",
          "text": [
            "/usr/local/lib/python3.7/dist-packages/sklearn/base.py:444: UserWarning: X has feature names, but SelectFromModel was fitted without feature names\n",
            "  f\"X has feature names, but {self.__class__.__name__} was fitted without\"\n"
          ]
        },
        {
          "output_type": "stream",
          "name": "stdout",
          "text": [
            "              precision    recall  f1-score   support\n",
            "\n",
            "           0       0.46      0.71      0.56      2672\n",
            "           1       0.80      0.39      0.53      2542\n",
            "           2       0.84      0.62      0.71      2594\n",
            "           3       0.85      0.70      0.77      2621\n",
            "           4       0.87      0.81      0.84      2676\n",
            "           5       0.89      0.85      0.87      2569\n",
            "           6       0.90      0.93      0.92      2717\n",
            "           7       0.89      0.95      0.92      2592\n",
            "           8       0.90      0.96      0.93      2574\n",
            "           9       0.80      0.94      0.87      2688\n",
            "          10       0.92      0.95      0.94      2694\n",
            "          11       0.94      0.95      0.94      2653\n",
            "          12       0.95      0.98      0.96      2602\n",
            "          13       0.92      0.98      0.95      2618\n",
            "          14       0.97      0.98      0.98      2653\n",
            "\n",
            "    accuracy                           0.85     39465\n",
            "   macro avg       0.86      0.85      0.84     39465\n",
            "weighted avg       0.86      0.85      0.84     39465\n",
            "\n",
            "0.8852581853722105\n"
          ]
        }
      ]
    },
    {
      "cell_type": "code",
      "source": [
        "#X, y = dp.drop(columns=['scp_codes']) , dp['scp_codes']\n",
        "from sklearn.feature_selection import VarianceThreshold\n",
        "X, y = dp.drop(columns=['scp_codes']) , dp['scp_codes']\n",
        "selector = VarianceThreshold()\n",
        "X = selector.fit_transform(X)\n",
        "obrabotka1(X, y)"
      ],
      "metadata": {
        "colab": {
          "base_uri": "https://localhost:8080/"
        },
        "id": "ZPsvfO5weEb8",
        "outputId": "81ac737e-6d27-40ce-d3c5-969adee9bb3f"
      },
      "execution_count": null,
      "outputs": [
        {
          "output_type": "stream",
          "name": "stdout",
          "text": [
            "              precision    recall  f1-score   support\n",
            "\n",
            "           0       0.46      0.76      0.57      2672\n",
            "           1       0.80      0.42      0.55      2542\n",
            "           2       0.86      0.63      0.72      2594\n",
            "           3       0.87      0.72      0.79      2621\n",
            "           4       0.88      0.81      0.84      2676\n",
            "           5       0.90      0.86      0.88      2569\n",
            "           6       0.91      0.94      0.92      2717\n",
            "           7       0.90      0.95      0.93      2592\n",
            "           8       0.93      0.96      0.94      2574\n",
            "           9       0.83      0.94      0.88      2687\n",
            "          10       0.92      0.95      0.93      2695\n",
            "          11       0.95      0.94      0.95      2653\n",
            "          12       0.95      0.98      0.97      2602\n",
            "          13       0.94      0.98      0.96      2618\n",
            "          14       0.98      0.98      0.98      2653\n",
            "\n",
            "    accuracy                           0.86     39465\n",
            "   macro avg       0.87      0.85      0.85     39465\n",
            "weighted avg       0.87      0.86      0.85     39465\n",
            "\n",
            "0.8896237172177879\n"
          ]
        }
      ]
    },
    {
      "cell_type": "markdown",
      "source": [
        "## Кросс-валидация"
      ],
      "metadata": {
        "id": "-ItMjUFUG1m0"
      }
    },
    {
      "cell_type": "code",
      "source": [
        "import sklearn as sk\n",
        "from sklearn import datasets, linear_model\n",
        "from sklearn.model_selection import cross_validate\n",
        "from sklearn.metrics import make_scorer\n",
        "from sklearn.metrics import confusion_matrix\n",
        "\n",
        "from sklearn.metrics import median_absolute_error\n",
        "from sklearn.model_selection import cross_val_score\n",
        "from sklearn.model_selection import cross_validate\n",
        "from sklearn.metrics import recall_score"
      ],
      "metadata": {
        "id": "BayY81tiBJc5"
      },
      "execution_count": 18,
      "outputs": []
    },
    {
      "cell_type": "code",
      "source": [
        "\n",
        "dp = pd.read_csv(\"/content/gdrive/MyDrive/data/\"+\"df_1_1.1\"+\".csv\").drop(columns =[\"Unnamed: 0\"], axis = 1)\n",
        "dp= dp.dropna()\n",
        "\n",
        "X, y = dp.drop(columns=['scp_codes']) , dp['scp_codes']\n",
        "sm = KMeansSMOTE(random_state=42,cluster_balance_threshold = 0.01)\n",
        "X1, y1 = sm.fit_resample(X, y)\n",
        "sm = BorderlineSMOTE(random_state=42)\n",
        "X1, y1 = sm.fit_resample(X1, y1)\n",
        "X_train, X_valid, y_train, y_valid = train_test_split(X1, y1, test_size=0.3, random_state=0)#test_size=0.3 # random_state=1235"
      ],
      "metadata": {
        "id": "WK4edLMQHP-W"
      },
      "execution_count": 13,
      "outputs": []
    },
    {
      "cell_type": "code",
      "source": [
        "model=LGBMClassifier()"
      ],
      "metadata": {
        "id": "VOubo5AntXij"
      },
      "execution_count": 16,
      "outputs": []
    },
    {
      "cell_type": "code",
      "source": [
        "scores = cross_val_score(model, X1, y1, cv=5)\n",
        "scores"
      ],
      "metadata": {
        "colab": {
          "base_uri": "https://localhost:8080/"
        },
        "id": "bfNs2mK7HL4M",
        "outputId": "730fe8fb-214c-4b9a-d319-c57d4aa2c3c5"
      },
      "execution_count": null,
      "outputs": [
        {
          "output_type": "execute_result",
          "data": {
            "text/plain": [
              "array([0.66822501, 0.8781832 , 0.90820981, 0.90733561, 0.84747244])"
            ]
          },
          "metadata": {},
          "execution_count": 14
        }
      ]
    },
    {
      "cell_type": "code",
      "source": [
        "scores = cross_val_score(model, X1, y1, cv=5)\n",
        "scores"
      ],
      "metadata": {
        "colab": {
          "base_uri": "https://localhost:8080/"
        },
        "id": "lzxwc9a641aQ",
        "outputId": "9e3241c9-a8a0-4f9f-bbb0-7c98a810923b"
      },
      "execution_count": 19,
      "outputs": [
        {
          "output_type": "execute_result",
          "data": {
            "text/plain": [
              "array([0.66822501, 0.8781832 , 0.90820981, 0.90733561, 0.84747244])"
            ]
          },
          "metadata": {},
          "execution_count": 19
        }
      ]
    },
    {
      "cell_type": "code",
      "source": [
        "print(\"%0.2f accuracy with a standard deviation of %0.2f\" % (scores.mean(), scores.std()))"
      ],
      "metadata": {
        "colab": {
          "base_uri": "https://localhost:8080/"
        },
        "id": "u5CCXbHcHUYx",
        "outputId": "5caf64e0-08b8-43b7-8b7d-9c9b3c92f15a"
      },
      "execution_count": null,
      "outputs": [
        {
          "output_type": "stream",
          "name": "stdout",
          "text": [
            "0.84 accuracy with a standard deviation of 0.09\n"
          ]
        }
      ]
    },
    {
      "cell_type": "code",
      "source": [
        "print(\"%0.2f accuracy with a standard deviation of %0.2f\" % (scores.mean(), scores.std()))"
      ],
      "metadata": {
        "colab": {
          "base_uri": "https://localhost:8080/"
        },
        "id": "53RX6gC75IKZ",
        "outputId": "2f3b082b-410d-4d77-a99a-9228d38def89"
      },
      "execution_count": 20,
      "outputs": [
        {
          "output_type": "stream",
          "name": "stdout",
          "text": [
            "0.84 accuracy with a standard deviation of 0.09\n"
          ]
        }
      ]
    },
    {
      "cell_type": "code",
      "source": [
        "scoring = ['precision_macro', 'recall_macro']\n",
        "clf = LGBMClassifier()\n",
        "scores = cross_validate(clf, X1, y1, scoring=scoring)\n",
        "sorted(scores.keys())\n",
        "scores"
      ],
      "metadata": {
        "colab": {
          "base_uri": "https://localhost:8080/"
        },
        "id": "Tqe9LL_IHVLl",
        "outputId": "d69e5c79-6cb9-4290-c7af-572a77fb06fe"
      },
      "execution_count": null,
      "outputs": [
        {
          "output_type": "execute_result",
          "data": {
            "text/plain": [
              "{'fit_time': array([57.23968172, 27.70727968, 28.0592649 , 28.97997212, 29.57196259]),\n",
              " 'score_time': array([2.40549135, 3.28551674, 2.48369956, 2.40286779, 2.41883755]),\n",
              " 'test_precision_macro': array([0.83171091, 0.87195477, 0.9086285 , 0.90801616, 0.85475473]),\n",
              " 'test_recall_macro': array([0.66822501, 0.8781832 , 0.90820981, 0.90733561, 0.84747244])}"
            ]
          },
          "metadata": {},
          "execution_count": 23
        }
      ]
    },
    {
      "cell_type": "code",
      "source": [
        "print(\"%0.2f accuracy with a standard deviation of %0.2f\" % (scores[\"test_precision_macro\"].mean(), scores[\"test_precision_macro\"].std()))"
      ],
      "metadata": {
        "colab": {
          "base_uri": "https://localhost:8080/"
        },
        "id": "NX-0wxgpMKu4",
        "outputId": "c79e37b7-b4c2-4d3a-a1d3-881437853d05"
      },
      "execution_count": null,
      "outputs": [
        {
          "output_type": "stream",
          "name": "stdout",
          "text": [
            "0.88 accuracy with a standard deviation of 0.03\n"
          ]
        }
      ]
    },
    {
      "cell_type": "code",
      "source": [
        "scoring = ['precision_macro', 'recall_macro']\n",
        "clf = LGBMClassifier()\n",
        "scores = cross_validate(clf, X1, y1, scoring=scoring)\n",
        "sorted(scores.keys())\n",
        "scores"
      ],
      "metadata": {
        "colab": {
          "base_uri": "https://localhost:8080/"
        },
        "id": "xWON4arR5NRh",
        "outputId": "01a33ab3-385e-48d4-b234-92ee7f6a0eda"
      },
      "execution_count": 21,
      "outputs": [
        {
          "output_type": "execute_result",
          "data": {
            "text/plain": [
              "{'fit_time': array([36.29680991, 36.48923039, 36.72317791, 36.78615761, 35.89366579]),\n",
              " 'score_time': array([3.5365622 , 3.68984127, 3.79250765, 3.7091279 , 3.76702619]),\n",
              " 'test_precision_macro': array([0.83171091, 0.87195477, 0.9086285 , 0.90801616, 0.85475473]),\n",
              " 'test_recall_macro': array([0.66822501, 0.8781832 , 0.90820981, 0.90733561, 0.84747244])}"
            ]
          },
          "metadata": {},
          "execution_count": 21
        }
      ]
    },
    {
      "cell_type": "code",
      "source": [
        "print(\"%0.2f recall with a standard deviation of %0.2f\" % (scores[\"test_precision_macro\"].mean(), scores[\"test_precision_macro\"].std()))"
      ],
      "metadata": {
        "colab": {
          "base_uri": "https://localhost:8080/"
        },
        "id": "Ftg_bxrK3_dh",
        "outputId": "3f609449-2399-4fcb-e763-ae39f24dfa8c"
      },
      "execution_count": 22,
      "outputs": [
        {
          "output_type": "stream",
          "name": "stdout",
          "text": [
            "0.88 recall with a standard deviation of 0.03\n"
          ]
        }
      ]
    },
    {
      "cell_type": "code",
      "source": [
        "from sklearn.model_selection import (\n",
        "    TimeSeriesSplit,\n",
        "    KFold,\n",
        "    ShuffleSplit,\n",
        "    StratifiedKFold,\n",
        "    GroupShuffleSplit,\n",
        "    GroupKFold,\n",
        "    StratifiedShuffleSplit,\n",
        "    StratifiedGroupKFold,\n",
        ")\n",
        "import numpy as np\n",
        "import matplotlib.pyplot as plt\n",
        "from matplotlib.patches import Patch\n",
        "\n",
        "rng = np.random.RandomState(1338)\n",
        "cmap_data = plt.cm.Paired\n",
        "cmap_cv = plt.cm.coolwarm\n",
        "n_splits = 4"
      ],
      "metadata": {
        "id": "VHJAmNGxMN_a"
      },
      "execution_count": null,
      "outputs": []
    },
    {
      "cell_type": "code",
      "source": [
        "X=X1\n",
        "y=y1\n",
        "# Generate uneven groups\n",
        "group_prior = rng.dirichlet([2] * 10)\n",
        "groups = np.repeat(np.arange(10), rng.multinomial(131550, group_prior))\n",
        "\n",
        "\n",
        "def visualize_groups(classes, groups, name):\n",
        "    # Visualize dataset groups\n",
        "    fig, ax = plt.subplots()\n",
        "    ax.scatter(range(len(groups)),[0.5] * len(groups),c=groups,marker=\"_\",lw=50,cmap=cmap_data,)\n",
        "    ax.scatter(range(len(groups)),[3.5] * len(groups),c=classes,marker=\"_\",lw=50,cmap=cmap_data,)\n",
        "    ax.set(ylim=[-1, 5],yticks=[0.5, 3.5],yticklabels=[\"Data\\ngroup\", \"Data\\nclass\"],xlabel=\"Sample index\",)\n",
        "\n",
        "\n",
        "visualize_groups(y, groups, \"no groups\")"
      ],
      "metadata": {
        "colab": {
          "base_uri": "https://localhost:8080/",
          "height": 279
        },
        "id": "9_rHAc4KNu1S",
        "outputId": "f87871e8-997d-4d27-80de-455c33a08b51"
      },
      "execution_count": null,
      "outputs": [
        {
          "output_type": "display_data",
          "data": {
            "text/plain": [
              "<Figure size 432x288 with 1 Axes>"
            ],
            "image/png": "[encoded data removed]"
          },
          "metadata": {
            "needs_background": "light"
          }
        }
      ]
    },
    {
      "cell_type": "code",
      "source": [
        "def plot_cv_indices(cv, X, y, group, ax, n_splits, lw=10):\n",
        "    \"\"\"Create a sample plot for indices of a cross-validation object.\"\"\"\n",
        "\n",
        "    # Generate the training/testing visualizations for each CV split\n",
        "    for ii, (tr, tt) in enumerate(cv.split(X=X, y=y, groups=group)):\n",
        "        # Fill in indices with the training/test groups\n",
        "        indices = np.array([np.nan] * len(X))\n",
        "        indices[tt] = 1\n",
        "        indices[tr] = 0\n",
        "\n",
        "        # Visualize the results\n",
        "    ax.scatter(range(len(indices)),[ii + 0.5] * len(indices),c=indices,marker=\"_\",lw=lw,cmap=cmap_cv,vmin=-0.2,vmax=1.2,)\n",
        "        # Plot the data classes and groups at the end\n",
        "    ax.scatter(range(len(X)), [ii + 1.5] * len(X), c=y, marker=\"_\", lw=lw, cmap=cmap_data)\n",
        "    ax.scatter(range(len(X)), [ii + 2.5] * len(X), c=group, marker=\"_\", lw=lw, cmap=cmap_data)\n",
        " # Formatting\n",
        "    yticklabels = list(range(n_splits)) + [\"class\", \"group\"]\n",
        "    ax.set(yticks=np.arange(n_splits + 2) + 0.5,yticklabels=yticklabels,xlabel=\"Sample index\",ylabel=\"CV iteration\",ylim=[n_splits + 2.2, -0.2],xlim=[0, 131550],)\n",
        "    ax.set_title(\"{}\".format(type(cv).__name__), fontsize=15)\n",
        "    return ax\n",
        "fig, ax = plt.subplots()\n",
        "cv = KFold(n_splits)\n",
        "plot_cv_indices(cv, X, y, groups, ax, n_splits)"
      ],
      "metadata": {
        "colab": {
          "base_uri": "https://localhost:8080/",
          "height": 314
        },
        "id": "wTCbBgd2PdnC",
        "outputId": "81577ab1-4871-4bb8-eb56-b44e78fdedf0"
      },
      "execution_count": null,
      "outputs": [
        {
          "output_type": "execute_result",
          "data": {
            "text/plain": [
              "<matplotlib.axes._subplots.AxesSubplot at 0x7f4ee3348690>"
            ]
          },
          "metadata": {},
          "execution_count": 41
        },
        {
          "output_type": "display_data",
          "data": {
            "text/plain": [
              "<Figure size 432x288 with 1 Axes>"
            ],
            "image/png": "[encoded data removed]"
          },
          "metadata": {
            "needs_background": "light"
          }
        }
      ]
    },
    {
      "cell_type": "code",
      "source": [
        "cvs = [StratifiedKFold, GroupKFold, StratifiedGroupKFold]\n",
        "\n",
        "for cv in cvs:\n",
        "    fig, ax = plt.subplots(figsize=(6, 3))\n",
        "    plot_cv_indices(cv(n_splits), X, y, groups, ax, n_splits)\n",
        "    ax.legend(\n",
        "        [Patch(color=cmap_cv(0.8)), Patch(color=cmap_cv(0.02))],\n",
        "        [\"Testing set\", \"Training set\"],\n",
        "        loc=(1.02, 0.8),\n",
        "    )\n",
        "    # Make the legend fit\n",
        "    plt.tight_layout()\n",
        "    fig.subplots_adjust(right=0.7)\n"
      ],
      "metadata": {
        "colab": {
          "base_uri": "https://localhost:8080/",
          "height": 641
        },
        "id": "JY9H-aQXQxbI",
        "outputId": "0c16b3b6-198d-4209-9c89-f8691048e19c"
      },
      "execution_count": null,
      "outputs": [
        {
          "output_type": "display_data",
          "data": {
            "text/plain": [
              "<Figure size 432x216 with 1 Axes>"
            ],
            "image/png": "[encoded data removed]"
          },
          "metadata": {
            "needs_background": "light"
          }
        },
        {
          "output_type": "display_data",
          "data": {
            "text/plain": [
              "<Figure size 432x216 with 1 Axes>"
            ],
            "image/png": "[encoded data removed]"
          },
          "metadata": {
            "needs_background": "light"
          }
        },
        {
          "output_type": "display_data",
          "data": {
            "text/plain": [
              "<Figure size 432x216 with 1 Axes>"
            ],
            "image/png": "[encoded data removed]"
          },
          "metadata": {
            "needs_background": "light"
          }
        }
      ]
    }
  ],
  "metadata": {
    "accelerator": "GPU",
    "colab": {
      "collapsed_sections": [
        "IMNhMg7hfEUy",
        "j45DLX7a2kIQ",
        "RofeJ611fKQC",
        "rh-Zhb8Syqbc"
      ],
      "name": "PTB_03.ipynb",
      "provenance": []
    },
    "kernelspec": {
      "display_name": "Python 3",
      "name": "python3"
    },
    "language_info": {
      "name": "python"
    },
    "gpuClass": "standard"
  },
  "nbformat": 4,
  "nbformat_minor": 0
}